{
 "cells": [
  {
   "cell_type": "markdown",
   "metadata": {},
   "source": [
    "## Bit Manipulation In Python"
   ]
  },
  {
   "cell_type": "code",
   "execution_count": 1,
   "metadata": {},
   "outputs": [],
   "source": [
    "from struct import *"
   ]
  },
  {
   "cell_type": "code",
   "execution_count": 2,
   "metadata": {},
   "outputs": [
    {
     "name": "stdout",
     "output_type": "stream",
     "text": [
      "b'\\x06\\x00\\x00\\x00\\x13\\x00\\x00\\x00\\xc3\\xf5H@'\n"
     ]
    }
   ],
   "source": [
    "# Store as Byte Data also known as packing technique with struct library\n",
    "packed_data = pack('iif', 6, 19, 3.14)\n",
    "print(packed_data)"
   ]
  },
  {
   "cell_type": "code",
   "execution_count": 3,
   "metadata": {},
   "outputs": [],
   "source": [
    "#b'\\x06\\x00\\x00\\x00\\x13\\x00\\x00\\x00\\xc3\\xf5H@'\n",
    "#b symbolizes Byte Format."
   ]
  },
  {
   "cell_type": "code",
   "execution_count": 16,
   "metadata": {},
   "outputs": [
    {
     "name": "stdout",
     "output_type": "stream",
     "text": [
      "The Amount Of Space Allocated Based On DataType: \n",
      "For 1 Integer: 4 Bytes\n",
      "For 1 Float: 4 Bytes\n",
      "For 2 Integer & 1 Float: 12 Bytes\n"
     ]
    }
   ],
   "source": [
    "# Printing the space occupied for storing 1 integer.\n",
    "print('The Amount Of Space Allocated Based On DataType: ')\n",
    "print('For 1 Integer: '+str(calcsize('i')) +' Bytes')\n",
    "\n",
    "# Printing the space occupied for storing 1 float.\n",
    "print('For 1 Float: '+str(calcsize('f')) +' Bytes')\n",
    "\n",
    "# Printing the space occupied for storing 2 integer and 1 float.\n",
    "print('For 2 Integer & 1 Float: '+str(calcsize('iif')) +' Bytes')"
   ]
  },
  {
   "cell_type": "code",
   "execution_count": 18,
   "metadata": {},
   "outputs": [
    {
     "name": "stdout",
     "output_type": "stream",
     "text": [
      "(6, 19, 3.140000104904175)\n"
     ]
    }
   ],
   "source": [
    "# Unpacking The Data From The Existing Packed Variable Via Indirect Method\n",
    "unpacked_data = unpack('iif', packed_data)\n",
    "print(unpacked_data)"
   ]
  },
  {
   "cell_type": "code",
   "execution_count": 19,
   "metadata": {},
   "outputs": [
    {
     "name": "stdout",
     "output_type": "stream",
     "text": [
      "(6, 19, 3.140000104904175)\n"
     ]
    }
   ],
   "source": [
    "# Unpacking The Data From The Existing Packed Variable Via Direct Method\n",
    "unpacked_data = unpack('iif', b'\\x06\\x00\\x00\\x00\\x13\\x00\\x00\\x00\\xc3\\xf5H@')\n",
    "print(unpacked_data)"
   ]
  },
  {
   "cell_type": "code",
   "execution_count": 1,
   "metadata": {},
   "outputs": [
    {
     "name": "stdout",
     "output_type": "stream",
     "text": [
      "1\n"
     ]
    }
   ],
   "source": [
    "print(0b00000001)"
   ]
  },
  {
   "cell_type": "markdown",
   "metadata": {},
   "source": [
    "#Bit Shift To Point Out Numbers\n",
    "\n",
    "<'https://modis-atmosphere.gsfc.nasa.gov/sites/default/files/ModAtmo/QA_Plan_C61_Master_2017_03_15.pdf'>\n",
    "\n",
    "1. Turning the Bit On:\n",
    "    X OR 1 = 1\n",
    "    \n",
    "    10110011\n",
    "    00000001 -- 1 in decimal is 1 in binary\n",
    "    00000100 -- Shifted 1 by 2 position to point out the third last number above.\n",
    "    \n",
    "    10110011\n",
    " OR 00000100 -- Performing an OR operation on the original number and the shifted number.\n",
    "---------------\n",
    "    10110111 -- The Resulting Number is same as the original except the digit which we wanted to examine with shifting.\n",
    "    \n",
    "    The new value can be used to find out the changes in the original value.\n",
    "    \n",
    "2. Toggling the Value Of A Bit:\n",
    "\n",
    "XOR Table : A | B | Ans\n",
    "            0 | 0 |  0\n",
    "            0 | 1 |  1\n",
    "            1 | 0 |  1\n",
    "            1 | 1 |  0\n",
    "            \n",
    "    \n",
    "    10110011\n",
    "    00000001 -- 1 in decimal is 1 in binary\n",
    "    00000010 -- Shifted 1 by 1 position to point out the third last number above.\n",
    "    \n",
    "    10110011\n",
    "XOR 00000010 -- Performing an XOR operation on the original number and the shifted number.\n",
    "---------------\n",
    "    10110101 -- The Resulting Number is same as the original except the digit which we wanted to examine with shifting.\n",
    "    \n",
    "    The Bit Value will change from True To False or False To True. Basically Toggling The Value Of A Bit.\n",
    "\n",
    "3. Turning the Bit Off:\n",
    "AND Table : A | B | Ans\n",
    "            0 | 0 |  0\n",
    "            0 | 1 |  0\n",
    "            1 | 0 |  0\n",
    "            1 | 1 |  1\n",
    "            \n",
    "    \n",
    "    10110011\n",
    "    00000001 -- 1 in decimal is 1 in binary\n",
    "    00000100 -- Shifted 1 by 2 position to point out the third last number above.\n",
    "    11111011 -- NOT operation perfomed on the shifted value.\n",
    "    \n",
    "    10110011\n",
    "AND 11111011 -- Performing an AND operation on the original number and the shifted number.\n",
    "---------------\n",
    "    10110011 -- The Resulting Number is same as the original except the digit which we wanted to examine with shifting.\n",
    "    \n",
    "    The new value can be used to find out the changes in the original value.\n",
    "    \n",
    "4. To Query A Bit:\n",
    "    The Result of this reference will not be affect the original number yet help in figuring out each digit value of the number.\n",
    "    \n",
    "    10101110\n",
    "AND 00001000 -- Quering the Fifth Digit of the Number\n",
    "--------------\n",
    "    00001000 -- Displays That The Digit is in fact a 1 or True.\n",
    "    \n",
    "    10100110\n",
    "AND 00001000 -- Quering the Fifth Digit of the Number\n",
    "--------------\n",
    "    00000000 -- Displays That The Digit is in fact a 0 or False.\n",
    "    \n",
    "    \n",
    "    Converting these results number into decimal will confirm two things:\n",
    "    1. A Non-Zero Decimal number confirms the digit value we were quering was indeed 1 or True. (Any Values like 2,4,8,..1024,2048..)\n",
    "    2. A Zero Decimal number confirms the digit value we were quering was indeed 0 or False.\n",
    "    "
   ]
  },
  {
   "cell_type": "code",
   "execution_count": 13,
   "metadata": {},
   "outputs": [
    {
     "name": "stdout",
     "output_type": "stream",
     "text": [
      "16\n",
      "0b10000\n"
     ]
    }
   ],
   "source": [
    "#------ BINARY/BITWISE AND -----------\n",
    "# AND Table : A | B | Ans\n",
    "#             0 | 0 |  0\n",
    "#             0 | 1 |  0\n",
    "#             1 | 0 |  0\n",
    "#             1 | 1 |  1\n",
    "            \n",
    "            \n",
    "a = 50    #110010\n",
    "b = 25    #011001\n",
    "c = a & b #010000\n",
    "\n",
    "print(c)\n",
    "print(bin(c))"
   ]
  },
  {
   "cell_type": "code",
   "execution_count": 11,
   "metadata": {},
   "outputs": [
    {
     "name": "stdout",
     "output_type": "stream",
     "text": [
      "59\n",
      "0b111011\n"
     ]
    }
   ],
   "source": [
    "#------ BINARY/BITWISE OR -----------\n",
    "# OR Table :  A | B | Ans\n",
    "#             0 | 0 |  0\n",
    "#             0 | 1 |  1\n",
    "#             1 | 0 |  1\n",
    "#             1 | 1 |  1\n",
    "            \n",
    "            \n",
    "a = 50    #110010\n",
    "b = 25    #011001\n",
    "c = a | b #111011\n",
    "\n",
    "print(c)\n",
    "print(bin(c))"
   ]
  },
  {
   "cell_type": "code",
   "execution_count": 12,
   "metadata": {},
   "outputs": [
    {
     "name": "stdout",
     "output_type": "stream",
     "text": [
      "43\n",
      "0b101011\n"
     ]
    }
   ],
   "source": [
    "#------ BINARY/BITWISE XOR -----------\n",
    "# XOR Table : A | B | Ans\n",
    "#             0 | 0 |  0\n",
    "#             0 | 1 |  1\n",
    "#             1 | 0 |  1\n",
    "#             1 | 1 |  0\n",
    "            \n",
    "            \n",
    "a = 50    #110010\n",
    "b = 25    #011001\n",
    "c = a ^ b #101011\n",
    "\n",
    "print(c)\n",
    "print(bin(c))"
   ]
  },
  {
   "cell_type": "code",
   "execution_count": 14,
   "metadata": {},
   "outputs": [
    {
     "name": "stdout",
     "output_type": "stream",
     "text": [
      "60\n",
      "0b111100\n"
     ]
    }
   ],
   "source": [
    "#------ BINARY/BITWISE RIGHT SHIFT -----------\n",
    "            \n",
    "    \n",
    "x = 240     #11110000\n",
    "y = x >> 2  #00111100\n",
    "print(y)\n",
    "print(bin(y))"
   ]
  },
  {
   "cell_type": "code",
   "execution_count": 17,
   "metadata": {},
   "outputs": [
    {
     "name": "stdout",
     "output_type": "stream",
     "text": [
      "96\n",
      "0b1100000\n"
     ]
    }
   ],
   "source": [
    "#------ BINARY/BITWISE LEFT SHIFT -----------\n",
    "            \n",
    "    \n",
    "x = 24      #00011000\n",
    "y = x << 2  #01100000\n",
    "print(y)\n",
    "print(bin(y))"
   ]
  },
  {
   "cell_type": "code",
   "execution_count": 19,
   "metadata": {},
   "outputs": [
    {
     "name": "stdout",
     "output_type": "stream",
     "text": [
      "-25\n",
      "-0b11001\n"
     ]
    }
   ],
   "source": [
    "#------ BINARY/BITWISE COMPLITMENT -----------\n",
    "            \n",
    "    \n",
    "x = 24      #00011000\n",
    "y = ~x      #00011001\n",
    "print(y)\n",
    "print(bin(y))"
   ]
  },
  {
   "cell_type": "markdown",
   "metadata": {},
   "source": [
    "## Issues Regarding Pangeo Github // 403:Forbidden"
   ]
  },
  {
   "cell_type": "markdown",
   "metadata": {},
   "source": [
    " Issue #424 <https://github.com/pangeo-data/pangeo/issues/424>\n",
    "\n",
    "\tClone The Repo By Forking It To Personal Git.\n",
    "\tUpdate The People.yml file in docs/data/people.yml with your credentials\n",
    "\n",
    "\tCredentials Sample : \t- first_name: John\n",
    "  \t\t\t\t\t     \tlast_name: Doe\n",
    " \t\t\t\t\t      \tinstitution: University of Maryland\n",
    "                                website: https://johndoe.com\n",
    "                                email: jdoe123@gmail.com\n",
    "                                github: johndoe\n",
    "                                tags:\n",
    "  \t\t\t\t\t\t\t   - climate\n",
    " \t\t\t\t\t\t\t   - distributed computing\n",
    " \t\t\t\t\t\t\t   - water resources\n",
    " \t\t\t\t\t\t\t   - cloud computing\n",
    "\n",
    "\tMake A Pull Request To The Master Branch.\n",
    "\tMake Your Organization Visibility To Public.\n",
    "\n",
    "\tCurrently Made A Pull Request To The Repo : \n",
    "\t#495 : <https://github.com/pangeo-data/pangeo/pull/495>"
   ]
  },
  {
   "cell_type": "code",
   "execution_count": null,
   "metadata": {},
   "outputs": [],
   "source": []
  }
 ],
 "metadata": {
  "kernelspec": {
   "display_name": "Python 3",
   "language": "python",
   "name": "python3"
  },
  "language_info": {
   "codemirror_mode": {
    "name": "ipython",
    "version": 3
   },
   "file_extension": ".py",
   "mimetype": "text/x-python",
   "name": "python",
   "nbconvert_exporter": "python",
   "pygments_lexer": "ipython3",
   "version": "3.6.7"
  }
 },
 "nbformat": 4,
 "nbformat_minor": 2
}
