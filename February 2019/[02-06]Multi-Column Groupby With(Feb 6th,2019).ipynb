{
 "cells": [
  {
   "cell_type": "code",
   "execution_count": 2,
   "metadata": {},
   "outputs": [],
   "source": [
    "import numpy as np"
   ]
  },
  {
   "cell_type": "code",
   "execution_count": 5,
   "metadata": {},
   "outputs": [],
   "source": [
    "output_array = np.zeros((14,4,3), dtype=np.float32)\n",
    "for i in range(14):\n",
    "    mat = np.random.rand(4,3)\n",
    "    output_array[i] = mat"
   ]
  },
  {
   "cell_type": "code",
   "execution_count": 6,
   "metadata": {},
   "outputs": [
    {
     "data": {
      "text/plain": [
       "array([[[0.612166  , 0.086602  , 0.04225902],\n",
       "        [0.98209095, 0.06210275, 0.32023424],\n",
       "        [0.05297995, 0.11876907, 0.4504795 ],\n",
       "        [0.29388422, 0.73193616, 0.23345035]],\n",
       "\n",
       "       [[0.23526764, 0.5153733 , 0.66849965],\n",
       "        [0.74755454, 0.23864603, 0.58179474],\n",
       "        [0.3558022 , 0.1194774 , 0.25879085],\n",
       "        [0.500115  , 0.94838446, 0.2947674 ]],\n",
       "\n",
       "       [[0.19810627, 0.11604852, 0.6968081 ],\n",
       "        [0.10551651, 0.74905413, 0.16817139],\n",
       "        [0.47279564, 0.7817949 , 0.17625932],\n",
       "        [0.67614716, 0.9526403 , 0.09916047]],\n",
       "\n",
       "       [[0.04577954, 0.44809738, 0.8409271 ],\n",
       "        [0.38579747, 0.991371  , 0.7627571 ],\n",
       "        [0.90611327, 0.6551155 , 0.18137285],\n",
       "        [0.23176843, 0.43555325, 0.8267309 ]],\n",
       "\n",
       "       [[0.3358047 , 0.69908565, 0.6745885 ],\n",
       "        [0.19779533, 0.10082885, 0.08072492],\n",
       "        [0.02084283, 0.7896415 , 0.7854796 ],\n",
       "        [0.60806435, 0.16778533, 0.85163397]],\n",
       "\n",
       "       [[0.39768586, 0.00428783, 0.47645104],\n",
       "        [0.6218031 , 0.7262146 , 0.4000742 ],\n",
       "        [0.8526771 , 0.7786827 , 0.07630254],\n",
       "        [0.29363996, 0.30408868, 0.41775155]],\n",
       "\n",
       "       [[0.8601923 , 0.7198309 , 0.28706354],\n",
       "        [0.22833763, 0.22658502, 0.9922404 ],\n",
       "        [0.6444049 , 0.38014993, 0.05072439],\n",
       "        [0.5342598 , 0.9163692 , 0.01744643]],\n",
       "\n",
       "       [[0.930853  , 0.35009244, 0.07400023],\n",
       "        [0.59129226, 0.8015768 , 0.93535507],\n",
       "        [0.47268996, 0.6344349 , 0.07446834],\n",
       "        [0.7155345 , 0.64858395, 0.9887186 ]],\n",
       "\n",
       "       [[0.690759  , 0.1124365 , 0.17399578],\n",
       "        [0.44762567, 0.81552935, 0.7914636 ],\n",
       "        [0.27589715, 0.2573876 , 0.5898836 ],\n",
       "        [0.87989473, 0.27852452, 0.4551262 ]],\n",
       "\n",
       "       [[0.50866646, 0.5719509 , 0.26614535],\n",
       "        [0.47521123, 0.43875504, 0.01645352],\n",
       "        [0.32944277, 0.07794774, 0.9274734 ],\n",
       "        [0.20089889, 0.34420335, 0.73655546]],\n",
       "\n",
       "       [[0.2761476 , 0.9980315 , 0.26410404],\n",
       "        [0.04430168, 0.80018973, 0.65590084],\n",
       "        [0.5742627 , 0.39253092, 0.34159476],\n",
       "        [0.40029112, 0.05740318, 0.8158905 ]],\n",
       "\n",
       "       [[0.3816546 , 0.8599577 , 0.15651223],\n",
       "        [0.55813646, 0.29064342, 0.999028  ],\n",
       "        [0.21639368, 0.8265781 , 0.80991304],\n",
       "        [0.6408219 , 0.48503324, 0.85875267]],\n",
       "\n",
       "       [[0.8917378 , 0.0237876 , 0.6878621 ],\n",
       "        [0.6493863 , 0.06836739, 0.7684699 ],\n",
       "        [0.1080745 , 0.34803876, 0.36194274],\n",
       "        [0.03730942, 0.17734978, 0.11581321]],\n",
       "\n",
       "       [[0.2322907 , 0.30734983, 0.8010479 ],\n",
       "        [0.21606864, 0.5835492 , 0.5214072 ],\n",
       "        [0.79821026, 0.8987301 , 0.09203993],\n",
       "        [0.2971274 , 0.41943458, 0.7417975 ]]], dtype=float32)"
      ]
     },
     "execution_count": 6,
     "metadata": {},
     "output_type": "execute_result"
    }
   ],
   "source": [
    "output_array"
   ]
  },
  {
   "cell_type": "code",
   "execution_count": 7,
   "metadata": {},
   "outputs": [
    {
     "data": {
      "text/plain": [
       "(14, 4, 3)"
      ]
     },
     "execution_count": 7,
     "metadata": {},
     "output_type": "execute_result"
    }
   ],
   "source": [
    "output_array.shape"
   ]
  },
  {
   "cell_type": "code",
   "execution_count": 8,
   "metadata": {},
   "outputs": [],
   "source": [
    "output_array2 = np.zeros((14,4,3), dtype=np.float32)\n"
   ]
  },
  {
   "cell_type": "code",
   "execution_count": 9,
   "metadata": {},
   "outputs": [
    {
     "data": {
      "text/plain": [
       "array([[[0., 0., 0.],\n",
       "        [0., 0., 0.],\n",
       "        [0., 0., 0.],\n",
       "        [0., 0., 0.]],\n",
       "\n",
       "       [[0., 0., 0.],\n",
       "        [0., 0., 0.],\n",
       "        [0., 0., 0.],\n",
       "        [0., 0., 0.]],\n",
       "\n",
       "       [[0., 0., 0.],\n",
       "        [0., 0., 0.],\n",
       "        [0., 0., 0.],\n",
       "        [0., 0., 0.]],\n",
       "\n",
       "       [[0., 0., 0.],\n",
       "        [0., 0., 0.],\n",
       "        [0., 0., 0.],\n",
       "        [0., 0., 0.]],\n",
       "\n",
       "       [[0., 0., 0.],\n",
       "        [0., 0., 0.],\n",
       "        [0., 0., 0.],\n",
       "        [0., 0., 0.]],\n",
       "\n",
       "       [[0., 0., 0.],\n",
       "        [0., 0., 0.],\n",
       "        [0., 0., 0.],\n",
       "        [0., 0., 0.]],\n",
       "\n",
       "       [[0., 0., 0.],\n",
       "        [0., 0., 0.],\n",
       "        [0., 0., 0.],\n",
       "        [0., 0., 0.]],\n",
       "\n",
       "       [[0., 0., 0.],\n",
       "        [0., 0., 0.],\n",
       "        [0., 0., 0.],\n",
       "        [0., 0., 0.]],\n",
       "\n",
       "       [[0., 0., 0.],\n",
       "        [0., 0., 0.],\n",
       "        [0., 0., 0.],\n",
       "        [0., 0., 0.]],\n",
       "\n",
       "       [[0., 0., 0.],\n",
       "        [0., 0., 0.],\n",
       "        [0., 0., 0.],\n",
       "        [0., 0., 0.]],\n",
       "\n",
       "       [[0., 0., 0.],\n",
       "        [0., 0., 0.],\n",
       "        [0., 0., 0.],\n",
       "        [0., 0., 0.]],\n",
       "\n",
       "       [[0., 0., 0.],\n",
       "        [0., 0., 0.],\n",
       "        [0., 0., 0.],\n",
       "        [0., 0., 0.]],\n",
       "\n",
       "       [[0., 0., 0.],\n",
       "        [0., 0., 0.],\n",
       "        [0., 0., 0.],\n",
       "        [0., 0., 0.]],\n",
       "\n",
       "       [[0., 0., 0.],\n",
       "        [0., 0., 0.],\n",
       "        [0., 0., 0.],\n",
       "        [0., 0., 0.]]], dtype=float32)"
      ]
     },
     "execution_count": 9,
     "metadata": {},
     "output_type": "execute_result"
    }
   ],
   "source": [
    "output_array2"
   ]
  },
  {
   "cell_type": "code",
   "execution_count": 11,
   "metadata": {},
   "outputs": [
    {
     "data": {
      "text/plain": [
       "(14, 4, 3)"
      ]
     },
     "execution_count": 11,
     "metadata": {},
     "output_type": "execute_result"
    }
   ],
   "source": [
    "output_array2.shape"
   ]
  },
  {
   "cell_type": "code",
   "execution_count": 12,
   "metadata": {},
   "outputs": [],
   "source": [
    "output_array3 = np.zeros((14,4,3), dtype=np.float32)\n",
    "for i in range(14):\n",
    "    mat = np.random.rand(1,3)\n",
    "    output_array3[i] = mat"
   ]
  },
  {
   "cell_type": "code",
   "execution_count": 14,
   "metadata": {},
   "outputs": [
    {
     "data": {
      "text/plain": [
       "(14, 4, 3)"
      ]
     },
     "execution_count": 14,
     "metadata": {},
     "output_type": "execute_result"
    }
   ],
   "source": [
    "output_array3.shape"
   ]
  },
  {
   "cell_type": "code",
   "execution_count": 16,
   "metadata": {},
   "outputs": [
    {
     "data": {
      "text/plain": [
       "(1, 3)"
      ]
     },
     "execution_count": 16,
     "metadata": {},
     "output_type": "execute_result"
    }
   ],
   "source": [
    "mat.shape"
   ]
  },
  {
   "cell_type": "code",
   "execution_count": 23,
   "metadata": {},
   "outputs": [
    {
     "ename": "ValueError",
     "evalue": "could not broadcast input array from shape (8,3) into shape (14,3)",
     "output_type": "error",
     "traceback": [
      "\u001b[0;31m---------------------------------------------------------------------------\u001b[0m",
      "\u001b[0;31mValueError\u001b[0m                                Traceback (most recent call last)",
      "\u001b[0;32m<ipython-input-23-ec47154ff8bd>\u001b[0m in \u001b[0;36m<module>\u001b[0;34m\u001b[0m\n\u001b[1;32m      2\u001b[0m \u001b[0;32mfor\u001b[0m \u001b[0mi\u001b[0m \u001b[0;32min\u001b[0m \u001b[0mrange\u001b[0m\u001b[0;34m(\u001b[0m\u001b[0;36m14\u001b[0m\u001b[0;34m)\u001b[0m\u001b[0;34m:\u001b[0m\u001b[0;34m\u001b[0m\u001b[0;34m\u001b[0m\u001b[0m\n\u001b[1;32m      3\u001b[0m     \u001b[0mmat\u001b[0m \u001b[0;34m=\u001b[0m \u001b[0mnp\u001b[0m\u001b[0;34m.\u001b[0m\u001b[0mrandom\u001b[0m\u001b[0;34m.\u001b[0m\u001b[0mrand\u001b[0m\u001b[0;34m(\u001b[0m\u001b[0;36m8\u001b[0m\u001b[0;34m,\u001b[0m\u001b[0;36m3\u001b[0m\u001b[0;34m)\u001b[0m\u001b[0;34m\u001b[0m\u001b[0;34m\u001b[0m\u001b[0m\n\u001b[0;32m----> 4\u001b[0;31m     \u001b[0moa4\u001b[0m\u001b[0;34m[\u001b[0m\u001b[0mi\u001b[0m\u001b[0;34m]\u001b[0m \u001b[0;34m=\u001b[0m \u001b[0mmat\u001b[0m\u001b[0;34m\u001b[0m\u001b[0;34m\u001b[0m\u001b[0m\n\u001b[0m",
      "\u001b[0;31mValueError\u001b[0m: could not broadcast input array from shape (8,3) into shape (14,3)"
     ]
    }
   ],
   "source": [
    "oa4 = np.zeros((14,14,3), dtype=np.float32)\n",
    "for i in range(14):\n",
    "    mat = np.random.rand(8,3)\n",
    "    oa4[i] = mat"
   ]
  },
  {
   "cell_type": "code",
   "execution_count": 25,
   "metadata": {},
   "outputs": [
    {
     "data": {
      "text/plain": [
       "array([[[10,  1],\n",
       "        [20,  3],\n",
       "        [ 3,  4]]])"
      ]
     },
     "execution_count": 25,
     "metadata": {},
     "output_type": "execute_result"
    }
   ],
   "source": [
    "a = np.array((10,20,3))\n",
    "b = np.array((1,3,4))\n",
    "np.dstack((a,b))"
   ]
  },
  {
   "cell_type": "code",
   "execution_count": 26,
   "metadata": {},
   "outputs": [
    {
     "data": {
      "text/plain": [
       "array([[[2030, 2030],\n",
       "        [1354, 1354]]])"
      ]
     },
     "execution_count": 26,
     "metadata": {},
     "output_type": "execute_result"
    }
   ],
   "source": [
    "a = np.array((2030,1354))\n",
    "b = np.array((2030,1354))\n",
    "np.dstack((a,b))"
   ]
  },
  {
   "cell_type": "code",
   "execution_count": null,
   "metadata": {},
   "outputs": [],
   "source": []
  }
 ],
 "metadata": {
  "kernelspec": {
   "display_name": "Python 3",
   "language": "python",
   "name": "python3"
  },
  "language_info": {
   "codemirror_mode": {
    "name": "ipython",
    "version": 3
   },
   "file_extension": ".py",
   "mimetype": "text/x-python",
   "name": "python",
   "nbconvert_exporter": "python",
   "pygments_lexer": "ipython3",
   "version": "3.6.7"
  }
 },
 "nbformat": 4,
 "nbformat_minor": 2
}
