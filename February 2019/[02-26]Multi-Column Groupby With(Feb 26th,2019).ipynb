{
 "cells": [
  {
   "cell_type": "code",
   "execution_count": 1,
   "metadata": {},
   "outputs": [],
   "source": [
    "#!/usr/bin/env python\n",
    "# -*- coding: utf-8 -*-\n",
    "\"\"\"\n",
    "Created on Fri Feb  22 17:16:55 2017\n",
    "@author: saviokay\n",
    "\"\"\"\n",
    "import numpy as np\n",
    "import xarray as xr\n",
    "import pandas as pd\n",
    "from netCDF4 import Dataset\n",
    "import os,datetime,sys,fnmatch\n",
    "import time\n",
    "import math\n",
    "import dask.array as da\n",
    "import graphviz"
   ]
  },
  {
   "cell_type": "code",
   "execution_count": 2,
   "metadata": {},
   "outputs": [],
   "source": [
    "# Read Function For MODO3 & MODO6 Files.\n",
    "def read_MODIS_level2_data(MOD06_file,MOD03_file):\n",
    "    print('Reading The Cloud Mask From MOD06_L2 Product:')\n",
    "    myd06 = Dataset(MOD06_file, \"r\")\n",
    "    CM = myd06.variables[\"Cloud_Mask_1km\"][:,:,:] # Reading Specific Variable 'Cloud_Mask_1km'.\n",
    "    CM   = (np.array(CM[:,:,0],dtype='byte') & 0b00000110) >>1\n",
    "    CM = np.array(CM).byteswap().newbyteorder()\n",
    "    print('The Level-2 Cloud Mask Array Shape',CM.shape)\n",
    "    print(' ')\n",
    "\n",
    "    myd03 = Dataset(MOD03_file, \"r\")\n",
    "    print('Reading The Latitude-Longitude From MOD03 Product:')\n",
    "    latitude = myd03.variables[\"Latitude\"][:,:] # Reading Specific Variable 'Latitude'.\n",
    "    latitude = np.array(latitude).byteswap().newbyteorder() # Addressing Byteswap For Big Endian Error.\n",
    "    longitude = myd03.variables[\"Longitude\"][:,:] # Reading Specific Variable 'Longitude'.\n",
    "    longitude = np.array(longitude).byteswap().newbyteorder() # Addressing Byteswap For Big Endian Error.\n",
    "    print('The Level-2 Latitude-Longitude Array Shape',latitude.shape)\n",
    "    print(' ')\n",
    "\n",
    "    return latitude,longitude,CM"
   ]
  },
  {
   "cell_type": "code",
   "execution_count": 3,
   "metadata": {},
   "outputs": [],
   "source": [
    "# Misc Function For Processing Cloud Fraction.\n",
    "def value_locate(refx, x):\n",
    "    refx = np.array(refx)\n",
    "    x = np.array(x)\n",
    "    loc = np.zeros(len(x), dtype='int')\n",
    "\n",
    "    for i in range(len(x)):\n",
    "        ix = x[i]\n",
    "        ind = ((refx - ix) <= 0).nonzero()[0]\n",
    "        if len(ind) == 0:\n",
    "            loc[i] = -1\n",
    "        else: loc[i] = ind[-1]\n",
    "\n",
    "    return loc\n",
    "\n",
    "def division(n, d):\n",
    "\n",
    "    div = np.zeros(len(d))\n",
    "    for i in range(len(d)):\n",
    "        if d[i] >0:\n",
    "          div[i]=n[i]/d[i]\n",
    "        else: div[i]=None \n",
    "\n",
    "    return div\n",
    "\n",
    "def countzero(x, axis=1):\n",
    "    #print(x)\n",
    "    count0 = 0\n",
    "    count1 = 0\n",
    "    for i in x:\n",
    "        if i <= 1:\n",
    "            count0 +=1\n",
    "    #print(count0/len(x))\n",
    "    return count0/len(x)"
   ]
  },
  {
   "cell_type": "code",
   "execution_count": 4,
   "metadata": {},
   "outputs": [
    {
     "name": "stdout",
     "output_type": "stream",
     "text": [
      "env: MOD03_PATH=/home/jovyan/Files/\n",
      "env: MOD06_PATH=/home/jovyan/Files/\n"
     ]
    }
   ],
   "source": [
    "# Setting File Location As Environment Variables\n",
    "%env MOD03_PATH=/home/jovyan/Files/\n",
    "%env MOD06_PATH=/home/jovyan/Files/"
   ]
  },
  {
   "cell_type": "code",
   "execution_count": 5,
   "metadata": {},
   "outputs": [],
   "source": [
    "MOD03_path = %env MOD03_PATH\n",
    "MOD06_path = %env MOD06_PATH\n",
    "satellite = 'Aqua'\n",
    "\n",
    "yr = [2008]\n",
    "mn = [1] #np.arange(1,13)  #[1]\n",
    "dy = [1] #np.arange(1,32) # [1] #np.arange(1,31)\n",
    "lat_bnd = np.arange(-90,91,1)# latitude and longtitude boundaries of level-3 grid\n",
    "lon_bnd = np.arange(-180,180,1)\n",
    "nlat = 180\n",
    "nlon = 360\n",
    "\n",
    "TOT_pix      = np.zeros(nlat*nlon)\n",
    "CLD_pix      = np.zeros(nlat*nlon)"
   ]
  },
  {
   "cell_type": "code",
   "execution_count": 6,
   "metadata": {},
   "outputs": [
    {
     "name": "stdout",
     "output_type": "stream",
     "text": [
      "Reading Level 2 GeoLocation & Cloud Data\n",
      "Reading The Cloud Mask From MOD06_L2 Product:\n",
      "The Level-2 Cloud Mask Array Shape (2030, 1354)\n",
      " \n",
      "Reading The Latitude-Longitude From MOD03 Product:\n",
      "The Level-2 Latitude-Longitude Array Shape (2030, 1354)\n",
      " \n"
     ]
    }
   ],
   "source": [
    "MOD03_fp = 'MYD03.A*.hdf'\n",
    "MOD06_fp = 'MYD06_L2.A*.hdf'\n",
    "MOD03_fn, MOD06_fn =[],[]\n",
    "#MOD03_fn2, MOD06_fn2 =[],[]\n",
    "MOD03_fn2, MOD06_fn2 =[],[]\n",
    "for MOD06_flist in  os.listdir(MOD06_path):\n",
    "    if fnmatch.fnmatch(MOD06_flist, MOD06_fp):\n",
    "        MOD06_fn = MOD06_flist\n",
    "        MOD06_fn2.append(MOD06_flist)\n",
    "        #print(MOD06_fn)\n",
    "for MOD03_flist in  os.listdir(MOD03_path):\n",
    "    if fnmatch.fnmatch(MOD03_flist, MOD03_fp):\n",
    "        MOD03_fn = MOD03_flist\n",
    "        MOD03_fn2.append(MOD03_flist)\n",
    "        #print(MOD03_fn)\n",
    "if MOD03_fn and MOD06_fn:\n",
    "    # if both MOD06 and MOD03 products are in the directory\n",
    "    print('Reading Level 2 GeoLocation & Cloud Data')\n",
    "    #print(MOD06_fn)\n",
    "    #print(MOD03_fn)\n",
    "    Lat,Lon,CM = read_MODIS_level2_data(MOD06_path+MOD06_fn,MOD03_path+MOD03_fn)\n",
    "    "
   ]
  },
  {
   "cell_type": "code",
   "execution_count": 7,
   "metadata": {},
   "outputs": [
    {
     "name": "stdout",
     "output_type": "stream",
     "text": [
      "The Files In The MODO3 List: \n",
      "['MYD03.A2008001.0010.006.2012066122416.hdf', 'MYD03.A2008001.0000.006.2012066122450.hdf', 'MYD03.A2008001.0005.006.2012066122516.hdf']\n",
      " \n",
      "The Files In The MODO6_L2 List: \n",
      "['MYD06_L2.A2008001.0005.006.2013341193207.hdf', 'MYD06_L2.A2008001.0010.006.2013341192125.hdf', 'MYD06_L2.A2008001.0000.006.2013341193524.hdf']\n"
     ]
    }
   ],
   "source": [
    "print('The Files In The MODO3 List: ')\n",
    "print(MOD03_fn2)\n",
    "print(' ')\n",
    "print('The Files In The MODO6_L2 List: ')\n",
    "print(MOD06_fn2)"
   ]
  },
  {
   "cell_type": "code",
   "execution_count": 9,
   "metadata": {},
   "outputs": [
    {
     "name": "stdout",
     "output_type": "stream",
     "text": [
      "The Cloud Mask Array Shape Is:  (2030, 1354, 4)\n",
      "The Latitude Array Shape Is:  (2030, 1354, 4)\n",
      "The Longitude Array Shape Is:  (2030, 1354, 4)\n"
     ]
    }
   ],
   "source": [
    "myd06_name = '/home/jovyan/Files/'\n",
    "\n",
    "cm = np.zeros((2030,1354), dtype=np.float32)\n",
    "bit0 = np.zeros((2030,1354), dtype=np.float32)\n",
    "bit12 = np.zeros((2030,1354), dtype=np.float32)\n",
    "\n",
    "for MOD06_file in MOD06_fn2:\n",
    "    MOD06_file2 = myd06_name + MOD06_file\n",
    "    myd06 = Dataset(MOD06_file2, \"r\")\n",
    "    CM = myd06.variables[\"Cloud_Mask_1km\"][:,:,:]# Reading Specific Variable 'Cloud_Mask_1km'.\n",
    "    CM = myd06.variables[\"Cloud_Mask_1km\"][:,:,0]\n",
    "    bit0r   = (np.array(CM,dtype='byte') & 0b00000001)\n",
    "    bit12r   = (np.array(CM,dtype='byte') & 0b00000110) >>1\n",
    "    CM = np.array(CM).byteswap().newbyteorder()\n",
    "    cm = np.dstack((cm,CM))\n",
    "    bit0 = np.dstack((bit0,bit0r))\n",
    "    bit12 = np.dstack((bit12,bit12r))\n",
    "        \n",
    "print('The Cloud Mask Array Shape Is: ',cm.shape)\n",
    "\n",
    "myd03_name = '/home/jovyan/Files/'\n",
    "\n",
    "\n",
    "lat = np.zeros((2030,1354), dtype=np.float32)\n",
    "lon = np.zeros((2030,1354), dtype=np.float32)\n",
    "\n",
    "##lat[:] = np.nan\n",
    "#lon[:] = np.nan\n",
    "\n",
    "\n",
    "for MOD03_file in MOD03_fn2:\n",
    "    MOD03_file2 = myd03_name + MOD03_file\n",
    "    myd03 = Dataset(MOD03_file2, \"r\")\n",
    "    latitude = myd03.variables[\"Latitude\"][:,:] # Reading Specific Variable 'Latitude'.\n",
    "    lat = np.dstack((lat,latitude))\n",
    "    #print(lat.min(), lat.max())\n",
    "    \n",
    "    longitude = myd03.variables[\"Longitude\"][:,:] # Reading Specific Variable 'Longitude'.\n",
    "    lon = np.dstack((lon,longitude))\n",
    "    #print(lon.min(), lon.max())\n",
    "    #print(' ')\n",
    "\n",
    "\n",
    "    \n",
    "\n",
    "\n",
    "    \n",
    "print('The Latitude Array Shape Is: ',lat.shape)\n",
    "print('The Longitude Array Shape Is: ',lon.shape)\n",
    "    "
   ]
  },
  {
   "cell_type": "code",
   "execution_count": 10,
   "metadata": {},
   "outputs": [
    {
     "data": {
      "text/plain": [
       "66.2927"
      ]
     },
     "execution_count": 10,
     "metadata": {},
     "output_type": "execute_result"
    }
   ],
   "source": [
    "lon.max()"
   ]
  },
  {
   "cell_type": "code",
   "execution_count": 11,
   "metadata": {},
   "outputs": [],
   "source": [
    "latint = lat.astype(np.int8)\n",
    "lonint = lon.astype(np.int8)"
   ]
  },
  {
   "cell_type": "code",
   "execution_count": 15,
   "metadata": {},
   "outputs": [
    {
     "data": {
      "text/plain": [
       "(2030, 1354, 4)"
      ]
     },
     "execution_count": 15,
     "metadata": {},
     "output_type": "execute_result"
    }
   ],
   "source": [
    "lat.shape"
   ]
  },
  {
   "cell_type": "code",
   "execution_count": 16,
   "metadata": {},
   "outputs": [],
   "source": [
    "lat = da.from_array(lat, chunks =(2030,1354,1))\n",
    "lon = da.from_array(lon, chunks =(2030,1354,1))\n",
    "latint = da.from_array(latint, chunks =(2030,1354,1))\n",
    "lonint = da.from_array(lonint, chunks =(2030,1354,1))\n",
    "cm = da.from_array(cm, chunks =(2030,1354,1))\n",
    "bit0 = da.from_array(bit0, chunks =(2030,1354,1))\n",
    "bit12 = da.from_array(bit12, chunks =(2030,1354,1))"
   ]
  },
  {
   "cell_type": "code",
   "execution_count": null,
   "metadata": {},
   "outputs": [],
   "source": [
    "d = {'Latitude' :  lat, 'Longitude' : lon,\n",
    "     'LatInt' :latint,'LonInt':lonint,'CM' :cm}\n",
    "df=pd.DataFrame(d,columns=['Latitude','Longitude','LatInt','LonInt', 'CM'])\n",
    "#dd1=dd.from_pandas(df,npartitions=1)"
   ]
  },
  {
   "cell_type": "code",
   "execution_count": 12,
   "metadata": {},
   "outputs": [],
   "source": [
    "dsa = xr.Dataset()\n",
    "dsa.coords['Latitude'] = (('x','y','z'), lat)\n",
    "dsa.coords['Longitude'] = (('x','y','z'), lon)\n",
    "dsa.coords['LatInt'] = (('x','y','z'), latint)\n",
    "dsa.coords['LonInt'] = (('x','y','z'), lonint)\n",
    "dsa['CloudMask'] = (('x','y','z'), cm)"
   ]
  },
  {
   "cell_type": "code",
   "execution_count": 13,
   "metadata": {},
   "outputs": [
    {
     "data": {
      "text/html": [
       "<table style=\"border: 2px solid white;\">\n",
       "<tr>\n",
       "<td style=\"vertical-align: top; border: 0px solid white\">\n",
       "<h3>Client</h3>\n",
       "<ul>\n",
       "  <li><b>Scheduler: </b>tcp://10.49.141.15:36929\n",
       "  <li><b>Dashboard: </b><a href='http://10.49.141.15:8787/status' target='_blank'>http://10.49.141.15:8787/status</a>\n",
       "</ul>\n",
       "</td>\n",
       "<td style=\"vertical-align: top; border: 0px solid white\">\n",
       "<h3>Cluster</h3>\n",
       "<ul>\n",
       "  <li><b>Workers: </b>0</li>\n",
       "  <li><b>Cores: </b>0</li>\n",
       "  <li><b>Memory: </b>0 B</li>\n",
       "</ul>\n",
       "</td>\n",
       "</tr>\n",
       "</table>"
      ],
      "text/plain": [
       "<Client: scheduler='tcp://10.49.141.15:36929' processes=0 cores=0>"
      ]
     },
     "execution_count": 13,
     "metadata": {},
     "output_type": "execute_result"
    }
   ],
   "source": [
    "from dask.distributed import Client\n",
    "\n",
    "client = Client(\"tcp://10.49.141.15:36929\")\n",
    "client"
   ]
  },
  {
   "cell_type": "code",
   "execution_count": null,
   "metadata": {},
   "outputs": [],
   "source": [
    "start_time = time.time()\n",
    "\n",
    "listOfCM = []\n",
    "finallist = []\n",
    "\n",
    "dsag = list(dsa.groupby('LonInt'))\n",
    "[future] = client.scatter([dsa], broadcast=True)  \n",
    "for listOfOneLong in dsag:\n",
    "    oneGrid = listOfOneLong[1].groupby('LatInt').reduce(countzero)\n",
    "    for values in oneGrid:\n",
    "        finalvalues = [oneGrid.LatInt.data[0], listOfOneLong[0], values.CloudMask.data[0]]\n",
    "        listOfCM.append(values)\n",
    "        finallist.append(finalvalues)\n",
    "    \n",
    "    #print(oneGrid)\n",
    "    #for one in list(oneGrid.Latitude):\n",
    "       # print(listOfOneLong[0], one, oneGrid.CM[1])\n",
    "\n",
    "        \n",
    "end_time = time.time()\n",
    "print(\"Total Time Taken This Loop: \", end_time - start_time)\n",
    "hours, rem = divmod(end_time-start_time, 3600)\n",
    "minutes, seconds = divmod(rem, 60)\n",
    "print(\"{:0>2}:{:0>2}:{:05.2f}\".format(int(hours),int(minutes),seconds))"
   ]
  },
  {
   "cell_type": "code",
   "execution_count": null,
   "metadata": {},
   "outputs": [],
   "source": [
    "start_time = time.time()\n",
    "\n",
    "listOfCM = []\n",
    "finallist = []\n",
    "\n",
    "dsag = list(dsa.groupby('LonInt'))\n",
    "\n",
    "for listOfOneLong in dsag:\n",
    "    #oneGrid = listOfOneLong[1].groupby('LatInt').reduce(countzero)\n",
    "    big_future = client.scatter(listOfOneLong[1].groupby('LatInt'))\n",
    "    future = client.submit(xr.Dataset.reduce(countzero), big_future)  \n",
    "    for values in oneGrid:\n",
    "        finalvalues = [oneGrid.LatInt.data[0], listOfOneLong[0], values.CloudMask.data[0]]\n",
    "        listOfCM.append(values)\n",
    "        finallist.append(finalvalues)\n",
    "    \n",
    "    #print(oneGrid)\n",
    "    #for one in list(oneGrid.Latitude):\n",
    "       # print(listOfOneLong[0], one, oneGrid.CM[1])\n",
    "\n",
    "        \n",
    "end_time = time.time()\n",
    "print(\"Total Time Taken This Loop: \", end_time - start_time)\n",
    "hours, rem = divmod(end_time-start_time, 3600)\n",
    "minutes, seconds = divmod(rem, 60)\n",
    "print(\"{:0>2}:{:0>2}:{:05.2f}\".format(int(hours),int(minutes),seconds))"
   ]
  },
  {
   "cell_type": "code",
   "execution_count": null,
   "metadata": {},
   "outputs": [],
   "source": [
    "start_time = time.time()\n",
    "\n",
    "#listOfCM = []\n",
    "#finallist = []\n",
    "\n",
    "dsag = list(dsa.groupby('LonInt'))\n",
    "[future] = client.scatter([dsa], broadcast=True)  \n",
    "for listOfOneLong in dsag:\n",
    "    oneGrid = listOfOneLong[1].groupby('LatInt').reduce(countzero)\n",
    "    for values in oneGrid:\n",
    "        print(values)\n",
    "        #finalvalues = [oneGrid.LatInt.data[0], listOfOneLong[0], values[0]]\n",
    "        #listOfCM.append(values)\n",
    "        #finallist.append(finalvalues)\n",
    "    \n",
    "    #print(oneGrid)\n",
    "    #for one in list(oneGrid.Latitude):\n",
    "       # print(listOfOneLong[0], one, oneGrid.CM[1])\n",
    "\n",
    "        \n",
    "end_time = time.time()\n",
    "print(\"Total Time Taken This Loop: \", end_time - start_time)\n",
    "hours, rem = divmod(end_time-start_time, 3600)\n",
    "minutes, seconds = divmod(rem, 60)\n",
    "print(\"{:0>2}:{:0>2}:{:05.2f}\".format(int(hours),int(minutes),seconds))"
   ]
  },
  {
   "cell_type": "code",
   "execution_count": null,
   "metadata": {},
   "outputs": [],
   "source": [
    "for values in oneGrid:\n",
    "    print(values)"
   ]
  },
  {
   "cell_type": "code",
   "execution_count": null,
   "metadata": {},
   "outputs": [],
   "source": [
    "len(finallist)"
   ]
  },
  {
   "cell_type": "code",
   "execution_count": null,
   "metadata": {},
   "outputs": [],
   "source": [
    "finallist"
   ]
  },
  {
   "cell_type": "code",
   "execution_count": null,
   "metadata": {},
   "outputs": [],
   "source": [
    "start_time = time.time()\n",
    "\n",
    "listOfCM = []\n",
    "finallist = []\n",
    "\n",
    "dsag = list(dsa.groupby('LonInt'))\n",
    "[future] = client.scatter([dsa], broadcast=True)  \n",
    "for listOfOneLong in dsag:\n",
    "    print(listOfOneLong[0])\n",
    "    oneGrid = listOfOneLong[1].groupby('LatInt').reduce(countzero)\n",
    "    for values in oneGrid:\n",
    "        finalvalues = [oneGrid.LatInt.data[0], listOfOneLong[0], oneGrid.CloudMask.data[0]]\n",
    "        listOfCM.append(values)\n",
    "        finallist.append(finalvalues)   \n",
    "    \n",
    "    #print(oneGrid)\n",
    "    #for one in list(oneGrid.Latitude):\n",
    "       # print(listOfOneLong[0], one, oneGrid.CM[1])\n",
    "\n",
    "\n",
    "\n",
    "end_time = time.time()\n",
    "print(\"Total Time Taken This Loop: \", end_time - start_time)\n",
    "hours, rem = divmod(end_time-start_time, 3600)\n",
    "minutes, seconds = divmod(rem, 60)\n",
    "print(\"{:0>2}:{:0>2}:{:05.2f}\".format(int(hours),int(minutes),seconds))"
   ]
  },
  {
   "cell_type": "code",
   "execution_count": null,
   "metadata": {},
   "outputs": [],
   "source": [
    "listOfCM"
   ]
  },
  {
   "cell_type": "code",
   "execution_count": null,
   "metadata": {},
   "outputs": [],
   "source": [
    "finallist"
   ]
  },
  {
   "cell_type": "code",
   "execution_count": null,
   "metadata": {},
   "outputs": [],
   "source": [
    "len(finallist)"
   ]
  },
  {
   "cell_type": "code",
   "execution_count": null,
   "metadata": {},
   "outputs": [],
   "source": [
    "print([oneGrid.LatInt.data[0], listOfOneLong[0], oneGrid.CloudMask.data[0]])"
   ]
  },
  {
   "cell_type": "code",
   "execution_count": null,
   "metadata": {},
   "outputs": [],
   "source": [
    "listOfOneLong[1].LatInt.compute()"
   ]
  },
  {
   "cell_type": "code",
   "execution_count": null,
   "metadata": {},
   "outputs": [],
   "source": [
    "listOfOneLong[1].LonInt.compute()"
   ]
  },
  {
   "cell_type": "code",
   "execution_count": null,
   "metadata": {},
   "outputs": [],
   "source": []
  }
 ],
 "metadata": {
  "kernelspec": {
   "display_name": "Python 3",
   "language": "python",
   "name": "python3"
  },
  "language_info": {
   "codemirror_mode": {
    "name": "ipython",
    "version": 3
   },
   "file_extension": ".py",
   "mimetype": "text/x-python",
   "name": "python",
   "nbconvert_exporter": "python",
   "pygments_lexer": "ipython3",
   "version": "3.6.7"
  }
 },
 "nbformat": 4,
 "nbformat_minor": 2
}
