{
 "cells": [
  {
   "cell_type": "code",
   "execution_count": 1,
   "metadata": {},
   "outputs": [],
   "source": [
    "#!/usr/bin/env python\n",
    "# -*- coding: utf-8 -*-\n",
    "\"\"\"\n",
    "Created on Fri Feb  22 17:16:55 2017\n",
    "@author: saviokay\n",
    "\"\"\"\n",
    "import numpy as np\n",
    "import xarray as xr\n",
    "import pandas as pd\n",
    "from netCDF4 import Dataset\n",
    "import os,datetime,sys,fnmatch\n",
    "import time\n",
    "import math\n",
    "import dask.array as da\n",
    "import graphviz"
   ]
  },
  {
   "cell_type": "code",
   "execution_count": 2,
   "metadata": {},
   "outputs": [],
   "source": [
    "# Read Function For MODO3 & MODO6 Files.\n",
    "def read_MODIS_level2_data(MOD06_file,MOD03_file):\n",
    "    print('Reading The Cloud Mask From MOD06_L2 Product:')\n",
    "    myd06 = Dataset(MOD06_file, \"r\")\n",
    "    CM = myd06.variables[\"Cloud_Mask_1km\"][:,:,:] # Reading Specific Variable 'Cloud_Mask_1km'.\n",
    "    CM   = (np.array(CM[:,:,0],dtype='byte') & 0b00000110) >>1\n",
    "    CM = np.array(CM).byteswap().newbyteorder()\n",
    "    print('The Level-2 Cloud Mask Array Shape',CM.shape)\n",
    "    print(' ')\n",
    "\n",
    "    myd03 = Dataset(MOD03_file, \"r\")\n",
    "    print('Reading The Latitude-Longitude From MOD03 Product:')\n",
    "    latitude = myd03.variables[\"Latitude\"][:,:] # Reading Specific Variable 'Latitude'.\n",
    "    latitude = np.array(latitude).byteswap().newbyteorder() # Addressing Byteswap For Big Endian Error.\n",
    "    longitude = myd03.variables[\"Longitude\"][:,:] # Reading Specific Variable 'Longitude'.\n",
    "    longitude = np.array(longitude).byteswap().newbyteorder() # Addressing Byteswap For Big Endian Error.\n",
    "    print('The Level-2 Latitude-Longitude Array Shape',latitude.shape)\n",
    "    print(' ')\n",
    "\n",
    "    return latitude,longitude,CM"
   ]
  },
  {
   "cell_type": "code",
   "execution_count": 3,
   "metadata": {},
   "outputs": [],
   "source": [
    "# Misc Function For Processing Cloud Fraction.\n",
    "def value_locate(refx, x):\n",
    "    refx = np.array(refx)\n",
    "    x = np.array(x)\n",
    "    loc = np.zeros(len(x), dtype='int')\n",
    "\n",
    "    for i in range(len(x)):\n",
    "        ix = x[i]\n",
    "        ind = ((refx - ix) <= 0).nonzero()[0]\n",
    "        if len(ind) == 0:\n",
    "            loc[i] = -1\n",
    "        else: loc[i] = ind[-1]\n",
    "\n",
    "    return loc\n",
    "\n",
    "def division(n, d):\n",
    "\n",
    "    div = np.zeros(len(d))\n",
    "    for i in range(len(d)):\n",
    "        if d[i] >0:\n",
    "          div[i]=n[i]/d[i]\n",
    "        else: div[i]=None \n",
    "\n",
    "    return div\n",
    "\n",
    "def countzero(x, axis=1):\n",
    "    #print(x)\n",
    "    count0 = 0\n",
    "    count1 = 0\n",
    "    for i in x:\n",
    "        if i <= 1:\n",
    "            count0 +=1\n",
    "    #print(count0/len(x))\n",
    "    return count0/len(x)"
   ]
  },
  {
   "cell_type": "code",
   "execution_count": 4,
   "metadata": {},
   "outputs": [
    {
     "name": "stdout",
     "output_type": "stream",
     "text": [
      "env: MOD03_PATH=/home/jovyan/Files/\n",
      "env: MOD06_PATH=/home/jovyan/Files/\n"
     ]
    }
   ],
   "source": [
    "# Setting File Location As Environment Variables\n",
    "%env MOD03_PATH=/home/jovyan/Files/\n",
    "%env MOD06_PATH=/home/jovyan/Files/"
   ]
  },
  {
   "cell_type": "code",
   "execution_count": 5,
   "metadata": {},
   "outputs": [],
   "source": [
    "MOD03_path = %env MOD03_PATH\n",
    "MOD06_path = %env MOD06_PATH\n",
    "satellite = 'Aqua'\n",
    "\n",
    "yr = [2008]\n",
    "mn = [1] #np.arange(1,13)  #[1]\n",
    "dy = [1] #np.arange(1,32) # [1] #np.arange(1,31)\n",
    "lat_bnd = np.arange(-90,91,1)# latitude and longtitude boundaries of level-3 grid\n",
    "lon_bnd = np.arange(-180,180,1)\n",
    "nlat = 180\n",
    "nlon = 360\n",
    "\n",
    "TOT_pix      = np.zeros(nlat*nlon)\n",
    "CLD_pix      = np.zeros(nlat*nlon)"
   ]
  },
  {
   "cell_type": "code",
   "execution_count": 6,
   "metadata": {},
   "outputs": [
    {
     "name": "stdout",
     "output_type": "stream",
     "text": [
      "Reading Level 2 GeoLocation & Cloud Data\n",
      "Reading The Cloud Mask From MOD06_L2 Product:\n",
      "The Level-2 Cloud Mask Array Shape (2030, 1354)\n",
      " \n",
      "Reading The Latitude-Longitude From MOD03 Product:\n",
      "The Level-2 Latitude-Longitude Array Shape (2030, 1354)\n",
      " \n"
     ]
    }
   ],
   "source": [
    "MOD03_fp = 'MYD03.A*.hdf'\n",
    "MOD06_fp = 'MYD06_L2.A*.hdf'\n",
    "MOD03_fn, MOD06_fn =[],[]\n",
    "#MOD03_fn2, MOD06_fn2 =[],[]\n",
    "MOD03_fn2, MOD06_fn2 =[],[]\n",
    "for MOD06_flist in  os.listdir(MOD06_path):\n",
    "    if fnmatch.fnmatch(MOD06_flist, MOD06_fp):\n",
    "        MOD06_fn = MOD06_flist\n",
    "        MOD06_fn2.append(MOD06_flist)\n",
    "        #print(MOD06_fn)\n",
    "for MOD03_flist in  os.listdir(MOD03_path):\n",
    "    if fnmatch.fnmatch(MOD03_flist, MOD03_fp):\n",
    "        MOD03_fn = MOD03_flist\n",
    "        MOD03_fn2.append(MOD03_flist)\n",
    "        #print(MOD03_fn)\n",
    "if MOD03_fn and MOD06_fn:\n",
    "    # if both MOD06 and MOD03 products are in the directory\n",
    "    print('Reading Level 2 GeoLocation & Cloud Data')\n",
    "    #print(MOD06_fn)\n",
    "    #print(MOD03_fn)\n",
    "    Lat,Lon,CM = read_MODIS_level2_data(MOD06_path+MOD06_fn,MOD03_path+MOD03_fn)\n",
    "    "
   ]
  },
  {
   "cell_type": "code",
   "execution_count": 7,
   "metadata": {},
   "outputs": [
    {
     "name": "stdout",
     "output_type": "stream",
     "text": [
      "The Files In The MODO3 List: \n",
      "['MYD03.A2008001.0010.006.2012066122416.hdf', 'MYD03.A2008001.0000.006.2012066122450.hdf', 'MYD03.A2008001.0005.006.2012066122516.hdf']\n",
      " \n",
      "The Files In The MODO6_L2 List: \n",
      "['MYD06_L2.A2008001.0005.006.2013341193207.hdf', 'MYD06_L2.A2008001.0010.006.2013341192125.hdf', 'MYD06_L2.A2008001.0000.006.2013341193524.hdf']\n"
     ]
    }
   ],
   "source": [
    "print('The Files In The MODO3 List: ')\n",
    "print(MOD03_fn2)\n",
    "print(' ')\n",
    "print('The Files In The MODO6_L2 List: ')\n",
    "print(MOD06_fn2)"
   ]
  },
  {
   "cell_type": "code",
   "execution_count": 8,
   "metadata": {},
   "outputs": [
    {
     "name": "stdout",
     "output_type": "stream",
     "text": [
      "The Cloud Mask Array Shape Is:  (2030, 1354, 4)\n",
      "The Latitude Array Shape Is:  (2030, 1354, 4)\n",
      "The Longitude Array Shape Is:  (2030, 1354, 4)\n"
     ]
    }
   ],
   "source": [
    "myd06_name = '/home/jovyan/Files/'\n",
    "\n",
    "cm = np.zeros((2030,1354), dtype=np.float32)\n",
    "bit0 = np.zeros((2030,1354), dtype=np.float32)\n",
    "bit12 = np.zeros((2030,1354), dtype=np.float32)\n",
    "\n",
    "for MOD06_file in MOD06_fn2:\n",
    "    MOD06_file2 = myd06_name + MOD06_file\n",
    "    myd06 = Dataset(MOD06_file2, \"r\")\n",
    "    CM = myd06.variables[\"Cloud_Mask_1km\"][:,:,:]# Reading Specific Variable 'Cloud_Mask_1km'.\n",
    "    CM = myd06.variables[\"Cloud_Mask_1km\"][:,:,0]\n",
    "    bit0r   = (np.array(CM,dtype='byte') & 0b00000001)\n",
    "    bit12r   = (np.array(CM,dtype='byte') & 0b00000110) >>1\n",
    "    CM = np.array(CM).byteswap().newbyteorder()\n",
    "    cm = np.dstack((cm,CM))\n",
    "    bit0 = np.dstack((bit0,bit0r))\n",
    "    bit12 = np.dstack((bit12,bit12r))\n",
    "        \n",
    "print('The Cloud Mask Array Shape Is: ',cm.shape)\n",
    "\n",
    "myd03_name = '/home/jovyan/Files/'\n",
    "\n",
    "\n",
    "lat = np.zeros((2030,1354), dtype=np.float32)\n",
    "lon = np.zeros((2030,1354), dtype=np.float32)\n",
    "\n",
    "for MOD03_file in MOD03_fn2:\n",
    "    MOD03_file2 = myd03_name + MOD03_file\n",
    "    myd03 = Dataset(MOD03_file2, \"r\")\n",
    "    latitude = myd03.variables[\"Latitude\"][:,:] # Reading Specific Variable 'Latitude'.\n",
    "    lat = np.dstack((lat,latitude))\n",
    "\n",
    "    longitude = myd03.variables[\"Longitude\"][:,:] # Reading Specific Variable 'Longitude'.\n",
    "    lon = np.dstack((lon,longitude))\n",
    "\n",
    "\n",
    "    \n",
    "print('The Latitude Array Shape Is: ',lat.shape)\n",
    "print('The Longitude Array Shape Is: ',lon.shape)\n",
    "    "
   ]
  },
  {
   "cell_type": "code",
   "execution_count": 9,
   "metadata": {},
   "outputs": [],
   "source": [
    "latint = lat.astype(np.int8)\n",
    "lonint = lon.astype(np.int8)"
   ]
  },
  {
   "cell_type": "code",
   "execution_count": 10,
   "metadata": {},
   "outputs": [],
   "source": [
    "lat = da.from_array(lat, chunks =(2030,1354,1))\n",
    "lon = da.from_array(lon, chunks =(2030,1354,1))\n",
    "latint = da.from_array(latint, chunks =(2030,1354,1))\n",
    "lonint = da.from_array(lonint, chunks =(2030,1354,1))\n",
    "cm = da.from_array(cm, chunks =(2030,1354,1))\n",
    "bit0 = da.from_array(bit0, chunks =(2030,1354,1))\n",
    "bit12 = da.from_array(bit12, chunks =(2030,1354,1))"
   ]
  },
  {
   "cell_type": "code",
   "execution_count": 11,
   "metadata": {},
   "outputs": [],
   "source": [
    "dsa = xr.Dataset()\n",
    "dsa.coords['Latitude'] = (('x','y','z'), lat)\n",
    "dsa.coords['Longitude'] = (('x','y','z'), lon)\n",
    "dsa.coords['LatInt'] = (('x','y','z'), latint)\n",
    "dsa.coords['LonInt'] = (('x','y','z'), lonint)\n",
    "dsa['CloudMask'] = (('x','y','z'), cm)"
   ]
  },
  {
   "cell_type": "code",
   "execution_count": 12,
   "metadata": {},
   "outputs": [
    {
     "data": {
      "text/html": [
       "<table style=\"border: 2px solid white;\">\n",
       "<tr>\n",
       "<td style=\"vertical-align: top; border: 0px solid white\">\n",
       "<h3>Client</h3>\n",
       "<ul>\n",
       "  <li><b>Scheduler: </b>tcp://10.49.141.6:41239\n",
       "  <li><b>Dashboard: </b><a href='http://10.49.141.6:8787/status' target='_blank'>http://10.49.141.6:8787/status</a>\n",
       "</ul>\n",
       "</td>\n",
       "<td style=\"vertical-align: top; border: 0px solid white\">\n",
       "<h3>Cluster</h3>\n",
       "<ul>\n",
       "  <li><b>Workers: </b>6</li>\n",
       "  <li><b>Cores: </b>30</li>\n",
       "  <li><b>Memory: </b>206.02 GB</li>\n",
       "</ul>\n",
       "</td>\n",
       "</tr>\n",
       "</table>"
      ],
      "text/plain": [
       "<Client: scheduler='tcp://10.49.141.6:41239' processes=6 cores=30>"
      ]
     },
     "execution_count": 12,
     "metadata": {},
     "output_type": "execute_result"
    }
   ],
   "source": [
    "from dask.distributed import Client\n",
    "\n",
    "client = Client(\"tcp://10.49.141.6:41239\")\n",
    "client"
   ]
  },
  {
   "cell_type": "code",
   "execution_count": null,
   "metadata": {},
   "outputs": [],
   "source": [
    "start_time = time.time()\n",
    "\n",
    "listOfCM = []\n",
    "finallist = []\n",
    "\n",
    "dsag = list(dsa.groupby('LonInt'))\n",
    "[future] = client.scatter([dsa], broadcast=True)  \n",
    "for listOfOneLong in dsag:\n",
    "    oneGrid = listOfOneLong[1].groupby('LatInt').reduce(countzero)\n",
    "    for values in oneGrid:\n",
    "        finalvalues = [oneGrid.LatInt.data[0], listOfOneLong[0], values.CloudMask.data[0]]\n",
    "        listOfCM.append(values)\n",
    "        finallist.append(finalvalues)\n",
    "    \n",
    "    #print(oneGrid)\n",
    "    #for one in list(oneGrid.Latitude):\n",
    "       # print(listOfOneLong[0], one, oneGrid.CM[1])\n",
    "\n",
    "        \n",
    "end_time = time.time()\n",
    "print(\"Total Time Taken This Loop: \", end_time - start_time)\n",
    "hours, rem = divmod(end_time-start_time, 3600)\n",
    "minutes, seconds = divmod(rem, 60)\n",
    "print(\"{:0>2}:{:0>2}:{:05.2f}\".format(int(hours),int(minutes),seconds))"
   ]
  },
  {
   "cell_type": "code",
   "execution_count": 16,
   "metadata": {},
   "outputs": [
    {
     "ename": "TypeError",
     "evalue": "reduce() missing 1 required positional argument: 'func'",
     "output_type": "error",
     "traceback": [
      "\u001b[0;31m---------------------------------------------------------------------------\u001b[0m",
      "\u001b[0;31mTypeError\u001b[0m                                 Traceback (most recent call last)",
      "\u001b[0;32m<ipython-input-16-cbd40c1118d9>\u001b[0m in \u001b[0;36m<module>\u001b[0;34m\u001b[0m\n\u001b[1;32m      9\u001b[0m     \u001b[0;31m#oneGrid = listOfOneLong[1].groupby('LatInt').reduce(countzero)\u001b[0m\u001b[0;34m\u001b[0m\u001b[0;34m\u001b[0m\u001b[0;34m\u001b[0m\u001b[0m\n\u001b[1;32m     10\u001b[0m     \u001b[0mbig_future\u001b[0m \u001b[0;34m=\u001b[0m \u001b[0mclient\u001b[0m\u001b[0;34m.\u001b[0m\u001b[0mscatter\u001b[0m\u001b[0;34m(\u001b[0m\u001b[0mlistOfOneLong\u001b[0m\u001b[0;34m[\u001b[0m\u001b[0;36m1\u001b[0m\u001b[0;34m]\u001b[0m\u001b[0;34m.\u001b[0m\u001b[0mgroupby\u001b[0m\u001b[0;34m(\u001b[0m\u001b[0;34m'LatInt'\u001b[0m\u001b[0;34m)\u001b[0m\u001b[0;34m)\u001b[0m\u001b[0;34m\u001b[0m\u001b[0;34m\u001b[0m\u001b[0m\n\u001b[0;32m---> 11\u001b[0;31m     \u001b[0mfuture\u001b[0m \u001b[0;34m=\u001b[0m \u001b[0mclient\u001b[0m\u001b[0;34m.\u001b[0m\u001b[0msubmit\u001b[0m\u001b[0;34m(\u001b[0m\u001b[0mxr\u001b[0m\u001b[0;34m.\u001b[0m\u001b[0mDataset\u001b[0m\u001b[0;34m.\u001b[0m\u001b[0mreduce\u001b[0m\u001b[0;34m(\u001b[0m\u001b[0mcountzero\u001b[0m\u001b[0;34m)\u001b[0m\u001b[0;34m,\u001b[0m \u001b[0mbig_future\u001b[0m\u001b[0;34m)\u001b[0m\u001b[0;34m\u001b[0m\u001b[0;34m\u001b[0m\u001b[0m\n\u001b[0m\u001b[1;32m     12\u001b[0m     \u001b[0;32mfor\u001b[0m \u001b[0mvalues\u001b[0m \u001b[0;32min\u001b[0m \u001b[0moneGrid\u001b[0m\u001b[0;34m:\u001b[0m\u001b[0;34m\u001b[0m\u001b[0;34m\u001b[0m\u001b[0m\n\u001b[1;32m     13\u001b[0m         \u001b[0mfinalvalues\u001b[0m \u001b[0;34m=\u001b[0m \u001b[0;34m[\u001b[0m\u001b[0moneGrid\u001b[0m\u001b[0;34m.\u001b[0m\u001b[0mLatInt\u001b[0m\u001b[0;34m.\u001b[0m\u001b[0mdata\u001b[0m\u001b[0;34m[\u001b[0m\u001b[0;36m0\u001b[0m\u001b[0;34m]\u001b[0m\u001b[0;34m,\u001b[0m \u001b[0mlistOfOneLong\u001b[0m\u001b[0;34m[\u001b[0m\u001b[0;36m0\u001b[0m\u001b[0;34m]\u001b[0m\u001b[0;34m,\u001b[0m \u001b[0mvalues\u001b[0m\u001b[0;34m.\u001b[0m\u001b[0mCloudMask\u001b[0m\u001b[0;34m.\u001b[0m\u001b[0mdata\u001b[0m\u001b[0;34m[\u001b[0m\u001b[0;36m0\u001b[0m\u001b[0;34m]\u001b[0m\u001b[0;34m]\u001b[0m\u001b[0;34m\u001b[0m\u001b[0;34m\u001b[0m\u001b[0m\n",
      "\u001b[0;31mTypeError\u001b[0m: reduce() missing 1 required positional argument: 'func'"
     ]
    }
   ],
   "source": [
    "start_time = time.time()\n",
    "\n",
    "listOfCM = []\n",
    "finallist = []\n",
    "\n",
    "dsag = list(dsa.groupby('LonInt'))\n",
    "\n",
    "for listOfOneLong in dsag:\n",
    "    #oneGrid = listOfOneLong[1].groupby('LatInt').reduce(countzero)\n",
    "    big_future = client.scatter(listOfOneLong[1].groupby('LatInt'))\n",
    "    future = client.submit(xr.Dataset.reduce(countzero), big_future)  \n",
    "    for values in oneGrid:\n",
    "        finalvalues = [oneGrid.LatInt.data[0], listOfOneLong[0], values.CloudMask.data[0]]\n",
    "        listOfCM.append(values)\n",
    "        finallist.append(finalvalues)\n",
    "    \n",
    "    #print(oneGrid)\n",
    "    #for one in list(oneGrid.Latitude):\n",
    "       # print(listOfOneLong[0], one, oneGrid.CM[1])\n",
    "\n",
    "        \n",
    "end_time = time.time()\n",
    "print(\"Total Time Taken This Loop: \", end_time - start_time)\n",
    "hours, rem = divmod(end_time-start_time, 3600)\n",
    "minutes, seconds = divmod(rem, 60)\n",
    "print(\"{:0>2}:{:0>2}:{:05.2f}\".format(int(hours),int(minutes),seconds))"
   ]
  },
  {
   "cell_type": "code",
   "execution_count": null,
   "metadata": {},
   "outputs": [],
   "source": [
    "start_time = time.time()\n",
    "\n",
    "#listOfCM = []\n",
    "#finallist = []\n",
    "\n",
    "dsag = list(dsa.groupby('LonInt'))\n",
    "[future] = client.scatter([dsa], broadcast=True)  \n",
    "for listOfOneLong in dsag:\n",
    "    oneGrid = listOfOneLong[1].groupby('LatInt').reduce(countzero)\n",
    "    for values in oneGrid:\n",
    "        print(values)\n",
    "        #finalvalues = [oneGrid.LatInt.data[0], listOfOneLong[0], values[0]]\n",
    "        #listOfCM.append(values)\n",
    "        #finallist.append(finalvalues)\n",
    "    \n",
    "    #print(oneGrid)\n",
    "    #for one in list(oneGrid.Latitude):\n",
    "       # print(listOfOneLong[0], one, oneGrid.CM[1])\n",
    "\n",
    "        \n",
    "end_time = time.time()\n",
    "print(\"Total Time Taken This Loop: \", end_time - start_time)\n",
    "hours, rem = divmod(end_time-start_time, 3600)\n",
    "minutes, seconds = divmod(rem, 60)\n",
    "print(\"{:0>2}:{:0>2}:{:05.2f}\".format(int(hours),int(minutes),seconds))"
   ]
  },
  {
   "cell_type": "code",
   "execution_count": 32,
   "metadata": {},
   "outputs": [
    {
     "name": "stdout",
     "output_type": "stream",
     "text": [
      "CloudMask\n"
     ]
    }
   ],
   "source": [
    "for values in oneGrid:\n",
    "    print(values)"
   ]
  },
  {
   "cell_type": "code",
   "execution_count": 30,
   "metadata": {},
   "outputs": [
    {
     "data": {
      "text/plain": [
       "57"
      ]
     },
     "execution_count": 30,
     "metadata": {},
     "output_type": "execute_result"
    }
   ],
   "source": [
    "len(finallist)"
   ]
  },
  {
   "cell_type": "code",
   "execution_count": 31,
   "metadata": {},
   "outputs": [
    {
     "data": {
      "text/plain": [
       "[[0, 0, 'C'],\n",
       " [16, 11, 'C'],\n",
       " [16, 12, 'C'],\n",
       " [15, 13, 'C'],\n",
       " [15, 14, 'C'],\n",
       " [15, 15, 'C'],\n",
       " [15, 16, 'C'],\n",
       " [15, 17, 'C'],\n",
       " [15, 18, 'C'],\n",
       " [15, 19, 'C'],\n",
       " [15, 20, 'C'],\n",
       " [14, 21, 'C'],\n",
       " [14, 22, 'C'],\n",
       " [14, 23, 'C'],\n",
       " [14, 24, 'C'],\n",
       " [14, 25, 'C'],\n",
       " [14, 26, 'C'],\n",
       " [14, 27, 'C'],\n",
       " [13, 28, 'C'],\n",
       " [13, 29, 'C'],\n",
       " [13, 30, 'C'],\n",
       " [13, 31, 'C'],\n",
       " [13, 32, 'C'],\n",
       " [14, 33, 'C'],\n",
       " [17, 34, 'C'],\n",
       " [21, 35, 'C'],\n",
       " [24, 36, 'C'],\n",
       " [26, 37, 'C'],\n",
       " [29, 38, 'C'],\n",
       " [31, 39, 'C'],\n",
       " [34, 40, 'C'],\n",
       " [36, 41, 'C'],\n",
       " [38, 42, 'C'],\n",
       " [40, 43, 'C'],\n",
       " [41, 44, 'C'],\n",
       " [43, 45, 'C'],\n",
       " [44, 46, 'C'],\n",
       " [46, 47, 'C'],\n",
       " [47, 48, 'C'],\n",
       " [49, 49, 'C'],\n",
       " [50, 50, 'C'],\n",
       " [51, 51, 'C'],\n",
       " [52, 52, 'C'],\n",
       " [53, 53, 'C'],\n",
       " [54, 54, 'C'],\n",
       " [55, 55, 'C'],\n",
       " [56, 56, 'C'],\n",
       " [56, 57, 'C'],\n",
       " [57, 58, 'C'],\n",
       " [58, 59, 'C'],\n",
       " [59, 60, 'C'],\n",
       " [59, 61, 'C'],\n",
       " [60, 62, 'C'],\n",
       " [60, 63, 'C'],\n",
       " [61, 64, 'C'],\n",
       " [61, 65, 'C'],\n",
       " [62, 66, 'C']]"
      ]
     },
     "execution_count": 31,
     "metadata": {},
     "output_type": "execute_result"
    }
   ],
   "source": [
    "finallist"
   ]
  },
  {
   "cell_type": "code",
   "execution_count": 24,
   "metadata": {},
   "outputs": [
    {
     "name": "stdout",
     "output_type": "stream",
     "text": [
      "Total Time Taken This Loop:  481.0655539035797\n",
      "00:08:01.07\n"
     ]
    }
   ],
   "source": [
    "start_time = time.time()\n",
    "\n",
    "listOfCM = []\n",
    "finallist = []\n",
    "\n",
    "dsag = list(dsa.groupby('LonInt'))\n",
    "[future] = client.scatter([dsa], broadcast=True)  \n",
    "for listOfOneLong in dsag:\n",
    "    oneGrid = listOfOneLong[1].groupby('LatInt').reduce(countzero)\n",
    "    for values in oneGrid:\n",
    "        finalvalues = [oneGrid.LatInt.data[0], listOfOneLong[0], oneGrid.CloudMask.data[0]]\n",
    "        listOfCM.append(values)\n",
    "    finallist.append(finalvalues)   \n",
    "    \n",
    "    #print(oneGrid)\n",
    "    #for one in list(oneGrid.Latitude):\n",
    "       # print(listOfOneLong[0], one, oneGrid.CM[1])\n",
    "\n",
    "\n",
    "\n",
    "end_time = time.time()\n",
    "print(\"Total Time Taken This Loop: \", end_time - start_time)\n",
    "hours, rem = divmod(end_time-start_time, 3600)\n",
    "minutes, seconds = divmod(rem, 60)\n",
    "print(\"{:0>2}:{:0>2}:{:05.2f}\".format(int(hours),int(minutes),seconds))"
   ]
  },
  {
   "cell_type": "code",
   "execution_count": 25,
   "metadata": {},
   "outputs": [
    {
     "data": {
      "text/plain": [
       "[[0, 0, 1.0],\n",
       " [16, 11, 0.0],\n",
       " [16, 12, 0.0],\n",
       " [15, 13, 0.0],\n",
       " [15, 14, 0.0],\n",
       " [15, 15, 0.0],\n",
       " [15, 16, 0.0],\n",
       " [15, 17, 0.0],\n",
       " [15, 18, 0.0],\n",
       " [15, 19, 0.0],\n",
       " [15, 20, 0.0],\n",
       " [14, 21, 0.0],\n",
       " [14, 22, 0.0],\n",
       " [14, 23, 0.0],\n",
       " [14, 24, 0.0],\n",
       " [14, 25, 0.0],\n",
       " [14, 26, 0.0],\n",
       " [14, 27, 0.0],\n",
       " [13, 28, 0.0],\n",
       " [13, 29, 0.6880146386093321],\n",
       " [13, 30, 0.9236111111111112],\n",
       " [13, 31, 1.0],\n",
       " [13, 32, 1.0],\n",
       " [14, 33, 1.0],\n",
       " [17, 34, 0.7948717948717948],\n",
       " [21, 35, 0.8691588785046729],\n",
       " [24, 36, 0.941544885177453],\n",
       " [26, 37, 1.0],\n",
       " [29, 38, 1.0],\n",
       " [31, 39, 1.0],\n",
       " [34, 40, 0.8995098039215687],\n",
       " [36, 41, 0.9746835443037974],\n",
       " [38, 42, 0.8850174216027874],\n",
       " [40, 43, 1.0],\n",
       " [41, 44, 1.0],\n",
       " [43, 45, 0.9712918660287081],\n",
       " [44, 46, 1.0],\n",
       " [46, 47, 1.0],\n",
       " [47, 48, 1.0],\n",
       " [49, 49, 0.9104084321475626],\n",
       " [50, 50, 0.7057692307692308],\n",
       " [51, 51, 0.48205128205128206],\n",
       " [52, 52, 1.0],\n",
       " [53, 53, 1.0],\n",
       " [54, 54, 1.0],\n",
       " [55, 55, 1.0],\n",
       " [56, 56, 0.28554502369668244],\n",
       " [56, 57, 0.0],\n",
       " [57, 58, 0.0],\n",
       " [58, 59, 0.09819639278557114],\n",
       " [59, 60, 1.0],\n",
       " [59, 61, 1.0],\n",
       " [60, 62, 1.0],\n",
       " [60, 63, 1.0],\n",
       " [61, 64, 1.0],\n",
       " [61, 65, 1.0],\n",
       " [62, 66, 1.0]]"
      ]
     },
     "execution_count": 25,
     "metadata": {},
     "output_type": "execute_result"
    }
   ],
   "source": [
    "finallist"
   ]
  },
  {
   "cell_type": "code",
   "execution_count": 26,
   "metadata": {},
   "outputs": [
    {
     "data": {
      "text/plain": [
       "57"
      ]
     },
     "execution_count": 26,
     "metadata": {},
     "output_type": "execute_result"
    }
   ],
   "source": [
    "len(finallist)"
   ]
  },
  {
   "cell_type": "code",
   "execution_count": 27,
   "metadata": {},
   "outputs": [
    {
     "name": "stdout",
     "output_type": "stream",
     "text": [
      "[62, 66, 1.0]\n"
     ]
    }
   ],
   "source": [
    "print([oneGrid.LatInt.data[0], listOfOneLong[0], oneGrid.CloudMask.data[0]])"
   ]
  },
  {
   "cell_type": "code",
   "execution_count": 28,
   "metadata": {},
   "outputs": [
    {
     "data": {
      "text/plain": [
       "<xarray.DataArray 'LatInt' (stacked_x_y_z: 44)>\n",
       "array([62, 62, 62, 62, 62, 62, 62, 62, 62, 62, 62, 62, 62, 62, 62, 62, 62, 62,\n",
       "       62, 62, 62, 62, 62, 62, 62, 62, 62, 62, 62, 62, 62, 62, 62, 62, 62, 62,\n",
       "       62, 62, 62, 62, 62, 62, 62, 62], dtype=int8)\n",
       "Coordinates:\n",
       "    Latitude       (stacked_x_y_z) float32 62.6756 62.64741 ... 62.41523\n",
       "    Longitude      (stacked_x_y_z) float32 66.012054 66.081024 ... 66.00171\n",
       "    LatInt         (stacked_x_y_z) int8 62 62 62 62 62 62 ... 62 62 62 62 62 62\n",
       "    LonInt         (stacked_x_y_z) int8 66 66 66 66 66 66 ... 66 66 66 66 66 66\n",
       "  * stacked_x_y_z  (stacked_x_y_z) MultiIndex\n",
       "  - x              (stacked_x_y_z) int64 0 0 0 0 0 1 1 1 1 ... 5 5 6 6 7 7 8 8 9\n",
       "  - y              (stacked_x_y_z) int64 1349 1350 1351 1352 ... 1352 1353 1353\n",
       "  - z              (stacked_x_y_z) int64 2 2 2 2 2 2 2 2 2 ... 2 2 2 2 2 2 2 2 2"
      ]
     },
     "execution_count": 28,
     "metadata": {},
     "output_type": "execute_result"
    }
   ],
   "source": [
    "listOfOneLong[1].LatInt.compute()"
   ]
  },
  {
   "cell_type": "code",
   "execution_count": null,
   "metadata": {},
   "outputs": [],
   "source": [
    "listOfOneLong[1].LonInt.compute()"
   ]
  },
  {
   "cell_type": "code",
   "execution_count": null,
   "metadata": {},
   "outputs": [],
   "source": []
  }
 ],
 "metadata": {
  "kernelspec": {
   "display_name": "Python 3",
   "language": "python",
   "name": "python3"
  },
  "language_info": {
   "codemirror_mode": {
    "name": "ipython",
    "version": 3
   },
   "file_extension": ".py",
   "mimetype": "text/x-python",
   "name": "python",
   "nbconvert_exporter": "python",
   "pygments_lexer": "ipython3",
   "version": "3.6.7"
  }
 },
 "nbformat": 4,
 "nbformat_minor": 2
}
