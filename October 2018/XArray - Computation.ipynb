{
 "cells": [
  {
   "cell_type": "markdown",
   "metadata": {},
   "source": [
    "# Computation"
   ]
  },
  {
   "cell_type": "markdown",
   "metadata": {},
   "source": [
    "The labels associated with DataArray and Dataset objects enables some powerful shortcuts for computation, notably including aggregation and broadcasting by dimension names."
   ]
  },
  {
   "cell_type": "markdown",
   "metadata": {},
   "source": [
    "Basic array math\n",
    "\n",
    "Arithmetic operations with a single DataArray automatically vectorize (like numpy) over all array values:\n",
    "\n"
   ]
  },
  {
   "cell_type": "code",
   "execution_count": 43,
   "metadata": {},
   "outputs": [],
   "source": [
    "import xarray as xr\n",
    "import pandas as pd\n",
    "import numpy as np"
   ]
  },
  {
   "cell_type": "code",
   "execution_count": 6,
   "metadata": {},
   "outputs": [
    {
     "data": {
      "text/plain": [
       "<xarray.DataArray (x: 2, y: 3)>\n",
       "array([[ 1.764052,  0.400157,  0.978738],\n",
       "       [ 2.240893,  1.867558, -0.977278]])\n",
       "Coordinates:\n",
       "  * x        (x) <U1 'a' 'b'\n",
       "  * y        (y) int64 10 20 30"
      ]
     },
     "execution_count": 6,
     "metadata": {},
     "output_type": "execute_result"
    }
   ],
   "source": [
    "arr = xr.DataArray(np.random.RandomState(0).randn(2, 3),\n",
    "[('x', ['a', 'b']), ('y', [10, 20, 30])])\n",
    "arr"
   ]
  },
  {
   "cell_type": "code",
   "execution_count": 5,
   "metadata": {},
   "outputs": [
    {
     "data": {
      "text/plain": [
       "<xarray.DataArray (x: 2, y: 3)>\n",
       "array([[-1.235948, -2.599843, -2.021262],\n",
       "       [-0.759107, -1.132442, -3.977278]])\n",
       "Coordinates:\n",
       "  * x        (x) <U1 'a' 'b'\n",
       "  * y        (y) int64 10 20 30"
      ]
     },
     "execution_count": 5,
     "metadata": {},
     "output_type": "execute_result"
    }
   ],
   "source": [
    "arr - 3"
   ]
  },
  {
   "cell_type": "code",
   "execution_count": 7,
   "metadata": {},
   "outputs": [
    {
     "data": {
      "text/plain": [
       "<xarray.DataArray (x: 2, y: 3)>\n",
       "array([[1.764052, 0.400157, 0.978738],\n",
       "       [2.240893, 1.867558, 0.977278]])\n",
       "Coordinates:\n",
       "  * x        (x) <U1 'a' 'b'\n",
       "  * y        (y) int64 10 20 30"
      ]
     },
     "execution_count": 7,
     "metadata": {},
     "output_type": "execute_result"
    }
   ],
   "source": [
    "abs(arr)"
   ]
  },
  {
   "cell_type": "markdown",
   "metadata": {},
   "source": [
    "You can also use any of numpy’s or scipy’s many ufunc functions directly on a DataArray:"
   ]
  },
  {
   "cell_type": "code",
   "execution_count": 8,
   "metadata": {},
   "outputs": [
    {
     "data": {
      "text/plain": [
       "<xarray.DataArray (x: 2, y: 3)>\n",
       "array([[ 0.981384,  0.389563,  0.829794],\n",
       "       [ 0.783762,  0.956288, -0.828978]])\n",
       "Coordinates:\n",
       "  * x        (x) <U1 'a' 'b'\n",
       "  * y        (y) int64 10 20 30"
      ]
     },
     "execution_count": 8,
     "metadata": {},
     "output_type": "execute_result"
    }
   ],
   "source": [
    "np.sin(arr)"
   ]
  },
  {
   "cell_type": "markdown",
   "metadata": {},
   "source": [
    "Use where() to conditionally switch between values:"
   ]
  },
  {
   "cell_type": "code",
   "execution_count": 9,
   "metadata": {},
   "outputs": [
    {
     "data": {
      "text/plain": [
       "<xarray.DataArray (x: 2, y: 3)>\n",
       "array([['positive', 'positive', 'positive'],\n",
       "       ['positive', 'positive', 'negative']], dtype='<U8')\n",
       "Coordinates:\n",
       "  * x        (x) <U1 'a' 'b'\n",
       "  * y        (y) int64 10 20 30"
      ]
     },
     "execution_count": 9,
     "metadata": {},
     "output_type": "execute_result"
    }
   ],
   "source": [
    "xr.where(arr > 0, 'positive', 'negative')"
   ]
  },
  {
   "cell_type": "markdown",
   "metadata": {},
   "source": [
    "Data arrays also implement many numpy.ndarray methods:"
   ]
  },
  {
   "cell_type": "code",
   "execution_count": 10,
   "metadata": {},
   "outputs": [
    {
     "data": {
      "text/plain": [
       "<xarray.DataArray (x: 2, y: 3)>\n",
       "array([[ 1.76,  0.4 ,  0.98],\n",
       "       [ 2.24,  1.87, -0.98]])\n",
       "Coordinates:\n",
       "  * x        (x) <U1 'a' 'b'\n",
       "  * y        (y) int64 10 20 30"
      ]
     },
     "execution_count": 10,
     "metadata": {},
     "output_type": "execute_result"
    }
   ],
   "source": [
    "arr.round(2)"
   ]
  },
  {
   "cell_type": "code",
   "execution_count": 11,
   "metadata": {},
   "outputs": [
    {
     "data": {
      "text/plain": [
       "<xarray.DataArray (y: 3, x: 2)>\n",
       "array([[ 1.764052,  2.240893],\n",
       "       [ 0.400157,  1.867558],\n",
       "       [ 0.978738, -0.977278]])\n",
       "Coordinates:\n",
       "  * x        (x) <U1 'a' 'b'\n",
       "  * y        (y) int64 10 20 30"
      ]
     },
     "execution_count": 11,
     "metadata": {},
     "output_type": "execute_result"
    }
   ],
   "source": [
    "arr.T"
   ]
  },
  {
   "cell_type": "markdown",
   "metadata": {},
   "source": [
    "# Missing values\n",
    "\n"
   ]
  },
  {
   "cell_type": "markdown",
   "metadata": {},
   "source": [
    "xarray objects borrow the isnull(), notnull(), count(), dropna(), fillna(), ffill(), and bfill() methods for working with missing data from pandas:"
   ]
  },
  {
   "cell_type": "code",
   "execution_count": 12,
   "metadata": {},
   "outputs": [],
   "source": [
    "x = xr.DataArray([0, 1, np.nan, np.nan, 2], dims=['x'])"
   ]
  },
  {
   "cell_type": "code",
   "execution_count": 13,
   "metadata": {},
   "outputs": [
    {
     "data": {
      "text/plain": [
       "<xarray.DataArray (x: 5)>\n",
       "array([ 0.,  1., nan, nan,  2.])\n",
       "Dimensions without coordinates: x"
      ]
     },
     "execution_count": 13,
     "metadata": {},
     "output_type": "execute_result"
    }
   ],
   "source": [
    "x"
   ]
  },
  {
   "cell_type": "code",
   "execution_count": 14,
   "metadata": {},
   "outputs": [
    {
     "data": {
      "text/plain": [
       "<xarray.DataArray (x: 5)>\n",
       "array([False, False,  True,  True, False])\n",
       "Dimensions without coordinates: x"
      ]
     },
     "execution_count": 14,
     "metadata": {},
     "output_type": "execute_result"
    }
   ],
   "source": [
    "x.isnull()"
   ]
  },
  {
   "cell_type": "code",
   "execution_count": 15,
   "metadata": {},
   "outputs": [
    {
     "data": {
      "text/plain": [
       "<xarray.DataArray (x: 5)>\n",
       "array([ True,  True, False, False,  True])\n",
       "Dimensions without coordinates: x"
      ]
     },
     "execution_count": 15,
     "metadata": {},
     "output_type": "execute_result"
    }
   ],
   "source": [
    "x.notnull()"
   ]
  },
  {
   "cell_type": "code",
   "execution_count": 16,
   "metadata": {},
   "outputs": [
    {
     "data": {
      "text/plain": [
       "<xarray.DataArray ()>\n",
       "array(3)"
      ]
     },
     "execution_count": 16,
     "metadata": {},
     "output_type": "execute_result"
    }
   ],
   "source": [
    "x.count()"
   ]
  },
  {
   "cell_type": "code",
   "execution_count": 17,
   "metadata": {},
   "outputs": [
    {
     "data": {
      "text/plain": [
       "<xarray.DataArray (x: 3)>\n",
       "array([0., 1., 2.])\n",
       "Dimensions without coordinates: x"
      ]
     },
     "execution_count": 17,
     "metadata": {},
     "output_type": "execute_result"
    }
   ],
   "source": [
    "x.dropna(dim='x')"
   ]
  },
  {
   "cell_type": "code",
   "execution_count": 18,
   "metadata": {},
   "outputs": [
    {
     "data": {
      "text/plain": [
       "<xarray.DataArray (x: 5)>\n",
       "array([ 0.,  1., -1., -1.,  2.])\n",
       "Dimensions without coordinates: x"
      ]
     },
     "execution_count": 18,
     "metadata": {},
     "output_type": "execute_result"
    }
   ],
   "source": [
    "x.fillna(-1)"
   ]
  },
  {
   "cell_type": "markdown",
   "metadata": {},
   "source": [
    "# Aggregation\n",
    "\n"
   ]
  },
  {
   "cell_type": "markdown",
   "metadata": {},
   "source": [
    "Aggregation methods have been updated to take a dim argument instead of axis. This allows for very intuitive syntax for aggregation methods that are applied along particular dimension(s):"
   ]
  },
  {
   "cell_type": "code",
   "execution_count": 19,
   "metadata": {},
   "outputs": [
    {
     "data": {
      "text/plain": [
       "<xarray.DataArray (y: 3)>\n",
       "array([4.004946e+00, 2.267715e+00, 1.460104e-03])\n",
       "Coordinates:\n",
       "  * y        (y) int64 10 20 30"
      ]
     },
     "execution_count": 19,
     "metadata": {},
     "output_type": "execute_result"
    }
   ],
   "source": [
    "arr.sum(dim='x')"
   ]
  },
  {
   "cell_type": "code",
   "execution_count": 20,
   "metadata": {},
   "outputs": [
    {
     "data": {
      "text/plain": [
       "<xarray.DataArray ()>\n",
       "array(1.090383)"
      ]
     },
     "execution_count": 20,
     "metadata": {},
     "output_type": "execute_result"
    }
   ],
   "source": [
    "arr.std(['x', 'y'])"
   ]
  },
  {
   "cell_type": "code",
   "execution_count": 21,
   "metadata": {},
   "outputs": [
    {
     "data": {
      "text/plain": [
       "<xarray.DataArray ()>\n",
       "array(-0.977278)"
      ]
     },
     "execution_count": 21,
     "metadata": {},
     "output_type": "execute_result"
    }
   ],
   "source": [
    "arr.min()"
   ]
  },
  {
   "cell_type": "markdown",
   "metadata": {},
   "source": [
    "If you need to figure out the axis number for a dimension yourself (say, for wrapping code designed to work with numpy arrays), you can use the get_axis_num() method:"
   ]
  },
  {
   "cell_type": "code",
   "execution_count": 22,
   "metadata": {},
   "outputs": [
    {
     "data": {
      "text/plain": [
       "1"
      ]
     },
     "execution_count": 22,
     "metadata": {},
     "output_type": "execute_result"
    }
   ],
   "source": [
    "arr.get_axis_num('y')"
   ]
  },
  {
   "cell_type": "markdown",
   "metadata": {},
   "source": [
    "These operations automatically skip missing values, like in pandas:"
   ]
  },
  {
   "cell_type": "code",
   "execution_count": 23,
   "metadata": {},
   "outputs": [
    {
     "data": {
      "text/plain": [
       "<xarray.DataArray ()>\n",
       "array(2.)"
      ]
     },
     "execution_count": 23,
     "metadata": {},
     "output_type": "execute_result"
    }
   ],
   "source": [
    "xr.DataArray([1, 2, np.nan, 3]).mean()"
   ]
  },
  {
   "cell_type": "markdown",
   "metadata": {},
   "source": [
    "If desired, you can disable this behavior by invoking the aggregation method with skipna=False."
   ]
  },
  {
   "cell_type": "markdown",
   "metadata": {},
   "source": [
    "# Computation using Coordinates"
   ]
  },
  {
   "cell_type": "markdown",
   "metadata": {},
   "source": [
    "Xarray objects have some handy methods for the computation with their coordinates. differentiate() computes derivatives by central finite differences using their coordinates,"
   ]
  },
  {
   "cell_type": "code",
   "execution_count": 24,
   "metadata": {},
   "outputs": [],
   "source": [
    "a = xr.DataArray([0, 1, 2, 3], dims=['x'], coords=[[0.1, 0.11, 0.2, 0.3]])"
   ]
  },
  {
   "cell_type": "code",
   "execution_count": 25,
   "metadata": {},
   "outputs": [
    {
     "data": {
      "text/plain": [
       "<xarray.DataArray (x: 4)>\n",
       "array([0, 1, 2, 3])\n",
       "Coordinates:\n",
       "  * x        (x) float64 0.1 0.11 0.2 0.3"
      ]
     },
     "execution_count": 25,
     "metadata": {},
     "output_type": "execute_result"
    }
   ],
   "source": [
    "a"
   ]
  },
  {
   "cell_type": "code",
   "execution_count": 26,
   "metadata": {},
   "outputs": [
    {
     "data": {
      "text/plain": [
       "<xarray.DataArray (x: 4)>\n",
       "array([100.      ,  91.111111,  10.584795,  10.      ])\n",
       "Coordinates:\n",
       "  * x        (x) float64 0.1 0.11 0.2 0.3"
      ]
     },
     "execution_count": 26,
     "metadata": {},
     "output_type": "execute_result"
    }
   ],
   "source": [
    "a.differentiate('x')\n"
   ]
  },
  {
   "cell_type": "markdown",
   "metadata": {},
   "source": [
    "This method can be used also for multidimensional arrays,"
   ]
  },
  {
   "cell_type": "code",
   "execution_count": 27,
   "metadata": {},
   "outputs": [],
   "source": [
    "a = xr.DataArray(np.arange(8).reshape(4, 2), dims=['x', 'y'],\n",
    "coords={'x': [0.1, 0.11, 0.2, 0.3]})"
   ]
  },
  {
   "cell_type": "code",
   "execution_count": 28,
   "metadata": {},
   "outputs": [
    {
     "data": {
      "text/plain": [
       "<xarray.DataArray (x: 4, y: 2)>\n",
       "array([[0, 1],\n",
       "       [2, 3],\n",
       "       [4, 5],\n",
       "       [6, 7]])\n",
       "Coordinates:\n",
       "  * x        (x) float64 0.1 0.11 0.2 0.3\n",
       "Dimensions without coordinates: y"
      ]
     },
     "execution_count": 28,
     "metadata": {},
     "output_type": "execute_result"
    }
   ],
   "source": [
    "a"
   ]
  },
  {
   "cell_type": "code",
   "execution_count": 29,
   "metadata": {},
   "outputs": [
    {
     "data": {
      "text/plain": [
       "<xarray.DataArray (x: 4, y: 2)>\n",
       "array([[200.      , 200.      ],\n",
       "       [182.222222, 182.222222],\n",
       "       [ 21.169591,  21.169591],\n",
       "       [ 20.      ,  20.      ]])\n",
       "Coordinates:\n",
       "  * x        (x) float64 0.1 0.11 0.2 0.3\n",
       "Dimensions without coordinates: y"
      ]
     },
     "execution_count": 29,
     "metadata": {},
     "output_type": "execute_result"
    }
   ],
   "source": [
    "a.differentiate('x')"
   ]
  },
  {
   "cell_type": "markdown",
   "metadata": {},
   "source": [
    "# Coordinates"
   ]
  },
  {
   "cell_type": "markdown",
   "metadata": {},
   "source": [
    "Although index coordinates are aligned, other coordinates are not, and if their values conflict, they will be dropped. This is necessary, for example, because indexing turns 1D coordinates into scalar coordinates:"
   ]
  },
  {
   "cell_type": "code",
   "execution_count": 34,
   "metadata": {},
   "outputs": [
    {
     "data": {
      "text/plain": [
       "<xarray.DataArray (x: 2, y: 3)>\n",
       "array([[ 1.764052,  0.400157,  0.978738],\n",
       "       [ 2.240893,  1.867558, -0.977278]])\n",
       "Coordinates:\n",
       "  * x        (x) <U1 'a' 'b'\n",
       "  * y        (y) int64 10 20 30"
      ]
     },
     "execution_count": 34,
     "metadata": {},
     "output_type": "execute_result"
    }
   ],
   "source": [
    "arr"
   ]
  },
  {
   "cell_type": "code",
   "execution_count": 30,
   "metadata": {},
   "outputs": [
    {
     "data": {
      "text/plain": [
       "<xarray.DataArray (y: 3)>\n",
       "array([1.764052, 0.400157, 0.978738])\n",
       "Coordinates:\n",
       "    x        <U1 'a'\n",
       "  * y        (y) int64 10 20 30"
      ]
     },
     "execution_count": 30,
     "metadata": {},
     "output_type": "execute_result"
    }
   ],
   "source": [
    "arr[0]"
   ]
  },
  {
   "cell_type": "code",
   "execution_count": 31,
   "metadata": {},
   "outputs": [
    {
     "data": {
      "text/plain": [
       "<xarray.DataArray (y: 3)>\n",
       "array([ 2.240893,  1.867558, -0.977278])\n",
       "Coordinates:\n",
       "    x        <U1 'b'\n",
       "  * y        (y) int64 10 20 30"
      ]
     },
     "execution_count": 31,
     "metadata": {},
     "output_type": "execute_result"
    }
   ],
   "source": [
    "arr[1]"
   ]
  },
  {
   "cell_type": "code",
   "execution_count": 32,
   "metadata": {},
   "outputs": [
    {
     "data": {
      "text/plain": [
       "<xarray.DataArray (y: 3)>\n",
       "array([ 0.476841,  1.467401, -1.956016])\n",
       "Coordinates:\n",
       "  * y        (y) int64 10 20 30"
      ]
     },
     "execution_count": 32,
     "metadata": {},
     "output_type": "execute_result"
    }
   ],
   "source": [
    "arr[1] - arr[0]"
   ]
  },
  {
   "cell_type": "code",
   "execution_count": 33,
   "metadata": {},
   "outputs": [
    {
     "data": {
      "text/plain": [
       "<xarray.DataArray (y: 3)>\n",
       "array([2.764052, 1.400157, 1.978738])\n",
       "Coordinates:\n",
       "    x        <U1 'a'\n",
       "  * y        (y) int64 10 20 30"
      ]
     },
     "execution_count": 33,
     "metadata": {},
     "output_type": "execute_result"
    }
   ],
   "source": [
    "arr[0] + 1"
   ]
  },
  {
   "cell_type": "code",
   "execution_count": 35,
   "metadata": {},
   "outputs": [
    {
     "data": {
      "text/plain": [
       "<xarray.DataArray (y: 3)>\n",
       "array([0., 0., 0.])\n",
       "Coordinates:\n",
       "    x        <U1 'a'\n",
       "  * y        (y) int64 10 20 30"
      ]
     },
     "execution_count": 35,
     "metadata": {},
     "output_type": "execute_result"
    }
   ],
   "source": [
    "arr[0] - arr[0]"
   ]
  },
  {
   "cell_type": "markdown",
   "metadata": {},
   "source": [
    "# Wrapping custom computation"
   ]
  },
  {
   "cell_type": "code",
   "execution_count": 40,
   "metadata": {},
   "outputs": [],
   "source": [
    "squared_error = lambda x, y: (x - y) ** 2"
   ]
  },
  {
   "cell_type": "code",
   "execution_count": 41,
   "metadata": {},
   "outputs": [
    {
     "data": {
      "text/plain": [
       "<xarray.DataArray (x: 4)>\n",
       "array([0, 1, 2, 3])\n",
       "Dimensions without coordinates: x"
      ]
     },
     "execution_count": 41,
     "metadata": {},
     "output_type": "execute_result"
    }
   ],
   "source": [
    "arr1 = xr.DataArray([0, 1, 2, 3], dims='x')\n",
    "arr1"
   ]
  },
  {
   "cell_type": "code",
   "execution_count": 42,
   "metadata": {},
   "outputs": [
    {
     "data": {
      "text/plain": [
       "<xarray.DataArray (x: 4)>\n",
       "array([1, 0, 1, 4])\n",
       "Dimensions without coordinates: x"
      ]
     },
     "execution_count": 42,
     "metadata": {},
     "output_type": "execute_result"
    }
   ],
   "source": [
    "xr.apply_ufunc(squared_error, arr1, 1)"
   ]
  },
  {
   "cell_type": "code",
   "execution_count": 44,
   "metadata": {},
   "outputs": [
    {
     "name": "stdout",
     "output_type": "stream",
     "text": [
      "Help on function apply_ufunc in module xarray.core.computation:\n",
      "\n",
      "apply_ufunc(func, *args, **kwargs)\n",
      "    apply_ufunc(func : Callable,\n",
      "                   *args : Any,\n",
      "                   input_core_dims : Optional[Sequence[Sequence]] = None,\n",
      "                   output_core_dims : Optional[Sequence[Sequence]] = ((),),\n",
      "                   exclude_dims : Collection = frozenset(),\n",
      "                   vectorize : bool = False,\n",
      "                   join : str = 'exact',\n",
      "                   dataset_join : str = 'exact',\n",
      "                   dataset_fill_value : Any = _NO_FILL_VALUE,\n",
      "                   keep_attrs : bool = False,\n",
      "                   kwargs : Mapping = None,\n",
      "                   dask : str = 'forbidden',\n",
      "                   output_dtypes : Optional[Sequence] = None,\n",
      "                   output_sizes : Optional[Mapping[Any, int]] = None)\n",
      "    \n",
      "    Apply a vectorized function for unlabeled arrays on xarray objects.\n",
      "    \n",
      "    The function will be mapped over the data variable(s) of the input\n",
      "    arguments using xarray's standard rules for labeled computation, including\n",
      "    alignment, broadcasting, looping over GroupBy/Dataset variables, and\n",
      "    merging of coordinates.\n",
      "    \n",
      "    Parameters\n",
      "    ----------\n",
      "    func : callable\n",
      "        Function to call like ``func(*args, **kwargs)`` on unlabeled arrays\n",
      "        (``.data``) that returns an array or tuple of arrays. If multiple\n",
      "        arguments with non-matching dimensions are supplied, this function is\n",
      "        expected to vectorize (broadcast) over axes of positional arguments in\n",
      "        the style of NumPy universal functions [1]_ (if this is not the case,\n",
      "        set ``vectorize=True``). If this function returns multiple outputs, you\n",
      "        must set ``output_core_dims`` as well.\n",
      "    *args : Dataset, DataArray, GroupBy, Variable, numpy/dask arrays or scalars\n",
      "        Mix of labeled and/or unlabeled arrays to which to apply the function.\n",
      "    input_core_dims : Sequence[Sequence], optional\n",
      "        List of the same length as ``args`` giving the list of core dimensions\n",
      "        on each input argument that should not be broadcast. By default, we\n",
      "        assume there are no core dimensions on any input arguments.\n",
      "    \n",
      "        For example, ``input_core_dims=[[], ['time']]`` indicates that all\n",
      "        dimensions on the first argument and all dimensions other than 'time'\n",
      "        on the second argument should be broadcast.\n",
      "    \n",
      "        Core dimensions are automatically moved to the last axes of input\n",
      "        variables before applying ``func``, which facilitates using NumPy style\n",
      "        generalized ufuncs [2]_.\n",
      "    output_core_dims : List[tuple], optional\n",
      "        List of the same length as the number of output arguments from\n",
      "        ``func``, giving the list of core dimensions on each output that were\n",
      "        not broadcast on the inputs. By default, we assume that ``func``\n",
      "        outputs exactly one array, with axes corresponding to each broadcast\n",
      "        dimension.\n",
      "    \n",
      "        Core dimensions are assumed to appear as the last dimensions of each\n",
      "        output in the provided order.\n",
      "    exclude_dims : set, optional\n",
      "        Core dimensions on the inputs to exclude from alignment and\n",
      "        broadcasting entirely. Any input coordinates along these dimensions\n",
      "        will be dropped. Each excluded dimension must also appear in\n",
      "        ``input_core_dims`` for at least one argument. Only dimensions listed\n",
      "        here are allowed to change size between input and output objects.\n",
      "    vectorize : bool, optional\n",
      "        If True, then assume ``func`` only takes arrays defined over core\n",
      "        dimensions as input and vectorize it automatically with\n",
      "        :py:func:`numpy.vectorize`. This option exists for convenience, but is\n",
      "        almost always slower than supplying a pre-vectorized function.\n",
      "        Using this option requires NumPy version 1.12 or newer.\n",
      "    join : {'outer', 'inner', 'left', 'right', 'exact'}, optional\n",
      "        Method for joining the indexes of the passed objects along each\n",
      "        dimension, and the variables of Dataset objects with mismatched\n",
      "        data variables:\n",
      "    \n",
      "        - 'outer': use the union of object indexes\n",
      "        - 'inner': use the intersection of object indexes\n",
      "        - 'left': use indexes from the first object with each dimension\n",
      "        - 'right': use indexes from the last object with each dimension\n",
      "        - 'exact': raise `ValueError` instead of aligning when indexes to be\n",
      "          aligned are not equal\n",
      "    dataset_join : {'outer', 'inner', 'left', 'right', 'exact'}, optional\n",
      "        Method for joining variables of Dataset objects with mismatched\n",
      "        data variables.\n",
      "    \n",
      "        - 'outer': take variables from both Dataset objects\n",
      "        - 'inner': take only overlapped variables\n",
      "        - 'left': take only variables from the first object\n",
      "        - 'right': take only variables from the last object\n",
      "        - 'exact': data variables on all Dataset objects must match exactly\n",
      "    dataset_fill_value : optional\n",
      "        Value used in place of missing variables on Dataset inputs when the\n",
      "        datasets do not share the exact same ``data_vars``. Required if\n",
      "        ``dataset_join not in {'inner', 'exact'}``, otherwise ignored.\n",
      "    keep_attrs: boolean, Optional\n",
      "        Whether to copy attributes from the first argument to the output.\n",
      "    kwargs: dict, optional\n",
      "        Optional keyword arguments passed directly on to call ``func``.\n",
      "    dask: 'forbidden', 'allowed' or 'parallelized', optional\n",
      "        How to handle applying to objects containing lazy data in the form of\n",
      "        dask arrays:\n",
      "    \n",
      "        - 'forbidden' (default): raise an error if a dask array is encountered.\n",
      "        - 'allowed': pass dask arrays directly on to ``func``.\n",
      "        - 'parallelized': automatically parallelize ``func`` if any of the\n",
      "          inputs are a dask array. If used, the ``output_dtypes`` argument must\n",
      "          also be provided. Multiple output arguments are not yet supported.\n",
      "    output_dtypes : list of dtypes, optional\n",
      "        Optional list of output dtypes. Only used if dask='parallelized'.\n",
      "    output_sizes : dict, optional\n",
      "        Optional mapping from dimension names to sizes for outputs. Only used\n",
      "        if dask='parallelized' and new dimensions (not found on inputs) appear\n",
      "        on outputs.\n",
      "    \n",
      "    Returns\n",
      "    -------\n",
      "    Single value or tuple of Dataset, DataArray, Variable, dask.array.Array or\n",
      "    numpy.ndarray, the first type on that list to appear on an input.\n",
      "    \n",
      "    Examples\n",
      "    --------\n",
      "    \n",
      "    Calculate the vector magnitude of two arguments:\n",
      "    \n",
      "    >>> def magnitude(a, b):\n",
      "    ...     func = lambda x, y: np.sqrt(x ** 2 + y ** 2)\n",
      "    ...     return xr.apply_ufunc(func, a, b)\n",
      "    \n",
      "    You can now apply ``magnitude()`` to ``xr.DataArray`` and ``xr.Dataset``\n",
      "    objects, with automatically preserved dimensions and coordinates, e.g.,\n",
      "    \n",
      "    >>> array = xr.DataArray([1, 2, 3], coords=[('x', [0.1, 0.2, 0.3])])\n",
      "    >>> magnitude(array, -array)\n",
      "    <xarray.DataArray (x: 3)>\n",
      "    array([1.414214, 2.828427, 4.242641])\n",
      "    Coordinates:\n",
      "      * x        (x) float64 0.1 0.2 0.3\n",
      "    \n",
      "    Plain scalars, numpy arrays and a mix of these with xarray objects is also\n",
      "    supported:\n",
      "    \n",
      "    >>> magnitude(4, 5)\n",
      "    5.0\n",
      "    >>> magnitude(3, np.array([0, 4]))\n",
      "    array([3., 5.])\n",
      "    >>> magnitude(array, 0)\n",
      "    <xarray.DataArray (x: 3)>\n",
      "    array([1., 2., 3.])\n",
      "    Coordinates:\n",
      "      * x        (x) float64 0.1 0.2 0.3\n",
      "    \n",
      "    Other examples of how you could use ``apply_ufunc`` to write functions to\n",
      "    (very nearly) replicate existing xarray functionality:\n",
      "    \n",
      "    Compute the mean (``.mean``) over one dimension::\n",
      "    \n",
      "        def mean(obj, dim):\n",
      "            # note: apply always moves core dimensions to the end\n",
      "            return apply_ufunc(np.mean, obj,\n",
      "                               input_core_dims=[[dim]],\n",
      "                               kwargs={'axis': -1})\n",
      "    \n",
      "    Inner product over a specific dimension (like ``xr.dot``)::\n",
      "    \n",
      "        def _inner(x, y):\n",
      "            result = np.matmul(x[..., np.newaxis, :], y[..., :, np.newaxis])\n",
      "            return result[..., 0, 0]\n",
      "    \n",
      "        def inner_product(a, b, dim):\n",
      "            return apply_ufunc(_inner, a, b, input_core_dims=[[dim], [dim]])\n",
      "    \n",
      "    Stack objects along a new dimension (like ``xr.concat``)::\n",
      "    \n",
      "        def stack(objects, dim, new_coord):\n",
      "            # note: this version does not stack coordinates\n",
      "            func = lambda *x: np.stack(x, axis=-1)\n",
      "            result = apply_ufunc(func, *objects,\n",
      "                                 output_core_dims=[[dim]],\n",
      "                                 join='outer',\n",
      "                                 dataset_fill_value=np.nan)\n",
      "            result[dim] = new_coord\n",
      "            return result\n",
      "    \n",
      "    If your function is not vectorized but can be applied only to core\n",
      "    dimensions, you can use ``vectorize=True`` to turn into a vectorized\n",
      "    function. This wraps :py:func:`numpy.vectorize`, so the operation isn't\n",
      "    terribly fast. Here we'll use it to calculate the distance between\n",
      "    empirical samples from two probability distributions, using a scipy\n",
      "    function that needs to be applied to vectors::\n",
      "    \n",
      "        import scipy.stats\n",
      "    \n",
      "        def earth_mover_distance(first_samples,\n",
      "                                 second_samples,\n",
      "                                 dim='ensemble'):\n",
      "            return apply_ufunc(scipy.stats.wasserstein_distance,\n",
      "                               first_samples, second_samples,\n",
      "                               input_core_dims=[[dim], [dim]],\n",
      "                               vectorize=True)\n",
      "    \n",
      "    Most of NumPy's builtin functions already broadcast their inputs\n",
      "    appropriately for use in `apply`. You may find helper functions such as\n",
      "    numpy.broadcast_arrays helpful in writing your function. `apply_ufunc` also\n",
      "    works well with numba's vectorize and guvectorize. Further explanation with\n",
      "    examples are provided in the xarray documentation [3].\n",
      "    \n",
      "    See also\n",
      "    --------\n",
      "    numpy.broadcast_arrays\n",
      "    numba.vectorize\n",
      "    numba.guvectorize\n",
      "    \n",
      "    References\n",
      "    ----------\n",
      "    .. [1] http://docs.scipy.org/doc/numpy/reference/ufuncs.html\n",
      "    .. [2] http://docs.scipy.org/doc/numpy/reference/c-api.generalized-ufuncs.html\n",
      "    .. [3] http://xarray.pydata.org/en/stable/computation.html#wrapping-custom-computation\n",
      "\n"
     ]
    }
   ],
   "source": [
    "help(xr.apply_ufunc)"
   ]
  },
  {
   "cell_type": "code",
   "execution_count": null,
   "metadata": {},
   "outputs": [],
   "source": []
  }
 ],
 "metadata": {
  "kernelspec": {
   "display_name": "Python 3",
   "language": "python",
   "name": "python3"
  },
  "language_info": {
   "codemirror_mode": {
    "name": "ipython",
    "version": 3
   },
   "file_extension": ".py",
   "mimetype": "text/x-python",
   "name": "python",
   "nbconvert_exporter": "python",
   "pygments_lexer": "ipython3",
   "version": "3.6.5"
  }
 },
 "nbformat": 4,
 "nbformat_minor": 2
}
