{
 "cells": [
  {
   "cell_type": "code",
   "execution_count": 2,
   "metadata": {},
   "outputs": [],
   "source": [
    "import pandas as pd"
   ]
  },
  {
   "cell_type": "code",
   "execution_count": 3,
   "metadata": {},
   "outputs": [],
   "source": [
    "import xarray as xr"
   ]
  },
  {
   "cell_type": "code",
   "execution_count": 4,
   "metadata": {},
   "outputs": [],
   "source": [
    "import numpy as np"
   ]
  },
  {
   "cell_type": "code",
   "execution_count": 5,
   "metadata": {},
   "outputs": [],
   "source": [
    "a = np.array(np.random.randint(1, 90+1,(4,4)),dtype=np.float64)"
   ]
  },
  {
   "cell_type": "code",
   "execution_count": 6,
   "metadata": {},
   "outputs": [],
   "source": [
    "b = np.array(np.random.randint(1, 360+1,(4,4)),dtype=np.float64)"
   ]
  },
  {
   "cell_type": "code",
   "execution_count": 7,
   "metadata": {},
   "outputs": [],
   "source": [
    "c = np.random.random_sample(16,)\n",
    "c = c.reshape(4,4)"
   ]
  },
  {
   "cell_type": "code",
   "execution_count": 8,
   "metadata": {},
   "outputs": [],
   "source": [
    "dsa = xr.Dataset()"
   ]
  },
  {
   "cell_type": "code",
   "execution_count": 9,
   "metadata": {},
   "outputs": [
    {
     "data": {
      "text/plain": [
       "<xarray.Dataset>\n",
       "Dimensions:  ()\n",
       "Data variables:\n",
       "    *empty*"
      ]
     },
     "execution_count": 9,
     "metadata": {},
     "output_type": "execute_result"
    }
   ],
   "source": [
    "dsa"
   ]
  },
  {
   "cell_type": "code",
   "execution_count": 10,
   "metadata": {},
   "outputs": [],
   "source": [
    "dsa['CloudFraction'] = (('x', 'y'), c)"
   ]
  },
  {
   "cell_type": "code",
   "execution_count": 11,
   "metadata": {},
   "outputs": [],
   "source": [
    "dsa.coords['latitude'] = (('x', 'y'), a)\n",
    "dsa.coords['longitude'] = (('x', 'y'), b)"
   ]
  },
  {
   "cell_type": "code",
   "execution_count": 12,
   "metadata": {},
   "outputs": [
    {
     "data": {
      "text/plain": [
       "<xarray.Dataset>\n",
       "Dimensions:        (x: 4, y: 4)\n",
       "Coordinates:\n",
       "    latitude       (x, y) float64 11.0 23.0 24.0 60.0 ... 65.0 69.0 12.0 86.0\n",
       "    longitude      (x, y) float64 154.0 31.0 264.0 332.0 ... 214.0 178.0 200.0\n",
       "Dimensions without coordinates: x, y\n",
       "Data variables:\n",
       "    CloudFraction  (x, y) float64 0.3104 0.6649 0.6682 ... 0.9633 0.6332 0.7996"
      ]
     },
     "execution_count": 12,
     "metadata": {},
     "output_type": "execute_result"
    }
   ],
   "source": [
    "dsa"
   ]
  },
  {
   "cell_type": "code",
   "execution_count": 13,
   "metadata": {},
   "outputs": [
    {
     "data": {
      "text/plain": [
       "<xarray.DataArray 'latitude' (x: 4, y: 4)>\n",
       "array([[11., 23., 24., 60.],\n",
       "       [29., 86., 38., 47.],\n",
       "       [85., 70., 10., 87.],\n",
       "       [65., 69., 12., 86.]])\n",
       "Coordinates:\n",
       "    latitude   (x, y) float64 11.0 23.0 24.0 60.0 29.0 ... 65.0 69.0 12.0 86.0\n",
       "    longitude  (x, y) float64 154.0 31.0 264.0 332.0 ... 21.0 214.0 178.0 200.0\n",
       "Dimensions without coordinates: x, y"
      ]
     },
     "execution_count": 13,
     "metadata": {},
     "output_type": "execute_result"
    }
   ],
   "source": [
    "dsa['latitude']"
   ]
  },
  {
   "cell_type": "code",
   "execution_count": 14,
   "metadata": {},
   "outputs": [
    {
     "data": {
      "text/plain": [
       "<xarray.DataArray 'longitude' (x: 4, y: 4)>\n",
       "array([[154.,  31., 264., 332.],\n",
       "       [212.,  96., 131.,  81.],\n",
       "       [131., 104., 315., 201.],\n",
       "       [ 21., 214., 178., 200.]])\n",
       "Coordinates:\n",
       "    latitude   (x, y) float64 11.0 23.0 24.0 60.0 29.0 ... 65.0 69.0 12.0 86.0\n",
       "    longitude  (x, y) float64 154.0 31.0 264.0 332.0 ... 21.0 214.0 178.0 200.0\n",
       "Dimensions without coordinates: x, y"
      ]
     },
     "execution_count": 14,
     "metadata": {},
     "output_type": "execute_result"
    }
   ],
   "source": [
    "dsa['longitude']"
   ]
  },
  {
   "cell_type": "code",
   "execution_count": 15,
   "metadata": {},
   "outputs": [
    {
     "data": {
      "text/plain": [
       "<xarray.DataArray 'latitude' (x: 2, y: 2)>\n",
       "array([[11., 23.],\n",
       "       [29., 86.]])\n",
       "Coordinates:\n",
       "    latitude   (x, y) float64 11.0 23.0 29.0 86.0\n",
       "    longitude  (x, y) float64 154.0 31.0 212.0 96.0\n",
       "Dimensions without coordinates: x, y"
      ]
     },
     "execution_count": 15,
     "metadata": {},
     "output_type": "execute_result"
    }
   ],
   "source": [
    "dsa['latitude'][0:2,0:2]"
   ]
  },
  {
   "cell_type": "code",
   "execution_count": 16,
   "metadata": {},
   "outputs": [
    {
     "data": {
      "text/plain": [
       "<xarray.DataArray 'CloudFraction' (x: 2, y: 2)>\n",
       "array([[0.310395, 0.664913],\n",
       "       [0.965322, 0.789913]])\n",
       "Coordinates:\n",
       "    latitude   (x, y) float64 11.0 23.0 29.0 86.0\n",
       "    longitude  (x, y) float64 154.0 31.0 212.0 96.0\n",
       "Dimensions without coordinates: x, y"
      ]
     },
     "execution_count": 16,
     "metadata": {},
     "output_type": "execute_result"
    }
   ],
   "source": [
    "dsa['CloudFraction'][0:2,0:2]"
   ]
  },
  {
   "cell_type": "markdown",
   "metadata": {},
   "source": [
    "### Conditional Arguments For Parsing Data Through A Dataset"
   ]
  },
  {
   "cell_type": "code",
   "execution_count": 17,
   "metadata": {},
   "outputs": [
    {
     "data": {
      "text/plain": [
       "<xarray.Dataset>\n",
       "Dimensions:        (x: 4, y: 4)\n",
       "Coordinates:\n",
       "    latitude       (x, y) float64 11.0 23.0 24.0 60.0 ... 65.0 69.0 12.0 86.0\n",
       "    longitude      (x, y) float64 154.0 31.0 264.0 332.0 ... 214.0 178.0 200.0\n",
       "Dimensions without coordinates: x, y\n",
       "Data variables:\n",
       "    CloudFraction  (x, y) float64 0.0 1.0 0.0 0.05973 ... 0.9633 0.0 0.7996"
      ]
     },
     "execution_count": 17,
     "metadata": {},
     "output_type": "execute_result"
    }
   ],
   "source": [
    "dsa.where(dsa.latitude > 40.0 , dsa.longitude < 60.0)"
   ]
  },
  {
   "cell_type": "code",
   "execution_count": 20,
   "metadata": {},
   "outputs": [
    {
     "data": {
      "text/plain": [
       "<xarray.DataArray 'CloudFraction' (x: 4, y: 4)>\n",
       "array([[0.310395, 0.664913, 0.668172, 0.059725],\n",
       "       [0.965322, 0.789913, 0.124717, 0.115879],\n",
       "       [0.789728, 0.629522, 0.561155, 0.246527],\n",
       "       [0.280067, 0.963333, 0.633236, 0.799648]])\n",
       "Coordinates:\n",
       "    latitude   (x, y) float64 11.0 23.0 24.0 60.0 29.0 ... 65.0 69.0 12.0 86.0\n",
       "    longitude  (x, y) float64 154.0 31.0 264.0 332.0 ... 21.0 214.0 178.0 200.0\n",
       "Dimensions without coordinates: x, y"
      ]
     },
     "execution_count": 20,
     "metadata": {},
     "output_type": "execute_result"
    }
   ],
   "source": [
    "dsa['CloudFraction']"
   ]
  },
  {
   "cell_type": "code",
   "execution_count": 18,
   "metadata": {},
   "outputs": [
    {
     "data": {
      "text/plain": [
       "<xarray.DataArray (x: 4, y: 4)>\n",
       "array([[0.      , 1.      , 0.      , 0.059725],\n",
       "       [0.      , 0.789913, 0.      , 0.115879],\n",
       "       [0.789728, 0.629522, 0.      , 0.246527],\n",
       "       [0.280067, 0.963333, 0.      , 0.799648]])\n",
       "Coordinates:\n",
       "    latitude   (x, y) float64 11.0 23.0 24.0 60.0 29.0 ... 65.0 69.0 12.0 86.0\n",
       "    longitude  (x, y) float64 154.0 31.0 264.0 332.0 ... 21.0 214.0 178.0 200.0\n",
       "Dimensions without coordinates: x, y"
      ]
     },
     "execution_count": 18,
     "metadata": {},
     "output_type": "execute_result"
    }
   ],
   "source": [
    "dsa['CloudFraction'].where(dsa.latitude > 40.0 , dsa.longitude < 60.0)"
   ]
  },
  {
   "cell_type": "code",
   "execution_count": 29,
   "metadata": {},
   "outputs": [
    {
     "data": {
      "text/plain": [
       "<xarray.DataArray (x: 4, y: 4)>\n",
       "array([[0.310395, 0.664913, 0.668172, 0.059725],\n",
       "       [0.965322, 1.      , 0.124717, 0.115879],\n",
       "       [1.      , 0.629522, 0.561155, 1.      ],\n",
       "       [0.280067, 0.963333, 0.633236, 1.      ]])\n",
       "Coordinates:\n",
       "    latitude   (x, y) float64 11.0 23.0 24.0 60.0 29.0 ... 65.0 69.0 12.0 86.0\n",
       "    longitude  (x, y) float64 154.0 31.0 264.0 332.0 ... 21.0 214.0 178.0 200.0\n",
       "Dimensions without coordinates: x, y"
      ]
     },
     "execution_count": 29,
     "metadata": {},
     "output_type": "execute_result"
    }
   ],
   "source": [
    "dsa['CloudFraction'].where(dsa.latitude < 80 , dsa.longitude > 95)"
   ]
  },
  {
   "cell_type": "code",
   "execution_count": 31,
   "metadata": {},
   "outputs": [
    {
     "data": {
      "text/plain": [
       "<xarray.DataArray (x: 4, y: 4)>\n",
       "array([[0.      , 0.      , 0.      , 0.      ],\n",
       "       [0.      , 0.789913, 0.      , 0.      ],\n",
       "       [0.      , 0.      , 0.      , 0.      ],\n",
       "       [0.      , 0.      , 0.      , 0.799648]])\n",
       "Coordinates:\n",
       "    latitude   (x, y) float64 11.0 23.0 24.0 60.0 29.0 ... 65.0 69.0 12.0 86.0\n",
       "    longitude  (x, y) float64 154.0 31.0 264.0 332.0 ... 21.0 214.0 178.0 200.0\n",
       "Dimensions without coordinates: x, y"
      ]
     },
     "execution_count": 31,
     "metadata": {},
     "output_type": "execute_result"
    }
   ],
   "source": [
    "dsa['CloudFraction'].where(dsa.latitude == 86 , dsa.longitude == 96)"
   ]
  },
  {
   "cell_type": "code",
   "execution_count": 45,
   "metadata": {},
   "outputs": [
    {
     "data": {
      "text/plain": [
       "<xarray.DataArray (x: 4, y: 4)>\n",
       "array([[0.      , 0.      , 0.      , 0.      ],\n",
       "       [0.      , 0.789913, 0.      , 0.      ],\n",
       "       [0.      , 0.      , 0.      , 0.      ],\n",
       "       [0.      , 0.      , 0.      , 0.799648]])\n",
       "Coordinates:\n",
       "    latitude   (x, y) float64 11.0 23.0 24.0 60.0 29.0 ... 65.0 69.0 12.0 86.0\n",
       "    longitude  (x, y) float64 154.0 31.0 264.0 332.0 ... 21.0 214.0 178.0 200.0\n",
       "Dimensions without coordinates: x, y"
      ]
     },
     "execution_count": 45,
     "metadata": {},
     "output_type": "execute_result"
    }
   ],
   "source": [
    "dsa['CloudFraction'].where(dsa.latitude == 86 , dsa.longitude == 96)"
   ]
  },
  {
   "cell_type": "code",
   "execution_count": 42,
   "metadata": {},
   "outputs": [],
   "source": [
    "s = dsa['CloudFraction'].where(dsa.latitude == 86 , dsa.longitude == 96)"
   ]
  },
  {
   "cell_type": "code",
   "execution_count": 44,
   "metadata": {},
   "outputs": [
    {
     "data": {
      "text/plain": [
       "array([[0.        , 0.        , 0.        , 0.        ],\n",
       "       [0.        , 0.7899133 , 0.        , 0.        ],\n",
       "       [0.        , 0.        , 0.        , 0.        ],\n",
       "       [0.        , 0.        , 0.        , 0.79964842]])"
      ]
     },
     "execution_count": 44,
     "metadata": {},
     "output_type": "execute_result"
    }
   ],
   "source": [
    "s.data"
   ]
  },
  {
   "cell_type": "code",
   "execution_count": 47,
   "metadata": {},
   "outputs": [
    {
     "data": {
      "text/plain": [
       "<bound method _values_method_wrapper.<locals>.func of <xarray.DataArray (x: 4, y: 4)>\n",
       "array([[0.      , 0.      , 0.      , 0.      ],\n",
       "       [0.      , 0.789913, 0.      , 0.      ],\n",
       "       [0.      , 0.      , 0.      , 0.      ],\n",
       "       [0.      , 0.      , 0.      , 0.799648]])\n",
       "Coordinates:\n",
       "    latitude   (x, y) float64 11.0 23.0 24.0 60.0 29.0 ... 65.0 69.0 12.0 86.0\n",
       "    longitude  (x, y) float64 154.0 31.0 264.0 332.0 ... 21.0 214.0 178.0 200.0\n",
       "Dimensions without coordinates: x, y>"
      ]
     },
     "execution_count": 47,
     "metadata": {},
     "output_type": "execute_result"
    }
   ],
   "source": [
    "s.item"
   ]
  },
  {
   "cell_type": "code",
   "execution_count": 48,
   "metadata": {},
   "outputs": [
    {
     "data": {
      "text/plain": [
       "<xarray.DataArray (x: 4, y: 4)>\n",
       "array([[0.      , 0.      , 0.      , 0.      ],\n",
       "       [0.      , 0.789913, 0.      , 0.      ],\n",
       "       [0.      , 0.      , 0.      , 0.      ],\n",
       "       [0.      , 0.      , 0.      , 0.799648]])\n",
       "Coordinates:\n",
       "    latitude   (x, y) float64 11.0 23.0 24.0 60.0 29.0 ... 65.0 69.0 12.0 86.0\n",
       "    longitude  (x, y) float64 154.0 31.0 264.0 332.0 ... 21.0 214.0 178.0 200.0\n",
       "Dimensions without coordinates: x, y"
      ]
     },
     "execution_count": 48,
     "metadata": {},
     "output_type": "execute_result"
    }
   ],
   "source": [
    "s"
   ]
  },
  {
   "cell_type": "code",
   "execution_count": 49,
   "metadata": {},
   "outputs": [],
   "source": [
    "ssem = s.to_series()"
   ]
  },
  {
   "cell_type": "code",
   "execution_count": 50,
   "metadata": {},
   "outputs": [
    {
     "data": {
      "text/plain": [
       "x  y\n",
       "0  0    0.000000\n",
       "   1    0.000000\n",
       "   2    0.000000\n",
       "   3    0.000000\n",
       "1  0    0.000000\n",
       "   1    0.789913\n",
       "   2    0.000000\n",
       "   3    0.000000\n",
       "2  0    0.000000\n",
       "   1    0.000000\n",
       "   2    0.000000\n",
       "   3    0.000000\n",
       "3  0    0.000000\n",
       "   1    0.000000\n",
       "   2    0.000000\n",
       "   3    0.799648\n",
       "dtype: float64"
      ]
     },
     "execution_count": 50,
     "metadata": {},
     "output_type": "execute_result"
    }
   ],
   "source": [
    "ssem"
   ]
  },
  {
   "cell_type": "code",
   "execution_count": 53,
   "metadata": {},
   "outputs": [
    {
     "data": {
      "text/plain": [
       "<xarray.DataArray (x: 4, y: 4)>\n",
       "array([[0.310395, 1.      , 1.      , 1.      ],\n",
       "       [1.      , 1.      , 1.      , 1.      ],\n",
       "       [1.      , 1.      , 0.561155, 1.      ],\n",
       "       [1.      , 1.      , 0.633236, 1.      ]])\n",
       "Coordinates:\n",
       "    latitude   (x, y) float64 11.0 23.0 24.0 60.0 29.0 ... 65.0 69.0 12.0 86.0\n",
       "    longitude  (x, y) float64 154.0 31.0 264.0 332.0 ... 21.0 214.0 178.0 200.0\n",
       "Dimensions without coordinates: x, y"
      ]
     },
     "execution_count": 53,
     "metadata": {},
     "output_type": "execute_result"
    }
   ],
   "source": [
    "dsa['CloudFraction'].where(dsa.latitude < 20.0 , dsa.latitude > 21.0)"
   ]
  },
  {
   "cell_type": "code",
   "execution_count": 54,
   "metadata": {},
   "outputs": [
    {
     "ename": "TypeError",
     "evalue": "where() takes from 2 to 4 positional arguments but 5 were given",
     "output_type": "error",
     "traceback": [
      "\u001b[0;31m---------------------------------------------------------------------------\u001b[0m",
      "\u001b[0;31mTypeError\u001b[0m                                 Traceback (most recent call last)",
      "\u001b[0;32m<ipython-input-54-6bf1ae4dedfb>\u001b[0m in \u001b[0;36m<module>\u001b[0;34m()\u001b[0m\n\u001b[0;32m----> 1\u001b[0;31m \u001b[0mdsa\u001b[0m\u001b[0;34m[\u001b[0m\u001b[0;34m'CloudFraction'\u001b[0m\u001b[0;34m]\u001b[0m\u001b[0;34m.\u001b[0m\u001b[0mwhere\u001b[0m\u001b[0;34m(\u001b[0m\u001b[0mdsa\u001b[0m\u001b[0;34m.\u001b[0m\u001b[0mlatitude\u001b[0m \u001b[0;34m<\u001b[0m \u001b[0;36m20.0\u001b[0m \u001b[0;34m,\u001b[0m \u001b[0mdsa\u001b[0m\u001b[0;34m.\u001b[0m\u001b[0mlatitude\u001b[0m \u001b[0;34m>\u001b[0m \u001b[0;36m21.0\u001b[0m\u001b[0;34m,\u001b[0m \u001b[0mdsa\u001b[0m\u001b[0;34m.\u001b[0m\u001b[0mlongitude\u001b[0m \u001b[0;34m<\u001b[0m \u001b[0;36m131.0\u001b[0m \u001b[0;34m,\u001b[0m \u001b[0mdsa\u001b[0m\u001b[0;34m.\u001b[0m\u001b[0mlongitude\u001b[0m \u001b[0;34m>\u001b[0m \u001b[0;36m132.0\u001b[0m\u001b[0;34m)\u001b[0m\u001b[0;34m\u001b[0m\u001b[0m\n\u001b[0m",
      "\u001b[0;31mTypeError\u001b[0m: where() takes from 2 to 4 positional arguments but 5 were given"
     ]
    }
   ],
   "source": [
    "dsa['CloudFraction'].where(dsa.latitude < 20.0 , dsa.latitude > 21.0, dsa.longitude < 131.0 , dsa.longitude > 132.0)"
   ]
  },
  {
   "cell_type": "code",
   "execution_count": 57,
   "metadata": {},
   "outputs": [],
   "source": [
    "z = dsa['CloudFraction'].where(dsa.latitude < 20.0 , dsa.latitude > 21.0)"
   ]
  },
  {
   "cell_type": "code",
   "execution_count": 58,
   "metadata": {},
   "outputs": [
    {
     "data": {
      "text/plain": [
       "<xarray.DataArray (x: 4, y: 4)>\n",
       "array([[0.310395, 1.      , 1.      , 1.      ],\n",
       "       [1.      , 1.      , 1.      , 1.      ],\n",
       "       [1.      , 1.      , 0.561155, 1.      ],\n",
       "       [1.      , 1.      , 0.633236, 1.      ]])\n",
       "Coordinates:\n",
       "    latitude   (x, y) float64 11.0 23.0 24.0 60.0 29.0 ... 65.0 69.0 12.0 86.0\n",
       "    longitude  (x, y) float64 154.0 31.0 264.0 332.0 ... 21.0 214.0 178.0 200.0\n",
       "Dimensions without coordinates: x, y"
      ]
     },
     "execution_count": 58,
     "metadata": {},
     "output_type": "execute_result"
    }
   ],
   "source": [
    "z"
   ]
  },
  {
   "cell_type": "code",
   "execution_count": 60,
   "metadata": {},
   "outputs": [
    {
     "data": {
      "text/plain": [
       "<xarray.DataArray (x: 4, y: 4)>\n",
       "array([[0.310395, 1.      , 1.      , 1.      ],\n",
       "       [1.      , 1.      , 1.      , 1.      ],\n",
       "       [1.      , 1.      , 1.      , 1.      ],\n",
       "       [1.      , 1.      , 1.      , 1.      ]])\n",
       "Coordinates:\n",
       "    latitude   (x, y) float64 11.0 23.0 24.0 60.0 29.0 ... 65.0 69.0 12.0 86.0\n",
       "    longitude  (x, y) float64 154.0 31.0 264.0 332.0 ... 21.0 214.0 178.0 200.0\n",
       "Dimensions without coordinates: x, y"
      ]
     },
     "execution_count": 60,
     "metadata": {},
     "output_type": "execute_result"
    }
   ],
   "source": [
    "z.where(dsa.longitude < 155.0 , dsa.longitude > 153.0)"
   ]
  },
  {
   "cell_type": "code",
   "execution_count": 61,
   "metadata": {},
   "outputs": [],
   "source": [
    "dab = xr.DataArray([[92,10],[91,9],[90,10],[89,11],\n",
    "                    [59,1],[92,8],[93,7],[93,3],\n",
    "                    [54,2],[94,6],[91,9],[92,2],\n",
    "                    [25,3],[67,1],[92,10],[91,9]],\n",
    "                  coords={'geo': (['lat','lon'], [[52,343],[11,339],[86,351],[52,108],[11,121],[51,245],\n",
    "                                                 [84,165],[84,110],[32,318],[1,324],[11,357],[79,290],\n",
    "                                                 [85,221],[60,78],[83,172],[68,225]])},\n",
    "                  dims=['lat','lon'])"
   ]
  },
  {
   "cell_type": "code",
   "execution_count": 65,
   "metadata": {},
   "outputs": [],
   "source": [
    "p = np.array([[92,10],[91,9],[90,10],[89,11],\n",
    " [59,1],[92,8],[93,7],[93,3],\n",
    " [54,2],[94,6],[91,9],[92,2],\n",
    " [25,3],[67,1],[92,10],[91,9]])"
   ]
  },
  {
   "cell_type": "code",
   "execution_count": 66,
   "metadata": {},
   "outputs": [
    {
     "data": {
      "text/plain": [
       "array([[92, 10],\n",
       "       [91,  9],\n",
       "       [90, 10],\n",
       "       [89, 11],\n",
       "       [59,  1],\n",
       "       [92,  8],\n",
       "       [93,  7],\n",
       "       [93,  3],\n",
       "       [54,  2],\n",
       "       [94,  6],\n",
       "       [91,  9],\n",
       "       [92,  2],\n",
       "       [25,  3],\n",
       "       [67,  1],\n",
       "       [92, 10],\n",
       "       [91,  9]])"
      ]
     },
     "execution_count": 66,
     "metadata": {},
     "output_type": "execute_result"
    }
   ],
   "source": [
    "p"
   ]
  },
  {
   "cell_type": "code",
   "execution_count": 68,
   "metadata": {},
   "outputs": [],
   "source": [
    "p1= np.array([{92,10},{91,9},{90,10},{89,11},\n",
    " {59,1},{92,8},{93,7},{93,3},\n",
    " {54,2},{94,6},{91,9},{92,2},\n",
    " {25,3},{67,1},{92,10},{91,9}])"
   ]
  },
  {
   "cell_type": "code",
   "execution_count": 69,
   "metadata": {},
   "outputs": [
    {
     "data": {
      "text/plain": [
       "array([{10, 92}, {9, 91}, {90, 10}, {89, 11}, {1, 59}, {8, 92}, {93, 7},\n",
       "       {3, 93}, {2, 54}, {94, 6}, {9, 91}, {2, 92}, {25, 3}, {1, 67},\n",
       "       {10, 92}, {9, 91}], dtype=object)"
      ]
     },
     "execution_count": 69,
     "metadata": {},
     "output_type": "execute_result"
    }
   ],
   "source": [
    "p1"
   ]
  },
  {
   "cell_type": "code",
   "execution_count": 70,
   "metadata": {},
   "outputs": [
    {
     "data": {
      "text/plain": [
       "(16,)"
      ]
     },
     "execution_count": 70,
     "metadata": {},
     "output_type": "execute_result"
    }
   ],
   "source": [
    "p1.shape"
   ]
  },
  {
   "cell_type": "code",
   "execution_count": 71,
   "metadata": {},
   "outputs": [],
   "source": [
    "p2 = p1.reshape(4,4)"
   ]
  },
  {
   "cell_type": "code",
   "execution_count": 74,
   "metadata": {},
   "outputs": [
    {
     "data": {
      "text/plain": [
       "array([[{10, 92}, {9, 91}, {90, 10}, {89, 11}],\n",
       "       [{1, 59}, {8, 92}, {93, 7}, {3, 93}],\n",
       "       [{2, 54}, {94, 6}, {9, 91}, {2, 92}],\n",
       "       [{25, 3}, {1, 67}, {10, 92}, {9, 91}]], dtype=object)"
      ]
     },
     "execution_count": 74,
     "metadata": {},
     "output_type": "execute_result"
    }
   ],
   "source": [
    "p2"
   ]
  },
  {
   "cell_type": "code",
   "execution_count": 76,
   "metadata": {},
   "outputs": [],
   "source": [
    "dab = xr.DataArray(p2,\n",
    "                   coords={'geo': (['lat','lon'], p2)},\n",
    "                  dims=['lat','lon'])"
   ]
  },
  {
   "cell_type": "code",
   "execution_count": 77,
   "metadata": {},
   "outputs": [
    {
     "data": {
      "text/plain": [
       "<xarray.DataArray (lat: 4, lon: 4)>\n",
       "array([[{10, 92}, {9, 91}, {90, 10}, {89, 11}],\n",
       "       [{1, 59}, {8, 92}, {93, 7}, {3, 93}],\n",
       "       [{2, 54}, {94, 6}, {9, 91}, {2, 92}],\n",
       "       [{25, 3}, {1, 67}, {10, 92}, {9, 91}]], dtype=object)\n",
       "Coordinates:\n",
       "    geo      (lat, lon) object {10, 92} {9, 91} {90, 10} ... {10, 92} {9, 91}\n",
       "Dimensions without coordinates: lat, lon"
      ]
     },
     "execution_count": 77,
     "metadata": {},
     "output_type": "execute_result"
    }
   ],
   "source": [
    "dab"
   ]
  },
  {
   "cell_type": "code",
   "execution_count": 82,
   "metadata": {},
   "outputs": [
    {
     "data": {
      "text/plain": [
       "<xarray.DataArray (lat: 4, lon: 4)>\n",
       "array([[{10, 92}, {9, 91}, {90, 10}, {89, 11}],\n",
       "       [{1, 59}, {8, 92}, {93, 7}, {3, 93}],\n",
       "       [nan, nan, nan, nan],\n",
       "       [nan, nan, nan, nan]], dtype=object)\n",
       "Coordinates:\n",
       "    geo      (lat, lon) object {10, 92} {9, 91} {90, 10} ... {10, 92} {9, 91}\n",
       "Dimensions without coordinates: lat, lon"
      ]
     },
     "execution_count": 82,
     "metadata": {},
     "output_type": "execute_result"
    }
   ],
   "source": [
    "#Condtional Arguments Apply Through Dimensions Indexs \n",
    "dab.where(dab['geo']['lat'] < 2.0)"
   ]
  },
  {
   "cell_type": "code",
   "execution_count": 87,
   "metadata": {},
   "outputs": [
    {
     "data": {
      "text/plain": [
       "<xarray.DataArray (lat: 4, lon: 4)>\n",
       "array([[{10, 92}, {9, 91}, {90, 10}, {89, 11}],\n",
       "       [True, True, True, True],\n",
       "       [True, True, True, True],\n",
       "       [True, True, True, True]], dtype=object)\n",
       "Coordinates:\n",
       "    geo      (lat, lon) object {10, 92} {9, 91} {90, 10} ... {10, 92} {9, 91}\n",
       "Dimensions without coordinates: lat, lon"
      ]
     },
     "execution_count": 87,
     "metadata": {},
     "output_type": "execute_result"
    }
   ],
   "source": [
    "dab.where(dab['geo']['lat'] < 1.0, dab['geo']['lon'] < 31.0)"
   ]
  },
  {
   "cell_type": "code",
   "execution_count": 90,
   "metadata": {},
   "outputs": [
    {
     "data": {
      "text/plain": [
       "<xarray.DataArray (lat: 4, lon: 4)>\n",
       "array([[nan, nan, nan, nan],\n",
       "       [nan, nan, nan, nan],\n",
       "       [nan, nan, nan, nan],\n",
       "       [nan, nan, nan, nan]], dtype=object)\n",
       "Coordinates:\n",
       "    geo      (lat, lon) object {10, 92} {9, 91} {90, 10} ... {10, 92} {9, 91}\n",
       "Dimensions without coordinates: lat, lon"
      ]
     },
     "execution_count": 90,
     "metadata": {},
     "output_type": "execute_result"
    }
   ],
   "source": [
    "dab.where(dab['geo']['lat'] == 10.0)"
   ]
  },
  {
   "cell_type": "code",
   "execution_count": 91,
   "metadata": {},
   "outputs": [
    {
     "data": {
      "text/plain": [
       "<xarray.DataArray 'geo' (lat: 4, lon: 4)>\n",
       "array([[{10, 92}, {9, 91}, {90, 10}, {89, 11}],\n",
       "       [{1, 59}, {8, 92}, {93, 7}, {3, 93}],\n",
       "       [{2, 54}, {94, 6}, {9, 91}, {2, 92}],\n",
       "       [{25, 3}, {1, 67}, {10, 92}, {9, 91}]], dtype=object)\n",
       "Coordinates:\n",
       "    geo      (lat, lon) object {10, 92} {9, 91} {90, 10} ... {10, 92} {9, 91}\n",
       "Dimensions without coordinates: lat, lon"
      ]
     },
     "execution_count": 91,
     "metadata": {},
     "output_type": "execute_result"
    }
   ],
   "source": [
    "dab['geo']"
   ]
  },
  {
   "cell_type": "code",
   "execution_count": 92,
   "metadata": {},
   "outputs": [
    {
     "data": {
      "text/plain": [
       "<xarray.DataArray 'lat' (lat: 4)>\n",
       "array([0, 1, 2, 3])\n",
       "Dimensions without coordinates: lat"
      ]
     },
     "execution_count": 92,
     "metadata": {},
     "output_type": "execute_result"
    }
   ],
   "source": [
    "dab['geo']['lat']"
   ]
  },
  {
   "cell_type": "code",
   "execution_count": 93,
   "metadata": {},
   "outputs": [],
   "source": [
    "p3= np.array([{52,343},{11,339},{86,351},{52,108},\n",
    " {11,121},{51,245},{84,165},{84,110},\n",
    " {32,318},{1,324},{11,357},{79,290},\n",
    " {85,221},{60,78},{83,172},{68,225}])"
   ]
  },
  {
   "cell_type": "code",
   "execution_count": 94,
   "metadata": {},
   "outputs": [],
   "source": [
    "p4 = p3.reshape(4,4)"
   ]
  },
  {
   "cell_type": "code",
   "execution_count": 95,
   "metadata": {},
   "outputs": [
    {
     "data": {
      "text/plain": [
       "array([[{52, 343}, {339, 11}, {86, 351}, {108, 52}],\n",
       "       [{121, 11}, {51, 245}, {84, 165}, {84, 110}],\n",
       "       [{32, 318}, {1, 324}, {11, 357}, {290, 79}],\n",
       "       [{221, 85}, {60, 78}, {83, 172}, {225, 68}]], dtype=object)"
      ]
     },
     "execution_count": 95,
     "metadata": {},
     "output_type": "execute_result"
    }
   ],
   "source": [
    "p4"
   ]
  },
  {
   "cell_type": "code",
   "execution_count": 97,
   "metadata": {},
   "outputs": [],
   "source": [
    "dab1 = xr.DataArray(p2,\n",
    "                   coords={'geo': (['lat','lon'], p4)},\n",
    "                  dims=['lat','lon'])"
   ]
  },
  {
   "cell_type": "code",
   "execution_count": 98,
   "metadata": {},
   "outputs": [
    {
     "data": {
      "text/plain": [
       "<xarray.DataArray (lat: 4, lon: 4)>\n",
       "array([[{10, 92}, {9, 91}, {90, 10}, {89, 11}],\n",
       "       [{1, 59}, {8, 92}, {93, 7}, {3, 93}],\n",
       "       [{2, 54}, {94, 6}, {9, 91}, {2, 92}],\n",
       "       [{25, 3}, {1, 67}, {10, 92}, {9, 91}]], dtype=object)\n",
       "Coordinates:\n",
       "    geo      (lat, lon) object {52, 343} {339, 11} ... {83, 172} {225, 68}\n",
       "Dimensions without coordinates: lat, lon"
      ]
     },
     "execution_count": 98,
     "metadata": {},
     "output_type": "execute_result"
    }
   ],
   "source": [
    "dab1"
   ]
  },
  {
   "cell_type": "code",
   "execution_count": 99,
   "metadata": {},
   "outputs": [
    {
     "data": {
      "text/plain": [
       "<xarray.DataArray (lat: 4, lon: 4)>\n",
       "array([[{10, 92}, {9, 91}, {90, 10}, {89, 11}],\n",
       "       [{1, 59}, {8, 92}, {93, 7}, {3, 93}],\n",
       "       [nan, nan, nan, nan],\n",
       "       [nan, nan, nan, nan]], dtype=object)\n",
       "Coordinates:\n",
       "    geo      (lat, lon) object {52, 343} {339, 11} ... {83, 172} {225, 68}\n",
       "Dimensions without coordinates: lat, lon"
      ]
     },
     "execution_count": 99,
     "metadata": {},
     "output_type": "execute_result"
    }
   ],
   "source": [
    "dab1.where(dab['geo']['lat'] < 2.0)"
   ]
  },
  {
   "cell_type": "code",
   "execution_count": 100,
   "metadata": {},
   "outputs": [
    {
     "data": {
      "text/plain": [
       "<xarray.DataArray (lat: 4, lon: 4)>\n",
       "array([[nan, nan, nan, nan],\n",
       "       [nan, nan, nan, nan],\n",
       "       [{2, 54}, {94, 6}, {9, 91}, {2, 92}],\n",
       "       [nan, nan, nan, nan]], dtype=object)\n",
       "Coordinates:\n",
       "    geo      (lat, lon) object {52, 343} {339, 11} ... {83, 172} {225, 68}\n",
       "Dimensions without coordinates: lat, lon"
      ]
     },
     "execution_count": 100,
     "metadata": {},
     "output_type": "execute_result"
    }
   ],
   "source": [
    "dab1.where(dab['geo']['lat'] == 2.0)"
   ]
  },
  {
   "cell_type": "code",
   "execution_count": 101,
   "metadata": {},
   "outputs": [
    {
     "data": {
      "text/plain": [
       "<xarray.DataArray (lat: 4, lon: 4)>\n",
       "array([[False, True, False, False],\n",
       "       [False, True, False, False],\n",
       "       [{2, 54}, {94, 6}, {9, 91}, {2, 92}],\n",
       "       [False, True, False, False]], dtype=object)\n",
       "Coordinates:\n",
       "    geo      (lat, lon) object {52, 343} {339, 11} ... {83, 172} {225, 68}\n",
       "Dimensions without coordinates: lat, lon"
      ]
     },
     "execution_count": 101,
     "metadata": {},
     "output_type": "execute_result"
    }
   ],
   "source": [
    "dab1.where(dab['geo']['lat'] == 2.0, dab['geo']['lon'] == 1.0)"
   ]
  },
  {
   "cell_type": "code",
   "execution_count": 104,
   "metadata": {},
   "outputs": [
    {
     "ename": "SyntaxError",
     "evalue": "invalid syntax (<ipython-input-104-3a525ff9159b>, line 1)",
     "output_type": "error",
     "traceback": [
      "\u001b[0;36m  File \u001b[0;32m\"<ipython-input-104-3a525ff9159b>\"\u001b[0;36m, line \u001b[0;32m1\u001b[0m\n\u001b[0;31m    dab1.where(dab['geo']['lat'] == 2.0 && dab['geo']['lon'] == 1.0)\u001b[0m\n\u001b[0m                                         ^\u001b[0m\n\u001b[0;31mSyntaxError\u001b[0m\u001b[0;31m:\u001b[0m invalid syntax\n"
     ]
    }
   ],
   "source": [
    "dab1.where(dab['geo']['lat'] == 2.0 && dab['geo']['lon'] == 1.0)"
   ]
  },
  {
   "cell_type": "code",
   "execution_count": 105,
   "metadata": {},
   "outputs": [
    {
     "ename": "ValueError",
     "evalue": "The truth value of an array with more than one element is ambiguous. Use a.any() or a.all()",
     "output_type": "error",
     "traceback": [
      "\u001b[0;31m---------------------------------------------------------------------------\u001b[0m",
      "\u001b[0;31mValueError\u001b[0m                                Traceback (most recent call last)",
      "\u001b[0;32m<ipython-input-105-37e5557203ae>\u001b[0m in \u001b[0;36m<module>\u001b[0;34m()\u001b[0m\n\u001b[0;32m----> 1\u001b[0;31m \u001b[0mdab1\u001b[0m\u001b[0;34m.\u001b[0m\u001b[0mwhere\u001b[0m\u001b[0;34m(\u001b[0m\u001b[0mdab\u001b[0m\u001b[0;34m[\u001b[0m\u001b[0;34m'geo'\u001b[0m\u001b[0;34m]\u001b[0m\u001b[0;34m[\u001b[0m\u001b[0;34m'lat'\u001b[0m\u001b[0;34m]\u001b[0m \u001b[0;34m==\u001b[0m \u001b[0;36m2.0\u001b[0m \u001b[0;32mand\u001b[0m \u001b[0mdab\u001b[0m\u001b[0;34m[\u001b[0m\u001b[0;34m'geo'\u001b[0m\u001b[0;34m]\u001b[0m\u001b[0;34m[\u001b[0m\u001b[0;34m'lon'\u001b[0m\u001b[0;34m]\u001b[0m \u001b[0;34m==\u001b[0m \u001b[0;36m1.0\u001b[0m\u001b[0;34m)\u001b[0m\u001b[0;34m\u001b[0m\u001b[0m\n\u001b[0m",
      "\u001b[0;32m~/anaconda3/lib/python3.6/site-packages/xarray/core/common.py\u001b[0m in \u001b[0;36m__bool__\u001b[0;34m(self)\u001b[0m\n\u001b[1;32m     78\u001b[0m \u001b[0;34m\u001b[0m\u001b[0m\n\u001b[1;32m     79\u001b[0m     \u001b[0;32mdef\u001b[0m \u001b[0m__bool__\u001b[0m\u001b[0;34m(\u001b[0m\u001b[0mself\u001b[0m\u001b[0;34m)\u001b[0m\u001b[0;34m:\u001b[0m\u001b[0;34m\u001b[0m\u001b[0m\n\u001b[0;32m---> 80\u001b[0;31m         \u001b[0;32mreturn\u001b[0m \u001b[0mbool\u001b[0m\u001b[0;34m(\u001b[0m\u001b[0mself\u001b[0m\u001b[0;34m.\u001b[0m\u001b[0mvalues\u001b[0m\u001b[0;34m)\u001b[0m\u001b[0;34m\u001b[0m\u001b[0m\n\u001b[0m\u001b[1;32m     81\u001b[0m \u001b[0;34m\u001b[0m\u001b[0m\n\u001b[1;32m     82\u001b[0m     \u001b[0;31m# Python 3 uses __bool__, Python 2 uses __nonzero__\u001b[0m\u001b[0;34m\u001b[0m\u001b[0;34m\u001b[0m\u001b[0m\n",
      "\u001b[0;31mValueError\u001b[0m: The truth value of an array with more than one element is ambiguous. Use a.any() or a.all()"
     ]
    }
   ],
   "source": [
    "dab1.where(dab['geo']['lat'] == 2.0 and dab['geo']['lon'] == 1.0)"
   ]
  },
  {
   "cell_type": "code",
   "execution_count": 106,
   "metadata": {},
   "outputs": [
    {
     "ename": "ValueError",
     "evalue": "The truth value of an array with more than one element is ambiguous. Use a.any() or a.all()",
     "output_type": "error",
     "traceback": [
      "\u001b[0;31m---------------------------------------------------------------------------\u001b[0m",
      "\u001b[0;31mValueError\u001b[0m                                Traceback (most recent call last)",
      "\u001b[0;32m<ipython-input-106-1cf99734b8bb>\u001b[0m in \u001b[0;36m<module>\u001b[0;34m()\u001b[0m\n\u001b[0;32m----> 1\u001b[0;31m \u001b[0mdab1\u001b[0m\u001b[0;34m.\u001b[0m\u001b[0mwhere\u001b[0m\u001b[0;34m(\u001b[0m\u001b[0mdab\u001b[0m\u001b[0;34m[\u001b[0m\u001b[0;34m'geo'\u001b[0m\u001b[0;34m]\u001b[0m\u001b[0;34m[\u001b[0m\u001b[0;34m'lat'\u001b[0m\u001b[0;34m]\u001b[0m \u001b[0;34m==\u001b[0m \u001b[0;36m2.0\u001b[0m \u001b[0;34m+\u001b[0m \u001b[0mdab\u001b[0m\u001b[0;34m[\u001b[0m\u001b[0;34m'geo'\u001b[0m\u001b[0;34m]\u001b[0m\u001b[0;34m[\u001b[0m\u001b[0;34m'lon'\u001b[0m\u001b[0;34m]\u001b[0m \u001b[0;34m==\u001b[0m \u001b[0;36m1.0\u001b[0m\u001b[0;34m)\u001b[0m\u001b[0;34m\u001b[0m\u001b[0m\n\u001b[0m",
      "\u001b[0;32m~/anaconda3/lib/python3.6/site-packages/xarray/core/common.py\u001b[0m in \u001b[0;36m__bool__\u001b[0;34m(self)\u001b[0m\n\u001b[1;32m     78\u001b[0m \u001b[0;34m\u001b[0m\u001b[0m\n\u001b[1;32m     79\u001b[0m     \u001b[0;32mdef\u001b[0m \u001b[0m__bool__\u001b[0m\u001b[0;34m(\u001b[0m\u001b[0mself\u001b[0m\u001b[0;34m)\u001b[0m\u001b[0;34m:\u001b[0m\u001b[0;34m\u001b[0m\u001b[0m\n\u001b[0;32m---> 80\u001b[0;31m         \u001b[0;32mreturn\u001b[0m \u001b[0mbool\u001b[0m\u001b[0;34m(\u001b[0m\u001b[0mself\u001b[0m\u001b[0;34m.\u001b[0m\u001b[0mvalues\u001b[0m\u001b[0;34m)\u001b[0m\u001b[0;34m\u001b[0m\u001b[0m\n\u001b[0m\u001b[1;32m     81\u001b[0m \u001b[0;34m\u001b[0m\u001b[0m\n\u001b[1;32m     82\u001b[0m     \u001b[0;31m# Python 3 uses __bool__, Python 2 uses __nonzero__\u001b[0m\u001b[0;34m\u001b[0m\u001b[0;34m\u001b[0m\u001b[0m\n",
      "\u001b[0;31mValueError\u001b[0m: The truth value of an array with more than one element is ambiguous. Use a.any() or a.all()"
     ]
    }
   ],
   "source": [
    "dab1.where(dab['geo']['lat'] == 2.0 + dab['geo']['lon'] == 1.0)"
   ]
  },
  {
   "cell_type": "code",
   "execution_count": 107,
   "metadata": {},
   "outputs": [
    {
     "ename": "ValueError",
     "evalue": "The truth value of an array with more than one element is ambiguous. Use a.any() or a.all()",
     "output_type": "error",
     "traceback": [
      "\u001b[0;31m---------------------------------------------------------------------------\u001b[0m",
      "\u001b[0;31mValueError\u001b[0m                                Traceback (most recent call last)",
      "\u001b[0;32m<ipython-input-107-8b9aab61e413>\u001b[0m in \u001b[0;36m<module>\u001b[0;34m()\u001b[0m\n\u001b[0;32m----> 1\u001b[0;31m \u001b[0mdab1\u001b[0m\u001b[0;34m.\u001b[0m\u001b[0mwhere\u001b[0m\u001b[0;34m(\u001b[0m\u001b[0mdab\u001b[0m\u001b[0;34m[\u001b[0m\u001b[0;34m'geo'\u001b[0m\u001b[0;34m]\u001b[0m\u001b[0;34m[\u001b[0m\u001b[0;34m'lat'\u001b[0m\u001b[0;34m]\u001b[0m \u001b[0;34m==\u001b[0m \u001b[0;36m2.0\u001b[0m \u001b[0;32mor\u001b[0m \u001b[0mdab\u001b[0m\u001b[0;34m[\u001b[0m\u001b[0;34m'geo'\u001b[0m\u001b[0;34m]\u001b[0m\u001b[0;34m[\u001b[0m\u001b[0;34m'lon'\u001b[0m\u001b[0;34m]\u001b[0m \u001b[0;34m==\u001b[0m \u001b[0;36m1.0\u001b[0m\u001b[0;34m)\u001b[0m\u001b[0;34m\u001b[0m\u001b[0m\n\u001b[0m",
      "\u001b[0;32m~/anaconda3/lib/python3.6/site-packages/xarray/core/common.py\u001b[0m in \u001b[0;36m__bool__\u001b[0;34m(self)\u001b[0m\n\u001b[1;32m     78\u001b[0m \u001b[0;34m\u001b[0m\u001b[0m\n\u001b[1;32m     79\u001b[0m     \u001b[0;32mdef\u001b[0m \u001b[0m__bool__\u001b[0m\u001b[0;34m(\u001b[0m\u001b[0mself\u001b[0m\u001b[0;34m)\u001b[0m\u001b[0;34m:\u001b[0m\u001b[0;34m\u001b[0m\u001b[0m\n\u001b[0;32m---> 80\u001b[0;31m         \u001b[0;32mreturn\u001b[0m \u001b[0mbool\u001b[0m\u001b[0;34m(\u001b[0m\u001b[0mself\u001b[0m\u001b[0;34m.\u001b[0m\u001b[0mvalues\u001b[0m\u001b[0;34m)\u001b[0m\u001b[0;34m\u001b[0m\u001b[0m\n\u001b[0m\u001b[1;32m     81\u001b[0m \u001b[0;34m\u001b[0m\u001b[0m\n\u001b[1;32m     82\u001b[0m     \u001b[0;31m# Python 3 uses __bool__, Python 2 uses __nonzero__\u001b[0m\u001b[0;34m\u001b[0m\u001b[0;34m\u001b[0m\u001b[0m\n",
      "\u001b[0;31mValueError\u001b[0m: The truth value of an array with more than one element is ambiguous. Use a.any() or a.all()"
     ]
    }
   ],
   "source": [
    "dab1.where(dab['geo']['lat'] == 2.0 or dab['geo']['lon'] == 1.0)"
   ]
  },
  {
   "cell_type": "code",
   "execution_count": 108,
   "metadata": {},
   "outputs": [
    {
     "ename": "SyntaxError",
     "evalue": "invalid syntax (<ipython-input-108-f5c6657f5168>, line 1)",
     "output_type": "error",
     "traceback": [
      "\u001b[0;36m  File \u001b[0;32m\"<ipython-input-108-f5c6657f5168>\"\u001b[0;36m, line \u001b[0;32m1\u001b[0m\n\u001b[0;31m    dab1.where(dab['geo']['lat'] == 2.0 || dab['geo']['lon'] == 1.0)\u001b[0m\n\u001b[0m                                         ^\u001b[0m\n\u001b[0;31mSyntaxError\u001b[0m\u001b[0;31m:\u001b[0m invalid syntax\n"
     ]
    }
   ],
   "source": [
    "dab1.where(dab['geo']['lat'] == 2.0 || dab['geo']['lon'] == 1.0)"
   ]
  },
  {
   "cell_type": "code",
   "execution_count": 9,
   "metadata": {},
   "outputs": [
    {
     "data": {
      "text/plain": [
       "'1.15.1'"
      ]
     },
     "execution_count": 9,
     "metadata": {},
     "output_type": "execute_result"
    }
   ],
   "source": [
    "np.version.version"
   ]
  },
  {
   "cell_type": "code",
   "execution_count": 11,
   "metadata": {},
   "outputs": [
    {
     "ename": "AttributeError",
     "evalue": "module 'xarray' has no attribute 'version'",
     "output_type": "error",
     "traceback": [
      "\u001b[0;31m---------------------------------------------------------------------------\u001b[0m",
      "\u001b[0;31mAttributeError\u001b[0m                            Traceback (most recent call last)",
      "\u001b[0;32m<ipython-input-11-f5390e1b477d>\u001b[0m in \u001b[0;36m<module>\u001b[0;34m()\u001b[0m\n\u001b[0;32m----> 1\u001b[0;31m \u001b[0mxr\u001b[0m\u001b[0;34m.\u001b[0m\u001b[0mversion\u001b[0m\u001b[0;34m.\u001b[0m\u001b[0mversion\u001b[0m\u001b[0;34m\u001b[0m\u001b[0m\n\u001b[0m",
      "\u001b[0;31mAttributeError\u001b[0m: module 'xarray' has no attribute 'version'"
     ]
    }
   ],
   "source": [
    "xr.version.version"
   ]
  },
  {
   "cell_type": "code",
   "execution_count": null,
   "metadata": {},
   "outputs": [],
   "source": []
  }
 ],
 "metadata": {
  "kernelspec": {
   "display_name": "Python 3",
   "language": "python",
   "name": "python3"
  },
  "language_info": {
   "codemirror_mode": {
    "name": "ipython",
    "version": 3
   },
   "file_extension": ".py",
   "mimetype": "text/x-python",
   "name": "python",
   "nbconvert_exporter": "python",
   "pygments_lexer": "ipython3",
   "version": "3.7.0"
  }
 },
 "nbformat": 4,
 "nbformat_minor": 2
}
