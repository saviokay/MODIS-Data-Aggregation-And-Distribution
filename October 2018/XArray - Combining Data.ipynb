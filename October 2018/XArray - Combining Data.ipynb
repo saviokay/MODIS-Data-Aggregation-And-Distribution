{
 "cells": [
  {
   "cell_type": "markdown",
   "metadata": {},
   "source": [
    "# Combining data"
   ]
  },
  {
   "cell_type": "markdown",
   "metadata": {},
   "source": [
    "For combining datasets or data arrays along a dimension, see concatenate.\n",
    "For combining datasets with different variables, see merge.\n",
    "For combining datasets or data arrays with different indexes or missing values, see combine."
   ]
  },
  {
   "cell_type": "markdown",
   "metadata": {},
   "source": [
    "Concatenate\n",
    "\n",
    "To combine arrays along existing or new dimension into a larger array, you can use concat(). concat takes an iterable of DataArray or Dataset objects, as well as a dimension name, and concatenates along that dimension:"
   ]
  },
  {
   "cell_type": "code",
   "execution_count": 2,
   "metadata": {},
   "outputs": [],
   "source": [
    "import xarray as xr\n",
    "import pandas as pd\n",
    "import numpy as np"
   ]
  },
  {
   "cell_type": "code",
   "execution_count": 3,
   "metadata": {},
   "outputs": [],
   "source": [
    "arr = xr.DataArray(np.random.randn(2, 3),\n",
    "[('x', ['a', 'b']), ('y', [10, 20, 30])])"
   ]
  },
  {
   "cell_type": "code",
   "execution_count": 4,
   "metadata": {},
   "outputs": [
    {
     "data": {
      "text/plain": [
       "<xarray.DataArray (x: 2, y: 1)>\n",
       "array([[ 0.036683],\n",
       "       [-0.715525]])\n",
       "Coordinates:\n",
       "  * x        (x) <U1 'a' 'b'\n",
       "  * y        (y) int64 10"
      ]
     },
     "execution_count": 4,
     "metadata": {},
     "output_type": "execute_result"
    }
   ],
   "source": [
    "arr[:, :1]"
   ]
  },
  {
   "cell_type": "code",
   "execution_count": 5,
   "metadata": {},
   "outputs": [
    {
     "data": {
      "text/plain": [
       "<xarray.DataArray (x: 2, y: 3)>\n",
       "array([[ 0.036683,  1.67034 , -0.230991],\n",
       "       [-0.715525,  0.172852,  0.384833]])\n",
       "Coordinates:\n",
       "  * x        (x) <U1 'a' 'b'\n",
       "  * y        (y) int64 10 20 30"
      ]
     },
     "execution_count": 5,
     "metadata": {},
     "output_type": "execute_result"
    }
   ],
   "source": [
    "xr.concat([arr[:, :1], arr[:, 1:]], dim='y')"
   ]
  },
  {
   "cell_type": "markdown",
   "metadata": {},
   "source": [
    "In addition to combining along an existing dimension, concat can create a new dimension by stacking lower dimensional arrays together:"
   ]
  },
  {
   "cell_type": "code",
   "execution_count": 6,
   "metadata": {},
   "outputs": [
    {
     "data": {
      "text/plain": [
       "<xarray.DataArray (y: 3)>\n",
       "array([ 0.036683,  1.67034 , -0.230991])\n",
       "Coordinates:\n",
       "    x        <U1 'a'\n",
       "  * y        (y) int64 10 20 30"
      ]
     },
     "execution_count": 6,
     "metadata": {},
     "output_type": "execute_result"
    }
   ],
   "source": [
    "arr[0]"
   ]
  },
  {
   "cell_type": "code",
   "execution_count": 7,
   "metadata": {},
   "outputs": [
    {
     "data": {
      "text/plain": [
       "<xarray.DataArray (x: 2, y: 3)>\n",
       "array([[ 0.036683,  1.67034 , -0.230991],\n",
       "       [-0.715525,  0.172852,  0.384833]])\n",
       "Coordinates:\n",
       "  * y        (y) int64 10 20 30\n",
       "  * x        (x) <U1 'a' 'b'"
      ]
     },
     "execution_count": 7,
     "metadata": {},
     "output_type": "execute_result"
    }
   ],
   "source": [
    "# to combine these 1d arrays into a 2d array in numpy, you would use np.array\n",
    "xr.concat([arr[0], arr[1]], 'x')"
   ]
  },
  {
   "cell_type": "markdown",
   "metadata": {},
   "source": [
    "If the second argument to concat is a new dimension name, the arrays will be concatenated along that new dimension, which is always inserted as the first dimension:"
   ]
  },
  {
   "cell_type": "code",
   "execution_count": 8,
   "metadata": {},
   "outputs": [
    {
     "data": {
      "text/plain": [
       "<xarray.DataArray (new_dim: 2, y: 3)>\n",
       "array([[ 0.036683,  1.67034 , -0.230991],\n",
       "       [-0.715525,  0.172852,  0.384833]])\n",
       "Coordinates:\n",
       "  * y        (y) int64 10 20 30\n",
       "    x        (new_dim) <U1 'a' 'b'\n",
       "Dimensions without coordinates: new_dim"
      ]
     },
     "execution_count": 8,
     "metadata": {},
     "output_type": "execute_result"
    }
   ],
   "source": [
    " xr.concat([arr[0], arr[1]], 'new_dim')"
   ]
  },
  {
   "cell_type": "markdown",
   "metadata": {},
   "source": [
    "The second argument to concat can also be an Index or DataArray object as well as a string, in which case it is used to label the values along the new dimension:"
   ]
  },
  {
   "cell_type": "code",
   "execution_count": 9,
   "metadata": {},
   "outputs": [
    {
     "data": {
      "text/plain": [
       "<xarray.DataArray (new_dim: 2, y: 3)>\n",
       "array([[ 0.036683,  1.67034 , -0.230991],\n",
       "       [-0.715525,  0.172852,  0.384833]])\n",
       "Coordinates:\n",
       "  * y        (y) int64 10 20 30\n",
       "    x        (new_dim) <U1 'a' 'b'\n",
       "  * new_dim  (new_dim) int64 -90 -100"
      ]
     },
     "execution_count": 9,
     "metadata": {},
     "output_type": "execute_result"
    }
   ],
   "source": [
    "xr.concat([arr[0], arr[1]], pd.Index([-90, -100], name='new_dim'))"
   ]
  },
  {
   "cell_type": "markdown",
   "metadata": {},
   "source": [
    "Of course, concat also works on Dataset objects:"
   ]
  },
  {
   "cell_type": "code",
   "execution_count": 13,
   "metadata": {},
   "outputs": [
    {
     "data": {
      "text/plain": [
       "<xarray.Dataset>\n",
       "Dimensions:  (x: 2, y: 3)\n",
       "Coordinates:\n",
       "  * x        (x) <U1 'a' 'b'\n",
       "  * y        (y) int64 10 20 30\n",
       "Data variables:\n",
       "    foo      (x, y) float64 0.03668 1.67 -0.231 -0.7155 0.1729 0.3848"
      ]
     },
     "execution_count": 13,
     "metadata": {},
     "output_type": "execute_result"
    }
   ],
   "source": [
    "ds = arr.to_dataset(name='foo')\n",
    "ds"
   ]
  },
  {
   "cell_type": "code",
   "execution_count": 11,
   "metadata": {},
   "outputs": [
    {
     "data": {
      "text/plain": [
       "<xarray.Dataset>\n",
       "Dimensions:  (x: 2, y: 3)\n",
       "Coordinates:\n",
       "  * y        (y) int64 10 20 30\n",
       "  * x        (x) <U1 'a' 'b'\n",
       "Data variables:\n",
       "    foo      (x, y) float64 0.03668 1.67 -0.231 -0.7155 0.1729 0.3848"
      ]
     },
     "execution_count": 11,
     "metadata": {},
     "output_type": "execute_result"
    }
   ],
   "source": [
    "xr.concat([ds.sel(x='a'), ds.sel(x='b')], 'x')"
   ]
  },
  {
   "cell_type": "markdown",
   "metadata": {},
   "source": [
    "# Merge\n",
    "\n"
   ]
  },
  {
   "cell_type": "markdown",
   "metadata": {},
   "source": [
    "To combine variables and coordinates between multiple DataArray and/or Dataset object, use merge(). It can merge a list of Dataset, DataArray or dictionaries of objects convertible to DataArray objects:"
   ]
  },
  {
   "cell_type": "code",
   "execution_count": 12,
   "metadata": {},
   "outputs": [
    {
     "data": {
      "text/plain": [
       "<xarray.Dataset>\n",
       "Dimensions:  (x: 2, y: 3)\n",
       "Coordinates:\n",
       "  * x        (x) <U1 'a' 'b'\n",
       "  * y        (y) int64 10 20 30\n",
       "Data variables:\n",
       "    foo      (x, y) float64 0.03668 1.67 -0.231 -0.7155 0.1729 0.3848\n",
       "    bar      (x, y) float64 0.03668 1.67 -0.231 -0.7155 0.1729 0.3848"
      ]
     },
     "execution_count": 12,
     "metadata": {},
     "output_type": "execute_result"
    }
   ],
   "source": [
    "xr.merge([ds, ds.rename({'foo': 'bar'})])"
   ]
  },
  {
   "cell_type": "code",
   "execution_count": 14,
   "metadata": {},
   "outputs": [
    {
     "data": {
      "text/plain": [
       "<xarray.Dataset>\n",
       "Dimensions:  ()\n",
       "Data variables:\n",
       "    var0     int64 0\n",
       "    var1     int64 1\n",
       "    var2     int64 2\n",
       "    var3     int64 3\n",
       "    var4     int64 4"
      ]
     },
     "execution_count": 14,
     "metadata": {},
     "output_type": "execute_result"
    }
   ],
   "source": [
    "xr.merge([xr.DataArray(n, name='var%d' % n) for n in range(5)])"
   ]
  },
  {
   "cell_type": "markdown",
   "metadata": {},
   "source": [
    "If you merge another dataset (or a dictionary including data array objects), by default the resulting dataset will be aligned on the union of all index coordinates:"
   ]
  },
  {
   "cell_type": "code",
   "execution_count": 15,
   "metadata": {},
   "outputs": [
    {
     "data": {
      "text/plain": [
       "<xarray.Dataset>\n",
       "Dimensions:  (x: 4)\n",
       "Coordinates:\n",
       "  * x        (x) <U1 'a' 'b' 'c' 'd'\n",
       "Data variables:\n",
       "    bar      (x) int64 1 2 3 4"
      ]
     },
     "execution_count": 15,
     "metadata": {},
     "output_type": "execute_result"
    }
   ],
   "source": [
    "other = xr.Dataset({'bar': ('x', [1, 2, 3, 4]), 'x': list('abcd')})\n",
    "other"
   ]
  },
  {
   "cell_type": "code",
   "execution_count": 16,
   "metadata": {},
   "outputs": [
    {
     "data": {
      "text/plain": [
       "<xarray.Dataset>\n",
       "Dimensions:  (x: 2, y: 3)\n",
       "Coordinates:\n",
       "  * x        (x) <U1 'a' 'b'\n",
       "  * y        (y) int64 10 20 30\n",
       "Data variables:\n",
       "    foo      (x, y) float64 0.03668 1.67 -0.231 -0.7155 0.1729 0.3848"
      ]
     },
     "execution_count": 16,
     "metadata": {},
     "output_type": "execute_result"
    }
   ],
   "source": [
    "ds"
   ]
  },
  {
   "cell_type": "code",
   "execution_count": 17,
   "metadata": {},
   "outputs": [
    {
     "data": {
      "text/plain": [
       "<xarray.Dataset>\n",
       "Dimensions:  (x: 4, y: 3)\n",
       "Coordinates:\n",
       "  * x        (x) object 'a' 'b' 'c' 'd'\n",
       "  * y        (y) int64 10 20 30\n",
       "Data variables:\n",
       "    foo      (x, y) float64 0.03668 1.67 -0.231 -0.7155 ... nan nan nan nan\n",
       "    bar      (x) int64 1 2 3 4"
      ]
     },
     "execution_count": 17,
     "metadata": {},
     "output_type": "execute_result"
    }
   ],
   "source": [
    "xr.merge([ds, other])"
   ]
  },
  {
   "cell_type": "code",
   "execution_count": null,
   "metadata": {},
   "outputs": [],
   "source": []
  }
 ],
 "metadata": {
  "kernelspec": {
   "display_name": "Python 3",
   "language": "python",
   "name": "python3"
  },
  "language_info": {
   "codemirror_mode": {
    "name": "ipython",
    "version": 3
   },
   "file_extension": ".py",
   "mimetype": "text/x-python",
   "name": "python",
   "nbconvert_exporter": "python",
   "pygments_lexer": "ipython3",
   "version": "3.6.5"
  }
 },
 "nbformat": 4,
 "nbformat_minor": 2
}
