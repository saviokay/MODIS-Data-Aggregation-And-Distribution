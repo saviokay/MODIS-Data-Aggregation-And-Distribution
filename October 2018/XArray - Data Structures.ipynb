{
 "cells": [
  {
   "cell_type": "code",
   "execution_count": 76,
   "metadata": {},
   "outputs": [],
   "source": [
    "import xarray as xr"
   ]
  },
  {
   "cell_type": "code",
   "execution_count": 77,
   "metadata": {},
   "outputs": [],
   "source": [
    "import numpy as np\n",
    "import pandas as pd"
   ]
  },
  {
   "cell_type": "code",
   "execution_count": 78,
   "metadata": {},
   "outputs": [],
   "source": [
    "data = np.random.rand(4, 3)"
   ]
  },
  {
   "cell_type": "code",
   "execution_count": 79,
   "metadata": {},
   "outputs": [
    {
     "data": {
      "text/plain": [
       "array([[0.11990968, 0.25577627, 0.32182621],\n",
       "       [0.46037031, 0.1919962 , 0.77834427],\n",
       "       [0.52742431, 0.60210087, 0.08578772],\n",
       "       [0.54834843, 0.54209153, 0.03098254]])"
      ]
     },
     "execution_count": 79,
     "metadata": {},
     "output_type": "execute_result"
    }
   ],
   "source": [
    "data"
   ]
  },
  {
   "cell_type": "code",
   "execution_count": 80,
   "metadata": {},
   "outputs": [
    {
     "data": {
      "text/plain": [
       "['IA', 'IL', 'IN']"
      ]
     },
     "execution_count": 80,
     "metadata": {},
     "output_type": "execute_result"
    }
   ],
   "source": [
    "locs = ['IA', 'IL', 'IN']\n",
    "locs"
   ]
  },
  {
   "cell_type": "code",
   "execution_count": 81,
   "metadata": {},
   "outputs": [
    {
     "data": {
      "text/plain": [
       "DatetimeIndex(['2000-01-01', '2000-01-02', '2000-01-03', '2000-01-04'], dtype='datetime64[ns]', freq='D')"
      ]
     },
     "execution_count": 81,
     "metadata": {},
     "output_type": "execute_result"
    }
   ],
   "source": [
    "times = pd.date_range('2000-01-01', periods=4)\n",
    "times"
   ]
  },
  {
   "cell_type": "code",
   "execution_count": 82,
   "metadata": {},
   "outputs": [
    {
     "data": {
      "text/plain": [
       "<xarray.DataArray (time: 4, space: 3)>\n",
       "array([[0.11991 , 0.255776, 0.321826],\n",
       "       [0.46037 , 0.191996, 0.778344],\n",
       "       [0.527424, 0.602101, 0.085788],\n",
       "       [0.548348, 0.542092, 0.030983]])\n",
       "Coordinates:\n",
       "  * time     (time) datetime64[ns] 2000-01-01 2000-01-02 2000-01-03 2000-01-04\n",
       "  * space    (space) <U2 'IA' 'IL' 'IN'"
      ]
     },
     "execution_count": 82,
     "metadata": {},
     "output_type": "execute_result"
    }
   ],
   "source": [
    "foo = xr.DataArray(data, coords=[times, locs], dims=['time', 'space'])\n",
    "foo"
   ]
  },
  {
   "cell_type": "code",
   "execution_count": 108,
   "metadata": {},
   "outputs": [
    {
     "data": {
      "text/plain": [
       "('time', 'space')"
      ]
     },
     "execution_count": 108,
     "metadata": {},
     "output_type": "execute_result"
    }
   ],
   "source": [
    "foo.dims"
   ]
  },
  {
   "cell_type": "code",
   "execution_count": 109,
   "metadata": {},
   "outputs": [
    {
     "data": {
      "text/plain": [
       "Coordinates:\n",
       "  * time      (time) datetime64[ns] 2000-01-01 2000-01-02 2000-01-03 2000-01-04\n",
       "  * space     (space) <U2 'IA' 'IL' 'IN'\n",
       "    ranking2  (space) int64 1 2 3\n",
       "    ranking3  (time) int64 1 2 3 4"
      ]
     },
     "execution_count": 109,
     "metadata": {},
     "output_type": "execute_result"
    }
   ],
   "source": [
    "foo.coords"
   ]
  },
  {
   "cell_type": "code",
   "execution_count": 113,
   "metadata": {},
   "outputs": [],
   "source": [
    "foo?"
   ]
  },
  {
   "cell_type": "code",
   "execution_count": 83,
   "metadata": {},
   "outputs": [
    {
     "data": {
      "text/plain": [
       "<xarray.DataArray (dim_0: 4, dim_1: 3)>\n",
       "array([[0.11991 , 0.255776, 0.321826],\n",
       "       [0.46037 , 0.191996, 0.778344],\n",
       "       [0.527424, 0.602101, 0.085788],\n",
       "       [0.548348, 0.542092, 0.030983]])\n",
       "Dimensions without coordinates: dim_0, dim_1"
      ]
     },
     "execution_count": 83,
     "metadata": {},
     "output_type": "execute_result"
    }
   ],
   "source": [
    "foo1 = xr.DataArray(data)\n",
    "foo1"
   ]
  },
  {
   "cell_type": "code",
   "execution_count": null,
   "metadata": {},
   "outputs": [],
   "source": []
  },
  {
   "cell_type": "code",
   "execution_count": 84,
   "metadata": {},
   "outputs": [
    {
     "data": {
      "text/plain": [
       "array([[0.11990968, 0.25577627, 0.32182621],\n",
       "       [0.46037031, 0.1919962 , 0.77834427],\n",
       "       [0.52742431, 0.60210087, 0.08578772],\n",
       "       [0.54834843, 0.54209153, 0.03098254]])"
      ]
     },
     "execution_count": 84,
     "metadata": {},
     "output_type": "execute_result"
    }
   ],
   "source": [
    "foo1.values"
   ]
  },
  {
   "cell_type": "code",
   "execution_count": 85,
   "metadata": {},
   "outputs": [
    {
     "data": {
      "text/plain": [
       "('dim_0', 'dim_1')"
      ]
     },
     "execution_count": 85,
     "metadata": {},
     "output_type": "execute_result"
    }
   ],
   "source": [
    "foo1.dims"
   ]
  },
  {
   "cell_type": "code",
   "execution_count": 86,
   "metadata": {},
   "outputs": [
    {
     "data": {
      "text/plain": [
       "Coordinates:\n",
       "    *empty*"
      ]
     },
     "execution_count": 86,
     "metadata": {},
     "output_type": "execute_result"
    }
   ],
   "source": [
    "foo1.coords"
   ]
  },
  {
   "cell_type": "code",
   "execution_count": 87,
   "metadata": {},
   "outputs": [
    {
     "data": {
      "text/plain": [
       "OrderedDict()"
      ]
     },
     "execution_count": 87,
     "metadata": {},
     "output_type": "execute_result"
    }
   ],
   "source": [
    "foo.attrs"
   ]
  },
  {
   "cell_type": "code",
   "execution_count": 88,
   "metadata": {},
   "outputs": [
    {
     "name": "stdout",
     "output_type": "stream",
     "text": [
      "None\n"
     ]
    }
   ],
   "source": [
    "print(foo1.name)"
   ]
  },
  {
   "cell_type": "code",
   "execution_count": 89,
   "metadata": {},
   "outputs": [],
   "source": [
    "foo1.values = 10 * foo.values"
   ]
  },
  {
   "cell_type": "code",
   "execution_count": 90,
   "metadata": {},
   "outputs": [
    {
     "data": {
      "text/plain": [
       "array([[1.19909681, 2.55776274, 3.21826213],\n",
       "       [4.60370313, 1.91996204, 7.78344269],\n",
       "       [5.27424308, 6.02100871, 0.8578772 ],\n",
       "       [5.48348434, 5.42091529, 0.30982542]])"
      ]
     },
     "execution_count": 90,
     "metadata": {},
     "output_type": "execute_result"
    }
   ],
   "source": [
    "foo1.values"
   ]
  },
  {
   "cell_type": "code",
   "execution_count": 91,
   "metadata": {},
   "outputs": [],
   "source": [
    "##Now fill in some of that missing metadata:"
   ]
  },
  {
   "cell_type": "code",
   "execution_count": 92,
   "metadata": {},
   "outputs": [
    {
     "name": "stdout",
     "output_type": "stream",
     "text": [
      "foo1\n"
     ]
    }
   ],
   "source": [
    "foo1.name = 'foo1'\n",
    "print(foo1.name)"
   ]
  },
  {
   "cell_type": "code",
   "execution_count": 93,
   "metadata": {},
   "outputs": [],
   "source": [
    "foo1.attrs['units'] = 'meters'"
   ]
  },
  {
   "cell_type": "code",
   "execution_count": 94,
   "metadata": {},
   "outputs": [
    {
     "data": {
      "text/plain": [
       "<xarray.DataArray 'foo1' (dim_0: 4, dim_1: 3)>\n",
       "array([[1.199097, 2.557763, 3.218262],\n",
       "       [4.603703, 1.919962, 7.783443],\n",
       "       [5.274243, 6.021009, 0.857877],\n",
       "       [5.483484, 5.420915, 0.309825]])\n",
       "Dimensions without coordinates: dim_0, dim_1\n",
       "Attributes:\n",
       "    units:    meters"
      ]
     },
     "execution_count": 94,
     "metadata": {},
     "output_type": "execute_result"
    }
   ],
   "source": [
    "foo1"
   ]
  },
  {
   "cell_type": "code",
   "execution_count": 95,
   "metadata": {},
   "outputs": [
    {
     "data": {
      "text/plain": [
       "<xarray.DataArray 'bar' (dim_0: 4, dim_1: 3)>\n",
       "array([[1.199097, 2.557763, 3.218262],\n",
       "       [4.603703, 1.919962, 7.783443],\n",
       "       [5.274243, 6.021009, 0.857877],\n",
       "       [5.483484, 5.420915, 0.309825]])\n",
       "Dimensions without coordinates: dim_0, dim_1\n",
       "Attributes:\n",
       "    units:    meters"
      ]
     },
     "execution_count": 95,
     "metadata": {},
     "output_type": "execute_result"
    }
   ],
   "source": [
    "foo1.rename('bar')"
   ]
  },
  {
   "cell_type": "markdown",
   "metadata": {},
   "source": [
    "DataArray Coordinates\n",
    "\n",
    "The coords property is dict like.\n",
    "Individual coordinates can be accessed from the coordinates by name, or even by indexing the data array itself:"
   ]
  },
  {
   "cell_type": "code",
   "execution_count": 96,
   "metadata": {},
   "outputs": [
    {
     "data": {
      "text/plain": [
       "<xarray.DataArray 'time' (time: 4)>\n",
       "array(['2000-01-01T00:00:00.000000000', '2000-01-02T00:00:00.000000000',\n",
       "       '2000-01-03T00:00:00.000000000', '2000-01-04T00:00:00.000000000'],\n",
       "      dtype='datetime64[ns]')\n",
       "Coordinates:\n",
       "  * time     (time) datetime64[ns] 2000-01-01 2000-01-02 2000-01-03 2000-01-04"
      ]
     },
     "execution_count": 96,
     "metadata": {},
     "output_type": "execute_result"
    }
   ],
   "source": [
    "foo.coords['time']"
   ]
  },
  {
   "cell_type": "code",
   "execution_count": 97,
   "metadata": {},
   "outputs": [
    {
     "data": {
      "text/plain": [
       "<xarray.DataArray 'time' (time: 4)>\n",
       "array(['2000-01-01T00:00:00.000000000', '2000-01-02T00:00:00.000000000',\n",
       "       '2000-01-03T00:00:00.000000000', '2000-01-04T00:00:00.000000000'],\n",
       "      dtype='datetime64[ns]')\n",
       "Coordinates:\n",
       "  * time     (time) datetime64[ns] 2000-01-01 2000-01-02 2000-01-03 2000-01-04"
      ]
     },
     "execution_count": 97,
     "metadata": {},
     "output_type": "execute_result"
    }
   ],
   "source": [
    "foo['time']"
   ]
  },
  {
   "cell_type": "markdown",
   "metadata": {},
   "source": [
    "These are also DataArray objects, which contain tick-labels for each dimension.\n",
    "\n",
    "Coordinates can also be set or removed by using the dictionary like syntax:"
   ]
  },
  {
   "cell_type": "code",
   "execution_count": 106,
   "metadata": {},
   "outputs": [],
   "source": [
    "foo['ranking3'] = ('time', [1, 2, 3,4])"
   ]
  },
  {
   "cell_type": "code",
   "execution_count": 117,
   "metadata": {},
   "outputs": [
    {
     "data": {
      "text/plain": [
       "('time', 'space')"
      ]
     },
     "execution_count": 117,
     "metadata": {},
     "output_type": "execute_result"
    }
   ],
   "source": [
    "foo.dims"
   ]
  },
  {
   "cell_type": "code",
   "execution_count": 107,
   "metadata": {},
   "outputs": [
    {
     "data": {
      "text/plain": [
       "Coordinates:\n",
       "  * time      (time) datetime64[ns] 2000-01-01 2000-01-02 2000-01-03 2000-01-04\n",
       "  * space     (space) <U2 'IA' 'IL' 'IN'\n",
       "    ranking2  (space) int64 1 2 3\n",
       "    ranking3  (time) int64 1 2 3 4"
      ]
     },
     "execution_count": 107,
     "metadata": {},
     "output_type": "execute_result"
    }
   ],
   "source": [
    "foo.coords"
   ]
  },
  {
   "cell_type": "code",
   "execution_count": 123,
   "metadata": {},
   "outputs": [],
   "source": [
    "del foo['space']"
   ]
  },
  {
   "cell_type": "code",
   "execution_count": 124,
   "metadata": {},
   "outputs": [
    {
     "data": {
      "text/plain": [
       "Coordinates:\n",
       "  * time     (time) datetime64[ns] 2000-01-01 2000-01-02 2000-01-03 2000-01-04"
      ]
     },
     "execution_count": 124,
     "metadata": {},
     "output_type": "execute_result"
    }
   ],
   "source": [
    "foo.coords"
   ]
  },
  {
   "cell_type": "code",
   "execution_count": 125,
   "metadata": {},
   "outputs": [
    {
     "data": {
      "text/plain": [
       "('time', 'space')"
      ]
     },
     "execution_count": 125,
     "metadata": {},
     "output_type": "execute_result"
    }
   ],
   "source": [
    "foo.dims"
   ]
  },
  {
   "cell_type": "markdown",
   "metadata": {},
   "source": [
    "Dataset\n",
    "\n",
    "xarray.Dataset is xarray’s multi-dimensional equivalent of a DataFrame."
   ]
  },
  {
   "cell_type": "code",
   "execution_count": 126,
   "metadata": {},
   "outputs": [
    {
     "data": {
      "text/plain": [
       "<xarray.DataArray (time: 4, space: 3)>\n",
       "array([[0.11991 , 0.255776, 0.321826],\n",
       "       [0.46037 , 0.191996, 0.778344],\n",
       "       [0.527424, 0.602101, 0.085788],\n",
       "       [0.548348, 0.542092, 0.030983]])\n",
       "Coordinates:\n",
       "  * time     (time) datetime64[ns] 2000-01-01 2000-01-02 2000-01-03 2000-01-04\n",
       "Dimensions without coordinates: space"
      ]
     },
     "execution_count": 126,
     "metadata": {},
     "output_type": "execute_result"
    }
   ],
   "source": [
    "foo"
   ]
  },
  {
   "cell_type": "code",
   "execution_count": 127,
   "metadata": {},
   "outputs": [
    {
     "data": {
      "text/plain": [
       "array([[[19.59590546, 12.51220676, 21.19979916],\n",
       "        [21.1654601 , 20.8970516 , -0.82777549]],\n",
       "\n",
       "       [[13.65197635, 13.35129969,  3.86078281],\n",
       "        [27.64133861, 24.77035439, 20.37248759]]])"
      ]
     },
     "execution_count": 127,
     "metadata": {},
     "output_type": "execute_result"
    }
   ],
   "source": [
    "temp = 15 + 8 * np.random.randn(2, 2, 3)\n",
    "temp"
   ]
  },
  {
   "cell_type": "code",
   "execution_count": 128,
   "metadata": {},
   "outputs": [
    {
     "data": {
      "text/plain": [
       "array([[[5.73628685, 2.67718171, 5.79587617],\n",
       "        [8.17883641, 1.15584762, 3.89401725]],\n",
       "\n",
       "       [[3.17373665, 4.87344408, 6.75295838],\n",
       "        [0.04465761, 8.58137194, 7.2825498 ]]])"
      ]
     },
     "execution_count": 128,
     "metadata": {},
     "output_type": "execute_result"
    }
   ],
   "source": [
    "precip = 10 * np.random.rand(2, 2, 3)\n",
    "precip"
   ]
  },
  {
   "cell_type": "code",
   "execution_count": 129,
   "metadata": {},
   "outputs": [
    {
     "data": {
      "text/plain": [
       "[[-99.83, -99.32], [-99.79, -99.23]]"
      ]
     },
     "execution_count": 129,
     "metadata": {},
     "output_type": "execute_result"
    }
   ],
   "source": [
    "lon = [[-99.83, -99.32], [-99.79, -99.23]]\n",
    "lon"
   ]
  },
  {
   "cell_type": "code",
   "execution_count": 130,
   "metadata": {},
   "outputs": [
    {
     "data": {
      "text/plain": [
       "[[42.25, 42.21], [42.63, 42.59]]"
      ]
     },
     "execution_count": 130,
     "metadata": {},
     "output_type": "execute_result"
    }
   ],
   "source": [
    "lat = [[42.25, 42.21], [42.63, 42.59]]\n",
    "lat"
   ]
  },
  {
   "cell_type": "code",
   "execution_count": 131,
   "metadata": {},
   "outputs": [],
   "source": [
    " ds = xr.Dataset({'temperature': (['x', 'y', 'time'],  temp),\n",
    "                  'precipitation': (['x', 'y', 'time'], precip)},\n",
    "                  coords={'lon': (['x', 'y'], lon),\n",
    "                        'lat': (['x', 'y'], lat),\n",
    "                        'time': pd.date_range('2014-09-06', periods=3),\n",
    "                        'reference_time': pd.Timestamp('2014-09-05')})"
   ]
  },
  {
   "cell_type": "code",
   "execution_count": 142,
   "metadata": {},
   "outputs": [
    {
     "ename": "TypeError",
     "evalue": "'DataVariables' object does not support item assignment",
     "output_type": "error",
     "traceback": [
      "\u001b[0;31m---------------------------------------------------------------------------\u001b[0m",
      "\u001b[0;31mTypeError\u001b[0m                                 Traceback (most recent call last)",
      "\u001b[0;32m<ipython-input-142-8a7787ba9cb2>\u001b[0m in \u001b[0;36m<module>\u001b[0;34m()\u001b[0m\n\u001b[0;32m----> 1\u001b[0;31m \u001b[0mds\u001b[0m\u001b[0;34m.\u001b[0m\u001b[0mdata_vars\u001b[0m\u001b[0;34m[\u001b[0m\u001b[0;34m'bar'\u001b[0m\u001b[0;34m]\u001b[0m \u001b[0;34m=\u001b[0m \u001b[0mfoo\u001b[0m\u001b[0;34m\u001b[0m\u001b[0m\n\u001b[0m",
      "\u001b[0;31mTypeError\u001b[0m: 'DataVariables' object does not support item assignment"
     ]
    }
   ],
   "source": [
    "ds.data_vars['bar'] = foo"
   ]
  },
  {
   "cell_type": "code",
   "execution_count": null,
   "metadata": {},
   "outputs": [],
   "source": []
  },
  {
   "cell_type": "code",
   "execution_count": null,
   "metadata": {},
   "outputs": [],
   "source": [
    "figur out to add data variaboe to a dataset"
   ]
  },
  {
   "cell_type": "code",
   "execution_count": 133,
   "metadata": {},
   "outputs": [
    {
     "data": {
      "text/plain": [
       "<xarray.Dataset>\n",
       "Dimensions:  (space: 3, time: 4)\n",
       "Coordinates:\n",
       "  * time     (time) datetime64[ns] 2000-01-01 2000-01-02 2000-01-03 2000-01-04\n",
       "Dimensions without coordinates: space\n",
       "Data variables:\n",
       "    bar      (time, space) float64 0.1199 0.2558 0.3218 ... 0.5421 0.03098"
      ]
     },
     "execution_count": 133,
     "metadata": {},
     "output_type": "execute_result"
    }
   ],
   "source": [
    "xr.Dataset({'bar': foo})"
   ]
  },
  {
   "cell_type": "raw",
   "metadata": {},
   "source": [
    "xr."
   ]
  },
  {
   "cell_type": "markdown",
   "metadata": {},
   "source": [
    "Dataset Contents"
   ]
  },
  {
   "cell_type": "code",
   "execution_count": 141,
   "metadata": {},
   "outputs": [
    {
     "data": {
      "text/plain": [
       "True"
      ]
     },
     "execution_count": 141,
     "metadata": {},
     "output_type": "execute_result"
    }
   ],
   "source": [
    "'temperature' in ds"
   ]
  },
  {
   "cell_type": "code",
   "execution_count": 139,
   "metadata": {},
   "outputs": [
    {
     "data": {
      "text/plain": [
       "<xarray.DataArray 'temperature' (x: 2, y: 2, time: 3)>\n",
       "array([[[19.595905, 12.512207, 21.199799],\n",
       "        [21.16546 , 20.897052, -0.827775]],\n",
       "\n",
       "       [[13.651976, 13.3513  ,  3.860783],\n",
       "        [27.641339, 24.770354, 20.372488]]])\n",
       "Coordinates:\n",
       "    lon             (x, y) float64 -99.83 -99.32 -99.79 -99.23\n",
       "    lat             (x, y) float64 42.25 42.21 42.63 42.59\n",
       "  * time            (time) datetime64[ns] 2014-09-06 2014-09-07 2014-09-08\n",
       "    reference_time  datetime64[ns] 2014-09-05\n",
       "Dimensions without coordinates: x, y"
      ]
     },
     "execution_count": 139,
     "metadata": {},
     "output_type": "execute_result"
    }
   ],
   "source": [
    "ds['temperature']"
   ]
  },
  {
   "cell_type": "code",
   "execution_count": 60,
   "metadata": {},
   "outputs": [
    {
     "data": {
      "text/plain": [
       "Data variables:\n",
       "    temperature    (x, y, time) float64 25.98 8.534 14.42 ... 25.52 22.07 16.43\n",
       "    precipitation  (x, y, time) float64 0.2005 1.032 7.911 ... 1.797 4.051 6.401"
      ]
     },
     "execution_count": 60,
     "metadata": {},
     "output_type": "execute_result"
    }
   ],
   "source": [
    "ds.data_vars"
   ]
  },
  {
   "cell_type": "code",
   "execution_count": 61,
   "metadata": {},
   "outputs": [
    {
     "data": {
      "text/plain": [
       "Coordinates:\n",
       "    lon             (x, y) float64 -99.83 -99.32 -99.79 -99.23\n",
       "    lat             (x, y) float64 42.25 42.21 42.63 42.59\n",
       "  * time            (time) datetime64[ns] 2014-09-06 2014-09-07 2014-09-08\n",
       "    reference_time  datetime64[ns] 2014-09-05"
      ]
     },
     "execution_count": 61,
     "metadata": {},
     "output_type": "execute_result"
    }
   ],
   "source": [
    "ds.coords"
   ]
  },
  {
   "cell_type": "markdown",
   "metadata": {},
   "source": [
    "Like data arrays, datasets also store arbitrary metadata in the form of attributes:"
   ]
  },
  {
   "cell_type": "code",
   "execution_count": 62,
   "metadata": {},
   "outputs": [
    {
     "data": {
      "text/plain": [
       "OrderedDict()"
      ]
     },
     "execution_count": 62,
     "metadata": {},
     "output_type": "execute_result"
    }
   ],
   "source": [
    "ds.attrs"
   ]
  },
  {
   "cell_type": "code",
   "execution_count": 63,
   "metadata": {},
   "outputs": [],
   "source": [
    "ds.attrs['title'] = 'Test attribute'"
   ]
  },
  {
   "cell_type": "code",
   "execution_count": 64,
   "metadata": {},
   "outputs": [
    {
     "data": {
      "text/plain": [
       "<xarray.Dataset>\n",
       "Dimensions:         (time: 3, x: 2, y: 2)\n",
       "Coordinates:\n",
       "    lon             (x, y) float64 -99.83 -99.32 -99.79 -99.23\n",
       "    lat             (x, y) float64 42.25 42.21 42.63 42.59\n",
       "  * time            (time) datetime64[ns] 2014-09-06 2014-09-07 2014-09-08\n",
       "    reference_time  datetime64[ns] 2014-09-05\n",
       "Dimensions without coordinates: x, y\n",
       "Data variables:\n",
       "    temperature     (x, y, time) float64 25.98 8.534 14.42 ... 25.52 22.07 16.43\n",
       "    precipitation   (x, y, time) float64 0.2005 1.032 7.911 ... 4.051 6.401\n",
       "Attributes:\n",
       "    title:    Test attribute"
      ]
     },
     "execution_count": 64,
     "metadata": {},
     "output_type": "execute_result"
    }
   ],
   "source": [
    "ds"
   ]
  },
  {
   "cell_type": "markdown",
   "metadata": {},
   "source": [
    "---------------------"
   ]
  },
  {
   "cell_type": "markdown",
   "metadata": {},
   "source": [
    "As a useful shortcut, you can use attribute style access for reading (but not setting) variables and attributes:"
   ]
  },
  {
   "cell_type": "code",
   "execution_count": 65,
   "metadata": {},
   "outputs": [
    {
     "data": {
      "text/plain": [
       "<xarray.DataArray 'temperature' (x: 2, y: 2, time: 3)>\n",
       "array([[[25.981561,  8.533999, 14.42064 ],\n",
       "        [11.575883,  3.638272,  8.862933]],\n",
       "\n",
       "       [[ 9.709541, 22.699351, 17.975598],\n",
       "        [25.515913, 22.066712, 16.43442 ]]])\n",
       "Coordinates:\n",
       "    lon             (x, y) float64 -99.83 -99.32 -99.79 -99.23\n",
       "    lat             (x, y) float64 42.25 42.21 42.63 42.59\n",
       "  * time            (time) datetime64[ns] 2014-09-06 2014-09-07 2014-09-08\n",
       "    reference_time  datetime64[ns] 2014-09-05\n",
       "Dimensions without coordinates: x, y"
      ]
     },
     "execution_count": 65,
     "metadata": {},
     "output_type": "execute_result"
    }
   ],
   "source": [
    "ds.temperature"
   ]
  },
  {
   "cell_type": "markdown",
   "metadata": {},
   "source": [
    "This is particularly useful in an exploratory context, because you can tab-complete these variable names with tools like IPython."
   ]
  },
  {
   "cell_type": "markdown",
   "metadata": {},
   "source": [
    "If a dimension name is given as an argument to drop, it also drops all variables that use that dimension:"
   ]
  },
  {
   "cell_type": "code",
   "execution_count": null,
   "metadata": {},
   "outputs": [],
   "source": []
  }
 ],
 "metadata": {
  "kernelspec": {
   "display_name": "Python 3",
   "language": "python",
   "name": "python3"
  },
  "language_info": {
   "codemirror_mode": {
    "name": "ipython",
    "version": 3
   },
   "file_extension": ".py",
   "mimetype": "text/x-python",
   "name": "python",
   "nbconvert_exporter": "python",
   "pygments_lexer": "ipython3",
   "version": "3.6.5"
  }
 },
 "nbformat": 4,
 "nbformat_minor": 2
}
