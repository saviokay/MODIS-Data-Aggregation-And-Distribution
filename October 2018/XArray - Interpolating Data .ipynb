{
 "cells": [
  {
   "cell_type": "markdown",
   "metadata": {},
   "source": [
    "# Interpolating Data"
   ]
  },
  {
   "cell_type": "markdown",
   "metadata": {},
   "source": [
    "xarray offers flexible interpolation routines, which have a similar interface to our indexing."
   ]
  },
  {
   "cell_type": "code",
   "execution_count": 2,
   "metadata": {},
   "outputs": [],
   "source": [
    "import xarray as xr\n",
    "import pandas as pd\n",
    "import numpy as np"
   ]
  },
  {
   "cell_type": "code",
   "execution_count": 3,
   "metadata": {},
   "outputs": [],
   "source": [
    "da = xr.DataArray(np.sin(0.3 * np.arange(12).reshape(4, 3)),\n",
    "                     [('time', np.arange(4)),\n",
    "                     ('space', [0.1, 0.2, 0.3])])"
   ]
  },
  {
   "cell_type": "code",
   "execution_count": 4,
   "metadata": {},
   "outputs": [
    {
     "data": {
      "text/plain": [
       "<xarray.DataArray (time: 4, space: 3)>\n",
       "array([[ 0.      ,  0.29552 ,  0.564642],\n",
       "       [ 0.783327,  0.932039,  0.997495],\n",
       "       [ 0.973848,  0.863209,  0.675463],\n",
       "       [ 0.42738 ,  0.14112 , -0.157746]])\n",
       "Coordinates:\n",
       "  * time     (time) int64 0 1 2 3\n",
       "  * space    (space) float64 0.1 0.2 0.3"
      ]
     },
     "execution_count": 4,
     "metadata": {},
     "output_type": "execute_result"
    }
   ],
   "source": [
    "da"
   ]
  },
  {
   "cell_type": "code",
   "execution_count": 6,
   "metadata": {},
   "outputs": [
    {
     "data": {
      "text/plain": [
       "<xarray.DataArray (space: 3)>\n",
       "array([ 0.42738 ,  0.14112 , -0.157746])\n",
       "Coordinates:\n",
       "    time     int64 3\n",
       "  * space    (space) float64 0.1 0.2 0.3"
      ]
     },
     "execution_count": 6,
     "metadata": {},
     "output_type": "execute_result"
    }
   ],
   "source": [
    "da.sel(time=3)"
   ]
  },
  {
   "cell_type": "code",
   "execution_count": 7,
   "metadata": {},
   "outputs": [
    {
     "data": {
      "text/plain": [
       "<xarray.DataArray (time: 1, space: 3)>\n",
       "array([[0.700614, 0.502165, 0.258859]])\n",
       "Coordinates:\n",
       "  * space    (space) float64 0.1 0.2 0.3\n",
       "  * time     (time) float64 2.5"
      ]
     },
     "execution_count": 7,
     "metadata": {},
     "output_type": "execute_result"
    }
   ],
   "source": [
    "da.interp(time=[2.5])"
   ]
  },
  {
   "cell_type": "code",
   "execution_count": 8,
   "metadata": {},
   "outputs": [
    {
     "data": {
      "text/plain": [
       "<xarray.DataArray (time: 4, space: 3)>\n",
       "array([[ 0.      ,  0.29552 ,  0.564642],\n",
       "       [ 0.783327,  0.932039,  0.997495],\n",
       "       [ 0.973848,  0.863209,  0.675463],\n",
       "       [ 0.42738 ,  0.14112 , -0.157746]])\n",
       "Coordinates:\n",
       "  * time     (time) int64 0 1 2 3\n",
       "  * space    (space) float64 0.1 0.2 0.3"
      ]
     },
     "execution_count": 8,
     "metadata": {},
     "output_type": "execute_result"
    }
   ],
   "source": [
    "da"
   ]
  },
  {
   "cell_type": "code",
   "execution_count": 10,
   "metadata": {},
   "outputs": [
    {
     "data": {
      "text/plain": [
       "<xarray.DataArray (time: 2, space: 3)>\n",
       "array([[0.700614, 0.502165, 0.258859],\n",
       "       [     nan,      nan,      nan]])\n",
       "Coordinates:\n",
       "  * space    (space) float64 0.1 0.2 0.3\n",
       "  * time     (time) float64 2.5 3.5"
      ]
     },
     "execution_count": 10,
     "metadata": {},
     "output_type": "execute_result"
    }
   ],
   "source": [
    "da.interp(time = [2.5,3.5])"
   ]
  },
  {
   "cell_type": "code",
   "execution_count": 11,
   "metadata": {},
   "outputs": [
    {
     "data": {
      "text/plain": [
       "<xarray.DataArray (time: 2, space: 3)>\n",
       "array([[ 0.973848,  0.863209,  0.675463],\n",
       "       [ 0.42738 ,  0.14112 , -0.157746]])\n",
       "Coordinates:\n",
       "  * space    (space) float64 0.1 0.2 0.3\n",
       "  * time     (time) int64 2 3"
      ]
     },
     "execution_count": 11,
     "metadata": {},
     "output_type": "execute_result"
    }
   ],
   "source": [
    "da.interp(time=[2,3])"
   ]
  },
  {
   "cell_type": "code",
   "execution_count": 12,
   "metadata": {},
   "outputs": [
    {
     "data": {
      "text/plain": [
       "<xarray.DataArray (time: 4, space: 3)>\n",
       "array([[ 0.      ,  0.29552 ,  0.564642],\n",
       "       [ 0.783327,  0.932039,  0.997495],\n",
       "       [ 0.973848,  0.863209,  0.675463],\n",
       "       [ 0.42738 ,  0.14112 , -0.157746]])\n",
       "Coordinates:\n",
       "  * time     (time) int64 0 1 2 3\n",
       "  * space    (space) float64 0.1 0.2 0.3"
      ]
     },
     "execution_count": 12,
     "metadata": {},
     "output_type": "execute_result"
    }
   ],
   "source": [
    "da"
   ]
  },
  {
   "cell_type": "code",
   "execution_count": 13,
   "metadata": {},
   "outputs": [
    {
     "data": {
      "text/plain": [
       "<xarray.DataArray (time: 4, space: 2)>\n",
       "array([[nan, nan],\n",
       "       [nan, nan],\n",
       "       [nan, nan],\n",
       "       [nan, nan]])\n",
       "Coordinates:\n",
       "  * time     (time) int64 0 1 2 3\n",
       "  * space    (space) int64 2 3"
      ]
     },
     "execution_count": 13,
     "metadata": {},
     "output_type": "execute_result"
    }
   ],
   "source": [
    "da.interp(space=[2,3])"
   ]
  },
  {
   "cell_type": "code",
   "execution_count": 14,
   "metadata": {},
   "outputs": [],
   "source": [
    "da_dt64 = xr.DataArray([1, 3],[('time', pd.date_range('1/1/2000', '1/3/2000', periods=2))])"
   ]
  },
  {
   "cell_type": "code",
   "execution_count": 15,
   "metadata": {},
   "outputs": [
    {
     "data": {
      "text/plain": [
       "<xarray.DataArray (time: 2)>\n",
       "array([1, 3])\n",
       "Coordinates:\n",
       "  * time     (time) datetime64[ns] 2000-01-01 2000-01-03"
      ]
     },
     "execution_count": 15,
     "metadata": {},
     "output_type": "execute_result"
    }
   ],
   "source": [
    "da_dt64"
   ]
  },
  {
   "cell_type": "code",
   "execution_count": 27,
   "metadata": {},
   "outputs": [
    {
     "data": {
      "text/plain": [
       "<xarray.DataArray ()>\n",
       "array(nan)\n",
       "Coordinates:\n",
       "    time     datetime64[ns] 2000-03-01"
      ]
     },
     "execution_count": 27,
     "metadata": {},
     "output_type": "execute_result"
    }
   ],
   "source": [
    "da_dt64.interp(time='2000-03-01')"
   ]
  },
  {
   "cell_type": "code",
   "execution_count": null,
   "metadata": {},
   "outputs": [],
   "source": []
  }
 ],
 "metadata": {
  "kernelspec": {
   "display_name": "Python 3",
   "language": "python",
   "name": "python3"
  },
  "language_info": {
   "codemirror_mode": {
    "name": "ipython",
    "version": 3
   },
   "file_extension": ".py",
   "mimetype": "text/x-python",
   "name": "python",
   "nbconvert_exporter": "python",
   "pygments_lexer": "ipython3",
   "version": "3.6.5"
  }
 },
 "nbformat": 4,
 "nbformat_minor": 2
}
