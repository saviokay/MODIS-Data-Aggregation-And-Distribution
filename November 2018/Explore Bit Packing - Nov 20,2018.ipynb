{
 "cells": [
  {
   "cell_type": "code",
   "execution_count": null,
   "metadata": {},
   "outputs": [],
   "source": [
    "!pip install xarray\n",
    "!"
   ]
  },
  {
   "cell_type": "code",
   "execution_count": 1,
   "metadata": {},
   "outputs": [],
   "source": [
    "import pandas as pd\n",
    "import numpy as np\n",
    "import xarray as xr\n",
    "from netCDF4 import Dataset"
   ]
  },
  {
   "cell_type": "code",
   "execution_count": 2,
   "metadata": {},
   "outputs": [
    {
     "name": "stdout",
     "output_type": "stream",
     "text": [
      "/Users/saviosebastian/Documents/Project/CMAC/MYD03.A2002185.0000.061.2017362174430.hdf\n",
      "/Users/saviosebastian/Documents/Project/CMAC/MYD06_L2.A2002185.0000.061.2018003215042.hdf\n"
     ]
    }
   ],
   "source": [
    "mod03_name = '/Users/saviosebastian/Documents/Project/CMAC/MYD03.A2002185.0000.061.2017362174430.hdf'\n",
    "mod06_name = '/Users/saviosebastian/Documents/Project/CMAC/MYD06_L2.A2002185.0000.061.2018003215042.hdf'\n",
    "print(mod03_name)\n",
    "print(mod06_name)"
   ]
  },
  {
   "cell_type": "code",
   "execution_count": 3,
   "metadata": {},
   "outputs": [],
   "source": [
    "rootgrp = Dataset(mod03_name, \"r\", format=\"NETCDF3\")\n",
    "latitude = rootgrp.variables[\"Latitude\"][:,:] \n",
    "longitude = rootgrp.variables[\"Longitude\"][:,:]"
   ]
  },
  {
   "cell_type": "code",
   "execution_count": 4,
   "metadata": {},
   "outputs": [
    {
     "data": {
      "text/plain": [
       "masked_array(\n",
       "  data=[[[--, --],\n",
       "         [--, --],\n",
       "         [--, --],\n",
       "         ...,\n",
       "         [--, --],\n",
       "         [--, --],\n",
       "         [--, --]],\n",
       "\n",
       "        [[--, --],\n",
       "         [--, --],\n",
       "         [--, --],\n",
       "         ...,\n",
       "         [--, --],\n",
       "         [--, --],\n",
       "         [--, --]],\n",
       "\n",
       "        [[--, --],\n",
       "         [--, --],\n",
       "         [--, --],\n",
       "         ...,\n",
       "         [--, --],\n",
       "         [--, --],\n",
       "         [--, --]],\n",
       "\n",
       "        ...,\n",
       "\n",
       "        [[--, --],\n",
       "         [--, --],\n",
       "         [--, --],\n",
       "         ...,\n",
       "         [--, --],\n",
       "         [--, --],\n",
       "         [--, --]],\n",
       "\n",
       "        [[--, --],\n",
       "         [--, --],\n",
       "         [--, --],\n",
       "         ...,\n",
       "         [--, --],\n",
       "         [--, --],\n",
       "         [--, --]],\n",
       "\n",
       "        [[--, --],\n",
       "         [--, --],\n",
       "         [--, --],\n",
       "         ...,\n",
       "         [--, --],\n",
       "         [--, --],\n",
       "         [--, --]]],\n",
       "  mask=[[[ True,  True],\n",
       "         [ True,  True],\n",
       "         [ True,  True],\n",
       "         ...,\n",
       "         [ True,  True],\n",
       "         [ True,  True],\n",
       "         [ True,  True]],\n",
       "\n",
       "        [[ True,  True],\n",
       "         [ True,  True],\n",
       "         [ True,  True],\n",
       "         ...,\n",
       "         [ True,  True],\n",
       "         [ True,  True],\n",
       "         [ True,  True]],\n",
       "\n",
       "        [[ True,  True],\n",
       "         [ True,  True],\n",
       "         [ True,  True],\n",
       "         ...,\n",
       "         [ True,  True],\n",
       "         [ True,  True],\n",
       "         [ True,  True]],\n",
       "\n",
       "        ...,\n",
       "\n",
       "        [[ True,  True],\n",
       "         [ True,  True],\n",
       "         [ True,  True],\n",
       "         ...,\n",
       "         [ True,  True],\n",
       "         [ True,  True],\n",
       "         [ True,  True]],\n",
       "\n",
       "        [[ True,  True],\n",
       "         [ True,  True],\n",
       "         [ True,  True],\n",
       "         ...,\n",
       "         [ True,  True],\n",
       "         [ True,  True],\n",
       "         [ True,  True]],\n",
       "\n",
       "        [[ True,  True],\n",
       "         [ True,  True],\n",
       "         [ True,  True],\n",
       "         ...,\n",
       "         [ True,  True],\n",
       "         [ True,  True],\n",
       "         [ True,  True]]],\n",
       "  fill_value=0,\n",
       "  dtype=int8)"
      ]
     },
     "execution_count": 4,
     "metadata": {},
     "output_type": "execute_result"
    }
   ],
   "source": [
    "rootgrp1 = Dataset(mod06_name, \"r\", format=\"NETCDF3\")\n",
    "cloud_mask_allbytes = rootgrp1.variables[\"Cloud_Mask_1km\"][:,:,:] \n",
    "cloud_mask_allbytes"
   ]
  },
  {
   "cell_type": "code",
   "execution_count": 5,
   "metadata": {},
   "outputs": [
    {
     "data": {
      "text/plain": [
       "masked_array(data=[],\n",
       "             mask=[],\n",
       "       fill_value=0,\n",
       "            dtype=int8)"
      ]
     },
     "execution_count": 5,
     "metadata": {},
     "output_type": "execute_result"
    }
   ],
   "source": [
    "cloud_mask_allbytes[~cloud_mask_allbytes.mask][:]"
   ]
  },
  {
   "cell_type": "code",
   "execution_count": 6,
   "metadata": {},
   "outputs": [
    {
     "name": "stdout",
     "output_type": "stream",
     "text": [
      "/Users/saviosebastian/Documents/Project/CMAC/Files/MYD06_L2.A2016008.0000.061.2018059051528.hdf\n"
     ]
    },
    {
     "data": {
      "text/plain": [
       "masked_array(\n",
       "  data=[[[--, --],\n",
       "         [--, --],\n",
       "         [--, --],\n",
       "         ...,\n",
       "         [--, --],\n",
       "         [--, --],\n",
       "         [--, --]],\n",
       "\n",
       "        [[--, --],\n",
       "         [--, --],\n",
       "         [--, --],\n",
       "         ...,\n",
       "         [--, --],\n",
       "         [--, --],\n",
       "         [--, --]],\n",
       "\n",
       "        [[--, --],\n",
       "         [--, --],\n",
       "         [--, --],\n",
       "         ...,\n",
       "         [--, --],\n",
       "         [--, --],\n",
       "         [--, --]],\n",
       "\n",
       "        ...,\n",
       "\n",
       "        [[--, --],\n",
       "         [--, --],\n",
       "         [--, --],\n",
       "         ...,\n",
       "         [--, --],\n",
       "         [--, --],\n",
       "         [--, --]],\n",
       "\n",
       "        [[--, --],\n",
       "         [--, --],\n",
       "         [--, --],\n",
       "         ...,\n",
       "         [--, --],\n",
       "         [--, --],\n",
       "         [--, --]],\n",
       "\n",
       "        [[--, --],\n",
       "         [--, --],\n",
       "         [--, --],\n",
       "         ...,\n",
       "         [--, --],\n",
       "         [--, --],\n",
       "         [--, --]]],\n",
       "  mask=[[[ True,  True],\n",
       "         [ True,  True],\n",
       "         [ True,  True],\n",
       "         ...,\n",
       "         [ True,  True],\n",
       "         [ True,  True],\n",
       "         [ True,  True]],\n",
       "\n",
       "        [[ True,  True],\n",
       "         [ True,  True],\n",
       "         [ True,  True],\n",
       "         ...,\n",
       "         [ True,  True],\n",
       "         [ True,  True],\n",
       "         [ True,  True]],\n",
       "\n",
       "        [[ True,  True],\n",
       "         [ True,  True],\n",
       "         [ True,  True],\n",
       "         ...,\n",
       "         [ True,  True],\n",
       "         [ True,  True],\n",
       "         [ True,  True]],\n",
       "\n",
       "        ...,\n",
       "\n",
       "        [[ True,  True],\n",
       "         [ True,  True],\n",
       "         [ True,  True],\n",
       "         ...,\n",
       "         [ True,  True],\n",
       "         [ True,  True],\n",
       "         [ True,  True]],\n",
       "\n",
       "        [[ True,  True],\n",
       "         [ True,  True],\n",
       "         [ True,  True],\n",
       "         ...,\n",
       "         [ True,  True],\n",
       "         [ True,  True],\n",
       "         [ True,  True]],\n",
       "\n",
       "        [[ True,  True],\n",
       "         [ True,  True],\n",
       "         [ True,  True],\n",
       "         ...,\n",
       "         [ True,  True],\n",
       "         [ True,  True],\n",
       "         [ True,  True]]],\n",
       "  fill_value=0,\n",
       "  dtype=int8)"
      ]
     },
     "execution_count": 6,
     "metadata": {},
     "output_type": "execute_result"
    }
   ],
   "source": [
    "mod06_name2 = '/Users/saviosebastian/Documents/Project/CMAC/Files/MYD06_L2.A2008013.0405.006.2013342064735.hdf'\n",
    "print(mod06_name)\n",
    "rootgrp2 = Dataset(mod06_name2, \"r\", format=\"NETCDF3\")\n",
    "cloud_mask_allbytes = rootgrp2.variables[\"Cloud_Mask_1km\"][:,:,:] \n",
    "cloud_mask_allbytes"
   ]
  },
  {
   "cell_type": "code",
   "execution_count": 6,
   "metadata": {},
   "outputs": [
    {
     "name": "stdout",
     "output_type": "stream",
     "text": [
      "/Users/saviosebastian/Documents/Project/CMAC/Files/MYD06_L2.A2008013.0440.006.2013342071607.hdf\n"
     ]
    },
    {
     "data": {
      "text/plain": [
       "masked_array(\n",
       "  data=[[--, --, --, ..., --, --, --],\n",
       "        [--, --, --, ..., --, --, --],\n",
       "        [--, --, --, ..., --, --, --],\n",
       "        ...,\n",
       "        [--, --, --, ..., --, --, --],\n",
       "        [--, --, --, ..., --, --, --],\n",
       "        [--, --, --, ..., --, --, --]],\n",
       "  mask=[[ True,  True,  True, ...,  True,  True,  True],\n",
       "        [ True,  True,  True, ...,  True,  True,  True],\n",
       "        [ True,  True,  True, ...,  True,  True,  True],\n",
       "        ...,\n",
       "        [ True,  True,  True, ...,  True,  True,  True],\n",
       "        [ True,  True,  True, ...,  True,  True,  True],\n",
       "        [ True,  True,  True, ...,  True,  True,  True]],\n",
       "  fill_value=0,\n",
       "  dtype=int8)"
      ]
     },
     "execution_count": 6,
     "metadata": {},
     "output_type": "execute_result"
    }
   ],
   "source": [
    "mod06_name3 = '/Users/saviosebastian/Documents/Project/CMAC/Files/MYD06_L2.A2008013.0440.006.2013342071607.hdf'\n",
    "print(mod06_name3)\n",
    "rootgrp3 = Dataset(mod06_name3, \"r\", format=\"NETCDF3\")\n",
    "cloud_mask_allbytes = rootgrp3.variables[\"Cloud_Mask_1km\"][:,:,:] \n",
    "cloud_mask_allbytes\n",
    "CM1km = rootgrp3.variables[\"Cloud_Mask_1km\"][:,:,0]\n",
    "CM1km"
   ]
  },
  {
   "cell_type": "code",
   "execution_count": 8,
   "metadata": {},
   "outputs": [
    {
     "data": {
      "text/plain": [
       "masked_array(\n",
       "  data=[[--, --, --, ..., --, --, --],\n",
       "        [--, --, --, ..., --, --, --],\n",
       "        [--, --, --, ..., --, --, --],\n",
       "        ...,\n",
       "        [--, --, --, ..., --, --, --],\n",
       "        [--, --, --, ..., --, --, --],\n",
       "        [--, --, --, ..., --, --, --]],\n",
       "  mask=[[ True,  True,  True, ...,  True,  True,  True],\n",
       "        [ True,  True,  True, ...,  True,  True,  True],\n",
       "        [ True,  True,  True, ...,  True,  True,  True],\n",
       "        ...,\n",
       "        [ True,  True,  True, ...,  True,  True,  True],\n",
       "        [ True,  True,  True, ...,  True,  True,  True],\n",
       "        [ True,  True,  True, ...,  True,  True,  True]],\n",
       "  fill_value=0,\n",
       "  dtype=int8)"
      ]
     },
     "execution_count": 8,
     "metadata": {},
     "output_type": "execute_result"
    }
   ],
   "source": [
    "CM1km"
   ]
  },
  {
   "cell_type": "code",
   "execution_count": 9,
   "metadata": {},
   "outputs": [],
   "source": [
    "CM1Km2 = rootgrp1.variables[\"Cloud_Mask_1km\"][:,:,0] "
   ]
  },
  {
   "cell_type": "code",
   "execution_count": 10,
   "metadata": {},
   "outputs": [
    {
     "data": {
      "text/plain": [
       "masked_array(\n",
       "  data=[[--, --, --, ..., --, --, --],\n",
       "        [--, --, --, ..., --, --, --],\n",
       "        [--, --, --, ..., --, --, --],\n",
       "        ...,\n",
       "        [--, --, --, ..., --, --, --],\n",
       "        [--, --, --, ..., --, --, --],\n",
       "        [--, --, --, ..., --, --, --]],\n",
       "  mask=[[ True,  True,  True, ...,  True,  True,  True],\n",
       "        [ True,  True,  True, ...,  True,  True,  True],\n",
       "        [ True,  True,  True, ...,  True,  True,  True],\n",
       "        ...,\n",
       "        [ True,  True,  True, ...,  True,  True,  True],\n",
       "        [ True,  True,  True, ...,  True,  True,  True],\n",
       "        [ True,  True,  True, ...,  True,  True,  True]],\n",
       "  fill_value=0,\n",
       "  dtype=int8)"
      ]
     },
     "execution_count": 10,
     "metadata": {},
     "output_type": "execute_result"
    }
   ],
   "source": [
    "CM1Km2"
   ]
  },
  {
   "cell_type": "code",
   "execution_count": null,
   "metadata": {},
   "outputs": [],
   "source": []
  }
 ],
 "metadata": {
  "kernelspec": {
   "display_name": "Python 3",
   "language": "python",
   "name": "python3"
  },
  "language_info": {
   "codemirror_mode": {
    "name": "ipython",
    "version": 3
   },
   "file_extension": ".py",
   "mimetype": "text/x-python",
   "name": "python",
   "nbconvert_exporter": "python",
   "pygments_lexer": "ipython3",
   "version": "3.7.0"
  }
 },
 "nbformat": 4,
 "nbformat_minor": 2
}
